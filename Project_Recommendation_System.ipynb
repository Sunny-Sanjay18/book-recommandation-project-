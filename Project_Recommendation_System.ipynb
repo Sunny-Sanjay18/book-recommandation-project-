{
 "cells": [
  {
   "cell_type": "markdown",
   "id": "b4eafa3a",
   "metadata": {},
   "source": [
    "# Recommendation System\n",
    "During the last few decades, with the rise of Youtube, Amazon, Netflix, and many other such web services, recommender systems have taken more and more place in our lives. From e-commerce (suggest to buyers articles that could interest them) to online advertisement (suggest to users the right contents, matching their preferences), recommender systems are today unavoidable in our daily online journeys.\n",
    "\n",
    "In a very general way, recommender systems are algorithms aimed at suggesting relevant items to users (items being movies to watch, text to read, products to buy, or anything else depending on industries). Recommender systems are really critical in some industries as they can generate a huge amount of income when they are efficient or also be a way to stand out significantly from competitors. "
   ]
  },
  {
   "cell_type": "markdown",
   "id": "b63ccce7",
   "metadata": {},
   "source": [
    "## Book recommendation system\n",
    "A book recommendation system is a type of algorithmic tool designed to suggest books to users based on their preferences, reading history, and other relevant factors. These systems utilize various techniques such as collaborative filtering, content-based filtering, and hybrid approaches to generate personalized recommendations. By analyzing user data and book characteristics, recommendation systems aim to enhance the user experience by helping individuals discover new books that align with their interests and tastes."
   ]
  },
  {
   "cell_type": "markdown",
   "id": "b12fe96f",
   "metadata": {},
   "source": [
    "### Content\n",
    "The Book-Crossing dataset comprises three files\n",
    "\n",
    "+ **Users**\n",
    "\n",
    "Contains the users. Note that user IDs (User-ID) have been anonymized and map to integers. Demographic data is provided (Location, Age) if available. Otherwise, these fields contain NULL values.\n",
    "\n",
    "+ **Books**\n",
    "\n",
    "Books are identified by their respective ISBN. Invalid ISBNs have already been removed from the dataset. Moreover, some content-based information is given (Book-Title, Book-Author, Year-Of-Publication, Publisher), obtained from Amazon Web Services. Note that in the case of several authors, only the first is provided. URLs linking to cover images are also given, appearing in three different flavors (Image-URL-S, Image-URL-M, Image-URL-L), i.e., small, medium, large. These URLs point to the Amazon website.\n",
    "\n",
    "+ **Ratings**\n",
    "\n",
    "Contains the book rating information. Ratings (Book-Rating) are either explicit, expressed on a scale from 1-10 (higher values denoting higher appreciation), or implicit, expressed by 0."
   ]
  },
  {
   "cell_type": "code",
   "execution_count": 1,
   "id": "335dc3a2",
   "metadata": {},
   "outputs": [],
   "source": [
    "import numpy as np \n",
    "import pandas as pd \n",
    "import matplotlib.pyplot as plt\n",
    "import seaborn as sns"
   ]
  },
  {
   "cell_type": "markdown",
   "id": "374cc2f0",
   "metadata": {},
   "source": [
    "#### Book Dataset"
   ]
  },
  {
   "cell_type": "code",
   "execution_count": 2,
   "id": "4f361908",
   "metadata": {},
   "outputs": [
    {
     "name": "stderr",
     "output_type": "stream",
     "text": [
      "C:\\Users\\Linta Stephen\\AppData\\Local\\Temp\\ipykernel_11492\\2185158914.py:1: DtypeWarning: Columns (3) have mixed types. Specify dtype option on import or set low_memory=False.\n",
      "  Book=pd.read_csv('Books.csv')\n"
     ]
    },
    {
     "data": {
      "text/html": [
       "<div>\n",
       "<style scoped>\n",
       "    .dataframe tbody tr th:only-of-type {\n",
       "        vertical-align: middle;\n",
       "    }\n",
       "\n",
       "    .dataframe tbody tr th {\n",
       "        vertical-align: top;\n",
       "    }\n",
       "\n",
       "    .dataframe thead th {\n",
       "        text-align: right;\n",
       "    }\n",
       "</style>\n",
       "<table border=\"1\" class=\"dataframe\">\n",
       "  <thead>\n",
       "    <tr style=\"text-align: right;\">\n",
       "      <th></th>\n",
       "      <th>ISBN</th>\n",
       "      <th>Book-Title</th>\n",
       "      <th>Book-Author</th>\n",
       "      <th>Year-Of-Publication</th>\n",
       "      <th>Publisher</th>\n",
       "      <th>Image-URL-S</th>\n",
       "      <th>Image-URL-M</th>\n",
       "      <th>Image-URL-L</th>\n",
       "    </tr>\n",
       "  </thead>\n",
       "  <tbody>\n",
       "    <tr>\n",
       "      <th>0</th>\n",
       "      <td>0195153448</td>\n",
       "      <td>Classical Mythology</td>\n",
       "      <td>Mark P. O. Morford</td>\n",
       "      <td>2002</td>\n",
       "      <td>Oxford University Press</td>\n",
       "      <td>http://images.amazon.com/images/P/0195153448.0...</td>\n",
       "      <td>http://images.amazon.com/images/P/0195153448.0...</td>\n",
       "      <td>http://images.amazon.com/images/P/0195153448.0...</td>\n",
       "    </tr>\n",
       "    <tr>\n",
       "      <th>1</th>\n",
       "      <td>0002005018</td>\n",
       "      <td>Clara Callan</td>\n",
       "      <td>Richard Bruce Wright</td>\n",
       "      <td>2001</td>\n",
       "      <td>HarperFlamingo Canada</td>\n",
       "      <td>http://images.amazon.com/images/P/0002005018.0...</td>\n",
       "      <td>http://images.amazon.com/images/P/0002005018.0...</td>\n",
       "      <td>http://images.amazon.com/images/P/0002005018.0...</td>\n",
       "    </tr>\n",
       "    <tr>\n",
       "      <th>2</th>\n",
       "      <td>0060973129</td>\n",
       "      <td>Decision in Normandy</td>\n",
       "      <td>Carlo D'Este</td>\n",
       "      <td>1991</td>\n",
       "      <td>HarperPerennial</td>\n",
       "      <td>http://images.amazon.com/images/P/0060973129.0...</td>\n",
       "      <td>http://images.amazon.com/images/P/0060973129.0...</td>\n",
       "      <td>http://images.amazon.com/images/P/0060973129.0...</td>\n",
       "    </tr>\n",
       "    <tr>\n",
       "      <th>3</th>\n",
       "      <td>0374157065</td>\n",
       "      <td>Flu: The Story of the Great Influenza Pandemic...</td>\n",
       "      <td>Gina Bari Kolata</td>\n",
       "      <td>1999</td>\n",
       "      <td>Farrar Straus Giroux</td>\n",
       "      <td>http://images.amazon.com/images/P/0374157065.0...</td>\n",
       "      <td>http://images.amazon.com/images/P/0374157065.0...</td>\n",
       "      <td>http://images.amazon.com/images/P/0374157065.0...</td>\n",
       "    </tr>\n",
       "    <tr>\n",
       "      <th>4</th>\n",
       "      <td>0393045218</td>\n",
       "      <td>The Mummies of Urumchi</td>\n",
       "      <td>E. J. W. Barber</td>\n",
       "      <td>1999</td>\n",
       "      <td>W. W. Norton &amp;amp; Company</td>\n",
       "      <td>http://images.amazon.com/images/P/0393045218.0...</td>\n",
       "      <td>http://images.amazon.com/images/P/0393045218.0...</td>\n",
       "      <td>http://images.amazon.com/images/P/0393045218.0...</td>\n",
       "    </tr>\n",
       "  </tbody>\n",
       "</table>\n",
       "</div>"
      ],
      "text/plain": [
       "         ISBN                                         Book-Title  \\\n",
       "0  0195153448                                Classical Mythology   \n",
       "1  0002005018                                       Clara Callan   \n",
       "2  0060973129                               Decision in Normandy   \n",
       "3  0374157065  Flu: The Story of the Great Influenza Pandemic...   \n",
       "4  0393045218                             The Mummies of Urumchi   \n",
       "\n",
       "            Book-Author Year-Of-Publication                   Publisher  \\\n",
       "0    Mark P. O. Morford                2002     Oxford University Press   \n",
       "1  Richard Bruce Wright                2001       HarperFlamingo Canada   \n",
       "2          Carlo D'Este                1991             HarperPerennial   \n",
       "3      Gina Bari Kolata                1999        Farrar Straus Giroux   \n",
       "4       E. J. W. Barber                1999  W. W. Norton &amp; Company   \n",
       "\n",
       "                                         Image-URL-S  \\\n",
       "0  http://images.amazon.com/images/P/0195153448.0...   \n",
       "1  http://images.amazon.com/images/P/0002005018.0...   \n",
       "2  http://images.amazon.com/images/P/0060973129.0...   \n",
       "3  http://images.amazon.com/images/P/0374157065.0...   \n",
       "4  http://images.amazon.com/images/P/0393045218.0...   \n",
       "\n",
       "                                         Image-URL-M  \\\n",
       "0  http://images.amazon.com/images/P/0195153448.0...   \n",
       "1  http://images.amazon.com/images/P/0002005018.0...   \n",
       "2  http://images.amazon.com/images/P/0060973129.0...   \n",
       "3  http://images.amazon.com/images/P/0374157065.0...   \n",
       "4  http://images.amazon.com/images/P/0393045218.0...   \n",
       "\n",
       "                                         Image-URL-L  \n",
       "0  http://images.amazon.com/images/P/0195153448.0...  \n",
       "1  http://images.amazon.com/images/P/0002005018.0...  \n",
       "2  http://images.amazon.com/images/P/0060973129.0...  \n",
       "3  http://images.amazon.com/images/P/0374157065.0...  \n",
       "4  http://images.amazon.com/images/P/0393045218.0...  "
      ]
     },
     "execution_count": 2,
     "metadata": {},
     "output_type": "execute_result"
    }
   ],
   "source": [
    "Book=pd.read_csv('Books.csv')\n",
    "Book.head()"
   ]
  },
  {
   "cell_type": "code",
   "execution_count": 3,
   "id": "466ff7f9",
   "metadata": {},
   "outputs": [
    {
     "data": {
      "text/plain": [
       "(271360, 8)"
      ]
     },
     "execution_count": 3,
     "metadata": {},
     "output_type": "execute_result"
    }
   ],
   "source": [
    "Book.shape"
   ]
  },
  {
   "cell_type": "markdown",
   "id": "6a5031d0",
   "metadata": {},
   "source": [
    "There are 271360 rows and 8 columns"
   ]
  },
  {
   "cell_type": "code",
   "execution_count": 4,
   "id": "32174e43",
   "metadata": {},
   "outputs": [
    {
     "name": "stdout",
     "output_type": "stream",
     "text": [
      "<class 'pandas.core.frame.DataFrame'>\n",
      "RangeIndex: 271360 entries, 0 to 271359\n",
      "Data columns (total 8 columns):\n",
      " #   Column               Non-Null Count   Dtype \n",
      "---  ------               --------------   ----- \n",
      " 0   ISBN                 271360 non-null  object\n",
      " 1   Book-Title           271360 non-null  object\n",
      " 2   Book-Author          271359 non-null  object\n",
      " 3   Year-Of-Publication  271360 non-null  object\n",
      " 4   Publisher            271358 non-null  object\n",
      " 5   Image-URL-S          271360 non-null  object\n",
      " 6   Image-URL-M          271360 non-null  object\n",
      " 7   Image-URL-L          271357 non-null  object\n",
      "dtypes: object(8)\n",
      "memory usage: 16.6+ MB\n"
     ]
    }
   ],
   "source": [
    "Book.info()"
   ]
  },
  {
   "cell_type": "code",
   "execution_count": 5,
   "id": "ef0b48f5",
   "metadata": {},
   "outputs": [
    {
     "data": {
      "text/plain": [
       "ISBN                   0\n",
       "Book-Title             0\n",
       "Book-Author            1\n",
       "Year-Of-Publication    0\n",
       "Publisher              2\n",
       "Image-URL-S            0\n",
       "Image-URL-M            0\n",
       "Image-URL-L            3\n",
       "dtype: int64"
      ]
     },
     "execution_count": 5,
     "metadata": {},
     "output_type": "execute_result"
    }
   ],
   "source": [
    "Book.isnull().sum()"
   ]
  },
  {
   "cell_type": "markdown",
   "id": "17cf9333",
   "metadata": {},
   "source": [
    "While checking for the missing values we've find that \"Book-Author\",\"Publisher\" & \"Image-URL-L\" columns have missing values.We are checking further more about it."
   ]
  },
  {
   "cell_type": "code",
   "execution_count": 6,
   "id": "72a4ccab",
   "metadata": {},
   "outputs": [
    {
     "data": {
      "text/html": [
       "<div>\n",
       "<style scoped>\n",
       "    .dataframe tbody tr th:only-of-type {\n",
       "        vertical-align: middle;\n",
       "    }\n",
       "\n",
       "    .dataframe tbody tr th {\n",
       "        vertical-align: top;\n",
       "    }\n",
       "\n",
       "    .dataframe thead th {\n",
       "        text-align: right;\n",
       "    }\n",
       "</style>\n",
       "<table border=\"1\" class=\"dataframe\">\n",
       "  <thead>\n",
       "    <tr style=\"text-align: right;\">\n",
       "      <th></th>\n",
       "      <th>ISBN</th>\n",
       "      <th>Book-Title</th>\n",
       "      <th>Book-Author</th>\n",
       "      <th>Year-Of-Publication</th>\n",
       "      <th>Publisher</th>\n",
       "      <th>Image-URL-S</th>\n",
       "      <th>Image-URL-M</th>\n",
       "      <th>Image-URL-L</th>\n",
       "    </tr>\n",
       "  </thead>\n",
       "  <tbody>\n",
       "    <tr>\n",
       "      <th>187689</th>\n",
       "      <td>9627982032</td>\n",
       "      <td>The Credit Suisse Guide to Managing Your Perso...</td>\n",
       "      <td>NaN</td>\n",
       "      <td>1995</td>\n",
       "      <td>Edinburgh Financial Publishing</td>\n",
       "      <td>http://images.amazon.com/images/P/9627982032.0...</td>\n",
       "      <td>http://images.amazon.com/images/P/9627982032.0...</td>\n",
       "      <td>http://images.amazon.com/images/P/9627982032.0...</td>\n",
       "    </tr>\n",
       "  </tbody>\n",
       "</table>\n",
       "</div>"
      ],
      "text/plain": [
       "              ISBN                                         Book-Title  \\\n",
       "187689  9627982032  The Credit Suisse Guide to Managing Your Perso...   \n",
       "\n",
       "       Book-Author Year-Of-Publication                       Publisher  \\\n",
       "187689         NaN                1995  Edinburgh Financial Publishing   \n",
       "\n",
       "                                              Image-URL-S  \\\n",
       "187689  http://images.amazon.com/images/P/9627982032.0...   \n",
       "\n",
       "                                              Image-URL-M  \\\n",
       "187689  http://images.amazon.com/images/P/9627982032.0...   \n",
       "\n",
       "                                              Image-URL-L  \n",
       "187689  http://images.amazon.com/images/P/9627982032.0...  "
      ]
     },
     "execution_count": 6,
     "metadata": {},
     "output_type": "execute_result"
    }
   ],
   "source": [
    "Book[Book['Book-Author'].isna()]"
   ]
  },
  {
   "cell_type": "code",
   "execution_count": 7,
   "id": "26630256",
   "metadata": {},
   "outputs": [
    {
     "data": {
      "text/html": [
       "<div>\n",
       "<style scoped>\n",
       "    .dataframe tbody tr th:only-of-type {\n",
       "        vertical-align: middle;\n",
       "    }\n",
       "\n",
       "    .dataframe tbody tr th {\n",
       "        vertical-align: top;\n",
       "    }\n",
       "\n",
       "    .dataframe thead th {\n",
       "        text-align: right;\n",
       "    }\n",
       "</style>\n",
       "<table border=\"1\" class=\"dataframe\">\n",
       "  <thead>\n",
       "    <tr style=\"text-align: right;\">\n",
       "      <th></th>\n",
       "      <th>ISBN</th>\n",
       "      <th>Book-Title</th>\n",
       "      <th>Book-Author</th>\n",
       "      <th>Year-Of-Publication</th>\n",
       "      <th>Publisher</th>\n",
       "      <th>Image-URL-S</th>\n",
       "      <th>Image-URL-M</th>\n",
       "      <th>Image-URL-L</th>\n",
       "    </tr>\n",
       "  </thead>\n",
       "  <tbody>\n",
       "    <tr>\n",
       "      <th>128890</th>\n",
       "      <td>193169656X</td>\n",
       "      <td>Tyrant Moon</td>\n",
       "      <td>Elaine Corvidae</td>\n",
       "      <td>2002</td>\n",
       "      <td>NaN</td>\n",
       "      <td>http://images.amazon.com/images/P/193169656X.0...</td>\n",
       "      <td>http://images.amazon.com/images/P/193169656X.0...</td>\n",
       "      <td>http://images.amazon.com/images/P/193169656X.0...</td>\n",
       "    </tr>\n",
       "    <tr>\n",
       "      <th>129037</th>\n",
       "      <td>1931696993</td>\n",
       "      <td>Finders Keepers</td>\n",
       "      <td>Linnea Sinclair</td>\n",
       "      <td>2001</td>\n",
       "      <td>NaN</td>\n",
       "      <td>http://images.amazon.com/images/P/1931696993.0...</td>\n",
       "      <td>http://images.amazon.com/images/P/1931696993.0...</td>\n",
       "      <td>http://images.amazon.com/images/P/1931696993.0...</td>\n",
       "    </tr>\n",
       "  </tbody>\n",
       "</table>\n",
       "</div>"
      ],
      "text/plain": [
       "              ISBN       Book-Title      Book-Author Year-Of-Publication  \\\n",
       "128890  193169656X      Tyrant Moon  Elaine Corvidae                2002   \n",
       "129037  1931696993  Finders Keepers  Linnea Sinclair                2001   \n",
       "\n",
       "       Publisher                                        Image-URL-S  \\\n",
       "128890       NaN  http://images.amazon.com/images/P/193169656X.0...   \n",
       "129037       NaN  http://images.amazon.com/images/P/1931696993.0...   \n",
       "\n",
       "                                              Image-URL-M  \\\n",
       "128890  http://images.amazon.com/images/P/193169656X.0...   \n",
       "129037  http://images.amazon.com/images/P/1931696993.0...   \n",
       "\n",
       "                                              Image-URL-L  \n",
       "128890  http://images.amazon.com/images/P/193169656X.0...  \n",
       "129037  http://images.amazon.com/images/P/1931696993.0...  "
      ]
     },
     "execution_count": 7,
     "metadata": {},
     "output_type": "execute_result"
    }
   ],
   "source": [
    "Book[Book['Publisher'].isna()]"
   ]
  },
  {
   "cell_type": "code",
   "execution_count": 8,
   "id": "002c6eae",
   "metadata": {},
   "outputs": [
    {
     "data": {
      "text/html": [
       "<div>\n",
       "<style scoped>\n",
       "    .dataframe tbody tr th:only-of-type {\n",
       "        vertical-align: middle;\n",
       "    }\n",
       "\n",
       "    .dataframe tbody tr th {\n",
       "        vertical-align: top;\n",
       "    }\n",
       "\n",
       "    .dataframe thead th {\n",
       "        text-align: right;\n",
       "    }\n",
       "</style>\n",
       "<table border=\"1\" class=\"dataframe\">\n",
       "  <thead>\n",
       "    <tr style=\"text-align: right;\">\n",
       "      <th></th>\n",
       "      <th>ISBN</th>\n",
       "      <th>Book-Title</th>\n",
       "      <th>Book-Author</th>\n",
       "      <th>Year-Of-Publication</th>\n",
       "      <th>Publisher</th>\n",
       "      <th>Image-URL-S</th>\n",
       "      <th>Image-URL-M</th>\n",
       "      <th>Image-URL-L</th>\n",
       "    </tr>\n",
       "  </thead>\n",
       "  <tbody>\n",
       "    <tr>\n",
       "      <th>209538</th>\n",
       "      <td>078946697X</td>\n",
       "      <td>DK Readers: Creating the X-Men, How It All Beg...</td>\n",
       "      <td>2000</td>\n",
       "      <td>DK Publishing Inc</td>\n",
       "      <td>http://images.amazon.com/images/P/078946697X.0...</td>\n",
       "      <td>http://images.amazon.com/images/P/078946697X.0...</td>\n",
       "      <td>http://images.amazon.com/images/P/078946697X.0...</td>\n",
       "      <td>NaN</td>\n",
       "    </tr>\n",
       "    <tr>\n",
       "      <th>220731</th>\n",
       "      <td>2070426769</td>\n",
       "      <td>Peuple du ciel, suivi de 'Les Bergers\\\";Jean-M...</td>\n",
       "      <td>2003</td>\n",
       "      <td>Gallimard</td>\n",
       "      <td>http://images.amazon.com/images/P/2070426769.0...</td>\n",
       "      <td>http://images.amazon.com/images/P/2070426769.0...</td>\n",
       "      <td>http://images.amazon.com/images/P/2070426769.0...</td>\n",
       "      <td>NaN</td>\n",
       "    </tr>\n",
       "    <tr>\n",
       "      <th>221678</th>\n",
       "      <td>0789466953</td>\n",
       "      <td>DK Readers: Creating the X-Men, How Comic Book...</td>\n",
       "      <td>2000</td>\n",
       "      <td>DK Publishing Inc</td>\n",
       "      <td>http://images.amazon.com/images/P/0789466953.0...</td>\n",
       "      <td>http://images.amazon.com/images/P/0789466953.0...</td>\n",
       "      <td>http://images.amazon.com/images/P/0789466953.0...</td>\n",
       "      <td>NaN</td>\n",
       "    </tr>\n",
       "  </tbody>\n",
       "</table>\n",
       "</div>"
      ],
      "text/plain": [
       "              ISBN                                         Book-Title  \\\n",
       "209538  078946697X  DK Readers: Creating the X-Men, How It All Beg...   \n",
       "220731  2070426769  Peuple du ciel, suivi de 'Les Bergers\\\";Jean-M...   \n",
       "221678  0789466953  DK Readers: Creating the X-Men, How Comic Book...   \n",
       "\n",
       "       Book-Author Year-Of-Publication  \\\n",
       "209538        2000   DK Publishing Inc   \n",
       "220731        2003           Gallimard   \n",
       "221678        2000   DK Publishing Inc   \n",
       "\n",
       "                                                Publisher  \\\n",
       "209538  http://images.amazon.com/images/P/078946697X.0...   \n",
       "220731  http://images.amazon.com/images/P/2070426769.0...   \n",
       "221678  http://images.amazon.com/images/P/0789466953.0...   \n",
       "\n",
       "                                              Image-URL-S  \\\n",
       "209538  http://images.amazon.com/images/P/078946697X.0...   \n",
       "220731  http://images.amazon.com/images/P/2070426769.0...   \n",
       "221678  http://images.amazon.com/images/P/0789466953.0...   \n",
       "\n",
       "                                              Image-URL-M Image-URL-L  \n",
       "209538  http://images.amazon.com/images/P/078946697X.0...         NaN  \n",
       "220731  http://images.amazon.com/images/P/2070426769.0...         NaN  \n",
       "221678  http://images.amazon.com/images/P/0789466953.0...         NaN  "
      ]
     },
     "execution_count": 8,
     "metadata": {},
     "output_type": "execute_result"
    }
   ],
   "source": [
    "Book[Book['Image-URL-L'].isna()]"
   ]
  },
  {
   "cell_type": "code",
   "execution_count": 9,
   "id": "ced619aa",
   "metadata": {},
   "outputs": [
    {
     "data": {
      "text/plain": [
       "0"
      ]
     },
     "execution_count": 9,
     "metadata": {},
     "output_type": "execute_result"
    }
   ],
   "source": [
    "Book.duplicated().sum()"
   ]
  },
  {
   "cell_type": "code",
   "execution_count": 10,
   "id": "98b44141",
   "metadata": {
    "scrolled": true
   },
   "outputs": [
    {
     "name": "stdout",
     "output_type": "stream",
     "text": [
      "Unique values of 'ISBN':\n",
      "['0195153448' '0002005018' '0060973129' ... '006008667X' '0192126040'\n",
      " '0767409752']\n",
      "\n",
      "Unique values of 'Book-Title':\n",
      "['Classical Mythology' 'Clara Callan' 'Decision in Normandy' ...\n",
      " 'Lily Dale : The True Story of the Town that Talks to the Dead'\n",
      " \"Republic (World's Classics)\"\n",
      " \"A Guided Tour of Rene Descartes' Meditations on First Philosophy with Complete Translations of the Meditations by Ronald Rubin\"]\n",
      "\n",
      "Unique values of 'Book-Author':\n",
      "['Mark P. O. Morford' 'Richard Bruce Wright' \"Carlo D'Este\" ...\n",
      " 'David Biggs' 'Teri Sloat' 'Christopher  Biffle']\n",
      "\n",
      "Unique values of 'Year-Of-Publication':\n",
      "[2002 2001 1991 1999 2000 1993 1996 1988 2004 1998 1994 2003 1997 1983\n",
      " 1979 1995 1982 1985 1992 1986 1978 1980 1952 1987 1990 1981 1989 1984 0\n",
      " 1968 1961 1958 1974 1976 1971 1977 1975 1965 1941 1970 1962 1973 1972\n",
      " 1960 1966 1920 1956 1959 1953 1951 1942 1963 1964 1969 1954 1950 1967\n",
      " 2005 1957 1940 1937 1955 1946 1936 1930 2011 1925 1948 1943 1947 1945\n",
      " 1923 2020 1939 1926 1938 2030 1911 1904 1949 1932 1928 1929 1927 1931\n",
      " 1914 2050 1934 1910 1933 1902 1924 1921 1900 2038 2026 1944 1917 1901\n",
      " 2010 1908 1906 1935 1806 2021 '2000' '1995' '1999' '2004' '2003' '1990'\n",
      " '1994' '1986' '1989' '2002' '1981' '1993' '1983' '1982' '1976' '1991'\n",
      " '1977' '1998' '1992' '1996' '0' '1997' '2001' '1974' '1968' '1987' '1984'\n",
      " '1988' '1963' '1956' '1970' '1985' '1978' '1973' '1980' '1979' '1975'\n",
      " '1969' '1961' '1965' '1939' '1958' '1950' '1953' '1966' '1971' '1959'\n",
      " '1972' '1955' '1957' '1945' '1960' '1967' '1932' '1924' '1964' '2012'\n",
      " '1911' '1927' '1948' '1962' '2006' '1952' '1940' '1951' '1931' '1954'\n",
      " '2005' '1930' '1941' '1944' 'DK Publishing Inc' '1943' '1938' '1900'\n",
      " '1942' '1923' '1920' '1933' 'Gallimard' '1909' '1946' '2008' '1378'\n",
      " '2030' '1936' '1947' '2011' '2020' '1919' '1949' '1922' '1897' '2024'\n",
      " '1376' '1926' '2037']\n",
      "\n",
      "Unique values of 'Publisher':\n",
      "['Oxford University Press' 'HarperFlamingo Canada' 'HarperPerennial' ...\n",
      " 'Tempo' 'Life Works Books' 'Connaught']\n",
      "\n",
      "Unique values of 'Image-URL-S':\n",
      "['http://images.amazon.com/images/P/0195153448.01.THUMBZZZ.jpg'\n",
      " 'http://images.amazon.com/images/P/0002005018.01.THUMBZZZ.jpg'\n",
      " 'http://images.amazon.com/images/P/0060973129.01.THUMBZZZ.jpg' ...\n",
      " 'http://images.amazon.com/images/P/006008667X.01.THUMBZZZ.jpg'\n",
      " 'http://images.amazon.com/images/P/0192126040.01.THUMBZZZ.jpg'\n",
      " 'http://images.amazon.com/images/P/0767409752.01.THUMBZZZ.jpg']\n",
      "\n",
      "Unique values of 'Image-URL-M':\n",
      "['http://images.amazon.com/images/P/0195153448.01.MZZZZZZZ.jpg'\n",
      " 'http://images.amazon.com/images/P/0002005018.01.MZZZZZZZ.jpg'\n",
      " 'http://images.amazon.com/images/P/0060973129.01.MZZZZZZZ.jpg' ...\n",
      " 'http://images.amazon.com/images/P/006008667X.01.MZZZZZZZ.jpg'\n",
      " 'http://images.amazon.com/images/P/0192126040.01.MZZZZZZZ.jpg'\n",
      " 'http://images.amazon.com/images/P/0767409752.01.MZZZZZZZ.jpg']\n",
      "\n",
      "Unique values of 'Image-URL-L':\n",
      "['http://images.amazon.com/images/P/0195153448.01.LZZZZZZZ.jpg'\n",
      " 'http://images.amazon.com/images/P/0002005018.01.LZZZZZZZ.jpg'\n",
      " 'http://images.amazon.com/images/P/0060973129.01.LZZZZZZZ.jpg' ...\n",
      " 'http://images.amazon.com/images/P/006008667X.01.LZZZZZZZ.jpg'\n",
      " 'http://images.amazon.com/images/P/0192126040.01.LZZZZZZZ.jpg'\n",
      " 'http://images.amazon.com/images/P/0767409752.01.LZZZZZZZ.jpg']\n",
      "\n"
     ]
    }
   ],
   "source": [
    "#Finding unique values in each column\n",
    "for column in Book.columns:\n",
    "    # Get unique values of the column\n",
    "    unique_values=Book[column].unique()\n",
    "    \n",
    "    # Print the column name and its unique values\n",
    "    print(f\"Unique values of '{column}':\")\n",
    "    print(unique_values)\n",
    "    print()"
   ]
  },
  {
   "cell_type": "markdown",
   "id": "4b5b0f7a",
   "metadata": {},
   "source": [
    "Here we can see that there are some entry errors in the \"Year-Of-Publication\" column.So we need to get more information about that entries."
   ]
  },
  {
   "cell_type": "code",
   "execution_count": 11,
   "id": "e87a0292",
   "metadata": {},
   "outputs": [
    {
     "name": "stdout",
     "output_type": "stream",
     "text": [
      "Mismatched values in 'Year-Of-Publication':\n",
      "['DK Publishing Inc' 'Gallimard']\n"
     ]
    }
   ],
   "source": [
    "#Finding the mismatched values\n",
    "mismatched_values=Book[~Book['Year-Of-Publication'].astype(str).str.isdigit()]['Year-Of-Publication'].unique()\n",
    "\n",
    "print(\"Mismatched values in 'Year-Of-Publication':\")\n",
    "print(mismatched_values)"
   ]
  },
  {
   "cell_type": "code",
   "execution_count": 12,
   "id": "d5afaf98",
   "metadata": {},
   "outputs": [
    {
     "name": "stdout",
     "output_type": "stream",
     "text": [
      "Mismatched indices in 'Year-Of-Publication':\n",
      "Int64Index([209538, 220731, 221678], dtype='int64')\n"
     ]
    }
   ],
   "source": [
    "#Finding the mismatched index\n",
    "mismatched_indices=Book[~Book['Year-Of-Publication'].astype(str).str.isdigit()].index\n",
    "\n",
    "print(\"Mismatched indices in 'Year-Of-Publication':\")\n",
    "print(mismatched_indices)"
   ]
  },
  {
   "cell_type": "code",
   "execution_count": 13,
   "id": "8fc8242c",
   "metadata": {},
   "outputs": [
    {
     "data": {
      "text/html": [
       "<div>\n",
       "<style scoped>\n",
       "    .dataframe tbody tr th:only-of-type {\n",
       "        vertical-align: middle;\n",
       "    }\n",
       "\n",
       "    .dataframe tbody tr th {\n",
       "        vertical-align: top;\n",
       "    }\n",
       "\n",
       "    .dataframe thead th {\n",
       "        text-align: right;\n",
       "    }\n",
       "</style>\n",
       "<table border=\"1\" class=\"dataframe\">\n",
       "  <thead>\n",
       "    <tr style=\"text-align: right;\">\n",
       "      <th></th>\n",
       "      <th>ISBN</th>\n",
       "      <th>Book-Title</th>\n",
       "      <th>Book-Author</th>\n",
       "      <th>Year-Of-Publication</th>\n",
       "      <th>Publisher</th>\n",
       "      <th>Image-URL-S</th>\n",
       "      <th>Image-URL-M</th>\n",
       "      <th>Image-URL-L</th>\n",
       "    </tr>\n",
       "  </thead>\n",
       "  <tbody>\n",
       "    <tr>\n",
       "      <th>209538</th>\n",
       "      <td>078946697X</td>\n",
       "      <td>DK Readers: Creating the X-Men, How It All Beg...</td>\n",
       "      <td>2000</td>\n",
       "      <td>DK Publishing Inc</td>\n",
       "      <td>http://images.amazon.com/images/P/078946697X.0...</td>\n",
       "      <td>http://images.amazon.com/images/P/078946697X.0...</td>\n",
       "      <td>http://images.amazon.com/images/P/078946697X.0...</td>\n",
       "      <td>NaN</td>\n",
       "    </tr>\n",
       "    <tr>\n",
       "      <th>220731</th>\n",
       "      <td>2070426769</td>\n",
       "      <td>Peuple du ciel, suivi de 'Les Bergers\\\";Jean-M...</td>\n",
       "      <td>2003</td>\n",
       "      <td>Gallimard</td>\n",
       "      <td>http://images.amazon.com/images/P/2070426769.0...</td>\n",
       "      <td>http://images.amazon.com/images/P/2070426769.0...</td>\n",
       "      <td>http://images.amazon.com/images/P/2070426769.0...</td>\n",
       "      <td>NaN</td>\n",
       "    </tr>\n",
       "    <tr>\n",
       "      <th>221678</th>\n",
       "      <td>0789466953</td>\n",
       "      <td>DK Readers: Creating the X-Men, How Comic Book...</td>\n",
       "      <td>2000</td>\n",
       "      <td>DK Publishing Inc</td>\n",
       "      <td>http://images.amazon.com/images/P/0789466953.0...</td>\n",
       "      <td>http://images.amazon.com/images/P/0789466953.0...</td>\n",
       "      <td>http://images.amazon.com/images/P/0789466953.0...</td>\n",
       "      <td>NaN</td>\n",
       "    </tr>\n",
       "  </tbody>\n",
       "</table>\n",
       "</div>"
      ],
      "text/plain": [
       "              ISBN                                         Book-Title  \\\n",
       "209538  078946697X  DK Readers: Creating the X-Men, How It All Beg...   \n",
       "220731  2070426769  Peuple du ciel, suivi de 'Les Bergers\\\";Jean-M...   \n",
       "221678  0789466953  DK Readers: Creating the X-Men, How Comic Book...   \n",
       "\n",
       "       Book-Author Year-Of-Publication  \\\n",
       "209538        2000   DK Publishing Inc   \n",
       "220731        2003           Gallimard   \n",
       "221678        2000   DK Publishing Inc   \n",
       "\n",
       "                                                Publisher  \\\n",
       "209538  http://images.amazon.com/images/P/078946697X.0...   \n",
       "220731  http://images.amazon.com/images/P/2070426769.0...   \n",
       "221678  http://images.amazon.com/images/P/0789466953.0...   \n",
       "\n",
       "                                              Image-URL-S  \\\n",
       "209538  http://images.amazon.com/images/P/078946697X.0...   \n",
       "220731  http://images.amazon.com/images/P/2070426769.0...   \n",
       "221678  http://images.amazon.com/images/P/0789466953.0...   \n",
       "\n",
       "                                              Image-URL-M Image-URL-L  \n",
       "209538  http://images.amazon.com/images/P/078946697X.0...         NaN  \n",
       "220731  http://images.amazon.com/images/P/2070426769.0...         NaN  \n",
       "221678  http://images.amazon.com/images/P/0789466953.0...         NaN  "
      ]
     },
     "execution_count": 13,
     "metadata": {},
     "output_type": "execute_result"
    }
   ],
   "source": [
    "#view the entire row of error\n",
    "Book.loc[mismatched_indices]"
   ]
  },
  {
   "cell_type": "markdown",
   "id": "8444b533",
   "metadata": {},
   "source": [
    "**Now let's fix the missing & mis-matched values**"
   ]
  },
  {
   "cell_type": "code",
   "execution_count": 14,
   "id": "fb876185",
   "metadata": {},
   "outputs": [],
   "source": [
    "#Replace NaN value in the 'Book-Author' column\n",
    "Book.iloc[187689]['Book-Author']='Larissa Anne Downes'"
   ]
  },
  {
   "cell_type": "code",
   "execution_count": 15,
   "id": "d375643f",
   "metadata": {},
   "outputs": [],
   "source": [
    "#Replace NaN values in 'Publisher' column\n",
    "Book['Publisher']=Book['Publisher'].fillna({\n",
    "    128890: 'NovelBooks,Inc',\n",
    "    129037: 'Hodder & Stoughton'\n",
    "})"
   ]
  },
  {
   "cell_type": "code",
   "execution_count": 16,
   "id": "67dac113",
   "metadata": {},
   "outputs": [],
   "source": [
    "#Drop useless column\n",
    "Book.drop(columns=['Image-URL-S','Image-URL-M','Image-URL-L'],inplace=True)"
   ]
  },
  {
   "cell_type": "code",
   "execution_count": 17,
   "id": "28c22f3b",
   "metadata": {},
   "outputs": [
    {
     "data": {
      "text/plain": [
       "ISBN                   0\n",
       "Book-Title             0\n",
       "Book-Author            0\n",
       "Year-Of-Publication    0\n",
       "Publisher              0\n",
       "dtype: int64"
      ]
     },
     "execution_count": 17,
     "metadata": {},
     "output_type": "execute_result"
    }
   ],
   "source": [
    "Book.isnull().sum()"
   ]
  },
  {
   "cell_type": "code",
   "execution_count": 18,
   "id": "c131eeaa",
   "metadata": {},
   "outputs": [
    {
     "data": {
      "text/plain": [
       "'DK Readers: Creating the X-Men, How It All Began (Level 4: Proficient Readers)\\\\\";Michael Teitelbaum\"'"
      ]
     },
     "metadata": {},
     "output_type": "display_data"
    },
    {
     "data": {
      "text/plain": [
       "'DK Publishing Inc'"
      ]
     },
     "execution_count": 18,
     "metadata": {},
     "output_type": "execute_result"
    }
   ],
   "source": [
    "display(Book.iloc[209538]['Book-Title'])\n",
    "Book.iloc[209538]['Year-Of-Publication']"
   ]
  },
  {
   "cell_type": "code",
   "execution_count": 19,
   "id": "ab16a2d8",
   "metadata": {},
   "outputs": [
    {
     "data": {
      "text/plain": [
       "'Peuple du ciel, suivi de \\'Les Bergers\\\\\";Jean-Marie Gustave Le ClÃ?Â©zio\"'"
      ]
     },
     "metadata": {},
     "output_type": "display_data"
    },
    {
     "data": {
      "text/plain": [
       "'Gallimard'"
      ]
     },
     "execution_count": 19,
     "metadata": {},
     "output_type": "execute_result"
    }
   ],
   "source": [
    "display(Book.iloc[220731]['Book-Title'])\n",
    "Book.iloc[220731]['Year-Of-Publication']"
   ]
  },
  {
   "cell_type": "code",
   "execution_count": 20,
   "id": "fd875f20",
   "metadata": {},
   "outputs": [
    {
     "data": {
      "text/plain": [
       "'DK Readers: Creating the X-Men, How Comic Books Come to Life (Level 4: Proficient Readers)\\\\\";James Buckley\"'"
      ]
     },
     "metadata": {},
     "output_type": "display_data"
    },
    {
     "data": {
      "text/plain": [
       "'DK Publishing Inc'"
      ]
     },
     "execution_count": 20,
     "metadata": {},
     "output_type": "execute_result"
    }
   ],
   "source": [
    "display(Book.iloc[221678]['Book-Title'])\n",
    "Book.iloc[221678]['Year-Of-Publication']"
   ]
  },
  {
   "cell_type": "code",
   "execution_count": 21,
   "id": "dc0a1874",
   "metadata": {},
   "outputs": [],
   "source": [
    "# function to fix mismatch data in feature 'book_title', 'book_author', ' year_of_publication', 'publisher'\n",
    "def replace_df_value(df, idx, col_name, val):\n",
    "    df.loc[idx, col_name] = val\n",
    "    return df"
   ]
  },
  {
   "cell_type": "code",
   "execution_count": 22,
   "id": "fbadf396",
   "metadata": {},
   "outputs": [
    {
     "data": {
      "text/html": [
       "<div>\n",
       "<style scoped>\n",
       "    .dataframe tbody tr th:only-of-type {\n",
       "        vertical-align: middle;\n",
       "    }\n",
       "\n",
       "    .dataframe tbody tr th {\n",
       "        vertical-align: top;\n",
       "    }\n",
       "\n",
       "    .dataframe thead th {\n",
       "        text-align: right;\n",
       "    }\n",
       "</style>\n",
       "<table border=\"1\" class=\"dataframe\">\n",
       "  <thead>\n",
       "    <tr style=\"text-align: right;\">\n",
       "      <th></th>\n",
       "      <th>ISBN</th>\n",
       "      <th>Book-Title</th>\n",
       "      <th>Book-Author</th>\n",
       "      <th>Year-Of-Publication</th>\n",
       "      <th>Publisher</th>\n",
       "    </tr>\n",
       "  </thead>\n",
       "  <tbody>\n",
       "    <tr>\n",
       "      <th>0</th>\n",
       "      <td>0195153448</td>\n",
       "      <td>Classical Mythology</td>\n",
       "      <td>Mark P. O. Morford</td>\n",
       "      <td>2002</td>\n",
       "      <td>Oxford University Press</td>\n",
       "    </tr>\n",
       "    <tr>\n",
       "      <th>1</th>\n",
       "      <td>0002005018</td>\n",
       "      <td>Clara Callan</td>\n",
       "      <td>Richard Bruce Wright</td>\n",
       "      <td>2001</td>\n",
       "      <td>HarperFlamingo Canada</td>\n",
       "    </tr>\n",
       "    <tr>\n",
       "      <th>2</th>\n",
       "      <td>0060973129</td>\n",
       "      <td>Decision in Normandy</td>\n",
       "      <td>Carlo D'Este</td>\n",
       "      <td>1991</td>\n",
       "      <td>HarperPerennial</td>\n",
       "    </tr>\n",
       "    <tr>\n",
       "      <th>3</th>\n",
       "      <td>0374157065</td>\n",
       "      <td>Flu: The Story of the Great Influenza Pandemic...</td>\n",
       "      <td>Gina Bari Kolata</td>\n",
       "      <td>1999</td>\n",
       "      <td>Farrar Straus Giroux</td>\n",
       "    </tr>\n",
       "    <tr>\n",
       "      <th>4</th>\n",
       "      <td>0393045218</td>\n",
       "      <td>The Mummies of Urumchi</td>\n",
       "      <td>E. J. W. Barber</td>\n",
       "      <td>1999</td>\n",
       "      <td>W. W. Norton &amp;amp; Company</td>\n",
       "    </tr>\n",
       "    <tr>\n",
       "      <th>...</th>\n",
       "      <td>...</td>\n",
       "      <td>...</td>\n",
       "      <td>...</td>\n",
       "      <td>...</td>\n",
       "      <td>...</td>\n",
       "    </tr>\n",
       "    <tr>\n",
       "      <th>271355</th>\n",
       "      <td>0440400988</td>\n",
       "      <td>There's a Bat in Bunk Five</td>\n",
       "      <td>Paula Danziger</td>\n",
       "      <td>1988</td>\n",
       "      <td>Random House Childrens Pub (Mm)</td>\n",
       "    </tr>\n",
       "    <tr>\n",
       "      <th>271356</th>\n",
       "      <td>0525447644</td>\n",
       "      <td>From One to One Hundred</td>\n",
       "      <td>Teri Sloat</td>\n",
       "      <td>1991</td>\n",
       "      <td>Dutton Books</td>\n",
       "    </tr>\n",
       "    <tr>\n",
       "      <th>271357</th>\n",
       "      <td>006008667X</td>\n",
       "      <td>Lily Dale : The True Story of the Town that Ta...</td>\n",
       "      <td>Christine Wicker</td>\n",
       "      <td>2004</td>\n",
       "      <td>HarperSanFrancisco</td>\n",
       "    </tr>\n",
       "    <tr>\n",
       "      <th>271358</th>\n",
       "      <td>0192126040</td>\n",
       "      <td>Republic (World's Classics)</td>\n",
       "      <td>Plato</td>\n",
       "      <td>1996</td>\n",
       "      <td>Oxford University Press</td>\n",
       "    </tr>\n",
       "    <tr>\n",
       "      <th>271359</th>\n",
       "      <td>0767409752</td>\n",
       "      <td>A Guided Tour of Rene Descartes' Meditations o...</td>\n",
       "      <td>Christopher  Biffle</td>\n",
       "      <td>2000</td>\n",
       "      <td>McGraw-Hill Humanities/Social Sciences/Languages</td>\n",
       "    </tr>\n",
       "  </tbody>\n",
       "</table>\n",
       "<p>271360 rows × 5 columns</p>\n",
       "</div>"
      ],
      "text/plain": [
       "              ISBN                                         Book-Title  \\\n",
       "0       0195153448                                Classical Mythology   \n",
       "1       0002005018                                       Clara Callan   \n",
       "2       0060973129                               Decision in Normandy   \n",
       "3       0374157065  Flu: The Story of the Great Influenza Pandemic...   \n",
       "4       0393045218                             The Mummies of Urumchi   \n",
       "...            ...                                                ...   \n",
       "271355  0440400988                         There's a Bat in Bunk Five   \n",
       "271356  0525447644                            From One to One Hundred   \n",
       "271357  006008667X  Lily Dale : The True Story of the Town that Ta...   \n",
       "271358  0192126040                        Republic (World's Classics)   \n",
       "271359  0767409752  A Guided Tour of Rene Descartes' Meditations o...   \n",
       "\n",
       "                 Book-Author Year-Of-Publication  \\\n",
       "0         Mark P. O. Morford                2002   \n",
       "1       Richard Bruce Wright                2001   \n",
       "2               Carlo D'Este                1991   \n",
       "3           Gina Bari Kolata                1999   \n",
       "4            E. J. W. Barber                1999   \n",
       "...                      ...                 ...   \n",
       "271355        Paula Danziger                1988   \n",
       "271356            Teri Sloat                1991   \n",
       "271357      Christine Wicker                2004   \n",
       "271358                 Plato                1996   \n",
       "271359   Christopher  Biffle                2000   \n",
       "\n",
       "                                               Publisher  \n",
       "0                                Oxford University Press  \n",
       "1                                  HarperFlamingo Canada  \n",
       "2                                        HarperPerennial  \n",
       "3                                   Farrar Straus Giroux  \n",
       "4                             W. W. Norton &amp; Company  \n",
       "...                                                  ...  \n",
       "271355                   Random House Childrens Pub (Mm)  \n",
       "271356                                      Dutton Books  \n",
       "271357                                HarperSanFrancisco  \n",
       "271358                           Oxford University Press  \n",
       "271359  McGraw-Hill Humanities/Social Sciences/Languages  \n",
       "\n",
       "[271360 rows x 5 columns]"
      ]
     },
     "execution_count": 22,
     "metadata": {},
     "output_type": "execute_result"
    }
   ],
   "source": [
    "replace_df_value(Book, 209538, 'Book-Title', 'DK Readers: Creating the X-Men, How It All Began (Level 4: Proficient Readers)')\n",
    "replace_df_value(Book, 209538, 'Book-Author', 'Michael Teitelbaum')\n",
    "replace_df_value(Book, 209538, 'Year-Of-Publication', 2000)\n",
    "replace_df_value(Book, 209538, 'Publisher', 'DK Publishing Inc')\n",
    "\n",
    "replace_df_value(Book, 221678, 'Book-Title', 'DK Readers: Creating the X-Men, How Comic Books Come to Life (Level 4: Proficient Readers)')\n",
    "replace_df_value(Book, 221678, 'Book-Author', 'James Buckley')\n",
    "replace_df_value(Book, 221678, 'Year-Of-Publication', 2000)\n",
    "replace_df_value(Book, 221678, 'Publisher', 'DK Publishing Inc')\n",
    "\n",
    "replace_df_value(Book, 220731,'Book-Title', \"Peuple du ciel, suivi de 'Les Bergers\")\n",
    "replace_df_value(Book, 220731, 'Book-Author', 'Jean-Marie Gustave Le ClÃ?Â©zio')\n",
    "replace_df_value(Book, 220731, 'Year-Of-Publication', 1990)\n",
    "replace_df_value(Book, 220731, 'Publisher', 'Gallimard')"
   ]
  },
  {
   "cell_type": "code",
   "execution_count": 23,
   "id": "6537c4ba",
   "metadata": {},
   "outputs": [
    {
     "data": {
      "text/plain": [
       "array([2002, 2001, 1991, 1999, 2000, 1993, 1996, 1988, 2004, 1998, 1994,\n",
       "       2003, 1997, 1983, 1979, 1995, 1982, 1985, 1992, 1986, 1978, 1980,\n",
       "       1952, 1987, 1990, 1981, 1989, 1984, 0, 1968, 1961, 1958, 1974,\n",
       "       1976, 1971, 1977, 1975, 1965, 1941, 1970, 1962, 1973, 1972, 1960,\n",
       "       1966, 1920, 1956, 1959, 1953, 1951, 1942, 1963, 1964, 1969, 1954,\n",
       "       1950, 1967, 2005, 1957, 1940, 1937, 1955, 1946, 1936, 1930, 2011,\n",
       "       1925, 1948, 1943, 1947, 1945, 1923, 2020, 1939, 1926, 1938, 2030,\n",
       "       1911, 1904, 1949, 1932, 1928, 1929, 1927, 1931, 1914, 2050, 1934,\n",
       "       1910, 1933, 1902, 1924, 1921, 1900, 2038, 2026, 1944, 1917, 1901,\n",
       "       2010, 1908, 1906, 1935, 1806, 2021, '2000', '1995', '1999', '2004',\n",
       "       '2003', '1990', '1994', '1986', '1989', '2002', '1981', '1993',\n",
       "       '1983', '1982', '1976', '1991', '1977', '1998', '1992', '1996',\n",
       "       '0', '1997', '2001', '1974', '1968', '1987', '1984', '1988',\n",
       "       '1963', '1956', '1970', '1985', '1978', '1973', '1980', '1979',\n",
       "       '1975', '1969', '1961', '1965', '1939', '1958', '1950', '1953',\n",
       "       '1966', '1971', '1959', '1972', '1955', '1957', '1945', '1960',\n",
       "       '1967', '1932', '1924', '1964', '2012', '1911', '1927', '1948',\n",
       "       '1962', '2006', '1952', '1940', '1951', '1931', '1954', '2005',\n",
       "       '1930', '1941', '1944', '1943', '1938', '1900', '1942', '1923',\n",
       "       '1920', '1933', '1909', '1946', '2008', '1378', '2030', '1936',\n",
       "       '1947', '2011', '2020', '1919', '1949', '1922', '1897', '2024',\n",
       "       '1376', '1926', '2037'], dtype=object)"
      ]
     },
     "execution_count": 23,
     "metadata": {},
     "output_type": "execute_result"
    }
   ],
   "source": [
    "Book['Year-Of-Publication'].unique()"
   ]
  },
  {
   "cell_type": "code",
   "execution_count": 24,
   "id": "a4976190",
   "metadata": {},
   "outputs": [
    {
     "data": {
      "text/plain": [
       "ISBN                   object\n",
       "Book-Title             object\n",
       "Book-Author            object\n",
       "Year-Of-Publication    object\n",
       "Publisher              object\n",
       "dtype: object"
      ]
     },
     "execution_count": 24,
     "metadata": {},
     "output_type": "execute_result"
    }
   ],
   "source": [
    "#Checking data types \n",
    "Book.dtypes"
   ]
  },
  {
   "cell_type": "code",
   "execution_count": 25,
   "id": "f64546a3",
   "metadata": {},
   "outputs": [],
   "source": [
    "#Changing the data type of 'Year-Of-Publication' column\n",
    "Book['Year-Of-Publication']=Book['Year-Of-Publication'].astype('int64')"
   ]
  },
  {
   "cell_type": "code",
   "execution_count": 26,
   "id": "b76a603c",
   "metadata": {},
   "outputs": [
    {
     "data": {
      "text/plain": [
       "2050        2\n",
       "2038        1\n",
       "2037        1\n",
       "2030        7\n",
       "2026        1\n",
       "2024        1\n",
       "2021        1\n",
       "2020        3\n",
       "2012        1\n",
       "2011        2\n",
       "2010        2\n",
       "2008        1\n",
       "2006        3\n",
       "2005       46\n",
       "2004     5839\n",
       "2003    14358\n",
       "2002    17627\n",
       "2001    17359\n",
       "2000    17234\n",
       "1999    17431\n",
       "Name: Year-Of-Publication, dtype: int64"
      ]
     },
     "execution_count": 26,
     "metadata": {},
     "output_type": "execute_result"
    }
   ],
   "source": [
    "Book['Year-Of-Publication'].value_counts().sort_index(ascending=False).iloc[:20]"
   ]
  },
  {
   "cell_type": "markdown",
   "id": "51487660",
   "metadata": {},
   "source": [
    "In 'Year-Of-Publication' column there are some future years,which is not applicable."
   ]
  },
  {
   "cell_type": "code",
   "execution_count": 27,
   "id": "1de54a3d",
   "metadata": {},
   "outputs": [
    {
     "data": {
      "text/html": [
       "<div>\n",
       "<style scoped>\n",
       "    .dataframe tbody tr th:only-of-type {\n",
       "        vertical-align: middle;\n",
       "    }\n",
       "\n",
       "    .dataframe tbody tr th {\n",
       "        vertical-align: top;\n",
       "    }\n",
       "\n",
       "    .dataframe thead th {\n",
       "        text-align: right;\n",
       "    }\n",
       "</style>\n",
       "<table border=\"1\" class=\"dataframe\">\n",
       "  <thead>\n",
       "    <tr style=\"text-align: right;\">\n",
       "      <th></th>\n",
       "      <th>Book-Title</th>\n",
       "      <th>Year-Of-Publication</th>\n",
       "      <th>Publisher</th>\n",
       "      <th>Book-Author</th>\n",
       "    </tr>\n",
       "  </thead>\n",
       "  <tbody>\n",
       "    <tr>\n",
       "      <th>37487</th>\n",
       "      <td>MY TEACHER FRIED MY BRAINS (RACK SIZE) (MY TEA...</td>\n",
       "      <td>2030</td>\n",
       "      <td>Aladdin</td>\n",
       "      <td>Coville</td>\n",
       "    </tr>\n",
       "    <tr>\n",
       "      <th>55676</th>\n",
       "      <td>MY TEACHER FLUNKED THE PLANET (RACK SIZE) (MY ...</td>\n",
       "      <td>2030</td>\n",
       "      <td>Aladdin</td>\n",
       "      <td>Bruce Coville</td>\n",
       "    </tr>\n",
       "    <tr>\n",
       "      <th>78168</th>\n",
       "      <td>Crossing America</td>\n",
       "      <td>2030</td>\n",
       "      <td>National Geographic</td>\n",
       "      <td>National Geographic Society</td>\n",
       "    </tr>\n",
       "    <tr>\n",
       "      <th>80264</th>\n",
       "      <td>Alice's Adventures in Wonderland and Through t...</td>\n",
       "      <td>2050</td>\n",
       "      <td>Puffin Books</td>\n",
       "      <td>Lewis Carroll</td>\n",
       "    </tr>\n",
       "    <tr>\n",
       "      <th>97826</th>\n",
       "      <td>Outline of European Architecture (Pelican S.)</td>\n",
       "      <td>2050</td>\n",
       "      <td>Penguin USA</td>\n",
       "      <td>Nikolaus Pevsner</td>\n",
       "    </tr>\n",
       "    <tr>\n",
       "      <th>116053</th>\n",
       "      <td>Three Plays of Eugene Oneill</td>\n",
       "      <td>2038</td>\n",
       "      <td>Vintage Books USA</td>\n",
       "      <td>Eugene O'Neill</td>\n",
       "    </tr>\n",
       "    <tr>\n",
       "      <th>118294</th>\n",
       "      <td>Das groÃ?Â?e BÃ?Â¶se- MÃ?Â¤dchen- Lesebuch.</td>\n",
       "      <td>2026</td>\n",
       "      <td>Goldmann</td>\n",
       "      <td>Kathy Lette</td>\n",
       "    </tr>\n",
       "    <tr>\n",
       "      <th>192993</th>\n",
       "      <td>Field Guide to the Birds of North America, 3rd...</td>\n",
       "      <td>2030</td>\n",
       "      <td>National Geographic</td>\n",
       "      <td>National Geographic Society</td>\n",
       "    </tr>\n",
       "    <tr>\n",
       "      <th>228173</th>\n",
       "      <td>FOREST PEOPLE (Touchstone Books (Hardcover))</td>\n",
       "      <td>2030</td>\n",
       "      <td>Simon &amp;amp; Schuster</td>\n",
       "      <td>Colin M. Turnbull</td>\n",
       "    </tr>\n",
       "    <tr>\n",
       "      <th>240169</th>\n",
       "      <td>In Our Time: Stories (Scribner Classic)</td>\n",
       "      <td>2030</td>\n",
       "      <td>Collier Books</td>\n",
       "      <td>Ernest Hemingway</td>\n",
       "    </tr>\n",
       "    <tr>\n",
       "      <th>255409</th>\n",
       "      <td>To Have and Have Not</td>\n",
       "      <td>2037</td>\n",
       "      <td>Simon &amp;amp; Schuster</td>\n",
       "      <td>Ernest Hemingway</td>\n",
       "    </tr>\n",
       "    <tr>\n",
       "      <th>260974</th>\n",
       "      <td>FOOTBALL SUPER TEAMS : FOOTBALL SUPER TEAMS</td>\n",
       "      <td>2030</td>\n",
       "      <td>Simon &amp;amp; Schuster Children's Publishing</td>\n",
       "      <td>Bill Gutman</td>\n",
       "    </tr>\n",
       "  </tbody>\n",
       "</table>\n",
       "</div>"
      ],
      "text/plain": [
       "                                               Book-Title  \\\n",
       "37487   MY TEACHER FRIED MY BRAINS (RACK SIZE) (MY TEA...   \n",
       "55676   MY TEACHER FLUNKED THE PLANET (RACK SIZE) (MY ...   \n",
       "78168                                    Crossing America   \n",
       "80264   Alice's Adventures in Wonderland and Through t...   \n",
       "97826       Outline of European Architecture (Pelican S.)   \n",
       "116053                       Three Plays of Eugene Oneill   \n",
       "118294        Das groÃ?Â?e BÃ?Â¶se- MÃ?Â¤dchen- Lesebuch.   \n",
       "192993  Field Guide to the Birds of North America, 3rd...   \n",
       "228173       FOREST PEOPLE (Touchstone Books (Hardcover))   \n",
       "240169            In Our Time: Stories (Scribner Classic)   \n",
       "255409                               To Have and Have Not   \n",
       "260974        FOOTBALL SUPER TEAMS : FOOTBALL SUPER TEAMS   \n",
       "\n",
       "        Year-Of-Publication                                   Publisher  \\\n",
       "37487                  2030                                     Aladdin   \n",
       "55676                  2030                                     Aladdin   \n",
       "78168                  2030                         National Geographic   \n",
       "80264                  2050                                Puffin Books   \n",
       "97826                  2050                                 Penguin USA   \n",
       "116053                 2038                           Vintage Books USA   \n",
       "118294                 2026                                    Goldmann   \n",
       "192993                 2030                         National Geographic   \n",
       "228173                 2030                        Simon &amp; Schuster   \n",
       "240169                 2030                               Collier Books   \n",
       "255409                 2037                        Simon &amp; Schuster   \n",
       "260974                 2030  Simon &amp; Schuster Children's Publishing   \n",
       "\n",
       "                        Book-Author  \n",
       "37487                       Coville  \n",
       "55676                 Bruce Coville  \n",
       "78168   National Geographic Society  \n",
       "80264                 Lewis Carroll  \n",
       "97826              Nikolaus Pevsner  \n",
       "116053               Eugene O'Neill  \n",
       "118294                  Kathy Lette  \n",
       "192993  National Geographic Society  \n",
       "228173            Colin M. Turnbull  \n",
       "240169             Ernest Hemingway  \n",
       "255409             Ernest Hemingway  \n",
       "260974                  Bill Gutman  "
      ]
     },
     "execution_count": 27,
     "metadata": {},
     "output_type": "execute_result"
    }
   ],
   "source": [
    "Book[Book['Year-Of-Publication']>2024][['Book-Title','Year-Of-Publication','Publisher','Book-Author']]"
   ]
  },
  {
   "cell_type": "markdown",
   "id": "0b30a482",
   "metadata": {},
   "source": [
    "Here we have to change the years."
   ]
  },
  {
   "cell_type": "code",
   "execution_count": 28,
   "id": "5714d1ea",
   "metadata": {},
   "outputs": [],
   "source": [
    "#Changing the future years\n",
    "#'MY TEACHER FRIED MY BRAINS (RACK SIZE) (MY TEACHER BOOKS)'\n",
    "Book.loc[37487, 'Year-Of-Publication']=1991\n",
    "\n",
    "Book.loc[37487, 'Book-Author']='Bruce Coville'\n",
    "\n",
    "# 'MY TEACHER FLUNKED THE PLANET (RACK SIZE) (MY TEACHER BOOKS)'\n",
    "Book.loc[55676, 'Year-Of-Publication']=2005\n",
    "\n",
    "# \"Alice's Adventures in Wonderland and Through the Looking Glass (Puffin Books)\"\n",
    "Book.loc[80264, 'Year-Of-Publication']=2003\n",
    "\n",
    "# 'Field Guide to the Birds of North America, 3rd Ed.'\n",
    "Book.loc[192993, 'Year-Of-Publication']=2003\n",
    "\n",
    "# Crossing America\n",
    "Book.loc[78168, 'Year-Of-Publication']=2001\n",
    "\n",
    "# Outline of European Architecture (Pelican S.)\n",
    "Book.loc[97826, 'Year-Of-Publication']=1981\n",
    "\n",
    "# Three Plays of Eugene Oneill\n",
    "Book.loc[116053, 'Year-Of-Publication']=1995\n",
    "\n",
    "# Das groÃ?Â?e BÃ?Â¶se- MÃ?Â¤dchen- Lesebuch.\n",
    "Book.loc[118294, 'Year-Of-Publication']=2023\n",
    "\n",
    "# FOREST PEOPLE (Touchstone Books (Hardcover))\n",
    "Book.loc[228173, 'Year-Of-Publication']=1987\n",
    "\n",
    "# In Our Time: Stories (Scribner Classic)\n",
    "Book.loc[240169, 'Year-Of-Publication']=1996\n",
    "\n",
    "# To Have and Have Not\n",
    "Book.loc[255409, 'Year-Of-Publication']=1937\n",
    "\n",
    "# FOOTBALL SUPER TEAMS : FOOTBALL SUPER TEAMS\n",
    "Book.loc[260974, 'Year-Of-Publication']=1991"
   ]
  },
  {
   "cell_type": "code",
   "execution_count": 29,
   "id": "21051db3",
   "metadata": {},
   "outputs": [
    {
     "data": {
      "text/plain": [
       "2024       1\n",
       "2023       1\n",
       "2021       1\n",
       "2020       3\n",
       "2012       1\n",
       "        ... \n",
       "1897       1\n",
       "1806       1\n",
       "1378       1\n",
       "1376       1\n",
       "0       4618\n",
       "Name: Year-Of-Publication, Length: 112, dtype: int64"
      ]
     },
     "execution_count": 29,
     "metadata": {},
     "output_type": "execute_result"
    }
   ],
   "source": [
    "Book['Year-Of-Publication'].value_counts().sort_index(ascending=False)"
   ]
  },
  {
   "cell_type": "markdown",
   "id": "7783c652",
   "metadata": {},
   "source": [
    "Here we've some entries without year data so it is given as 0.The books in the years 1378,1376 may be mythological and religious books so the date could be correct. So we donot alter the date for these entries."
   ]
  },
  {
   "cell_type": "code",
   "execution_count": 30,
   "id": "26230a82",
   "metadata": {},
   "outputs": [
    {
     "data": {
      "text/plain": [
       "2024    1\n",
       "2023    1\n",
       "2021    1\n",
       "2020    3\n",
       "2012    1\n",
       "       ..\n",
       "1900    3\n",
       "1897    1\n",
       "1806    1\n",
       "1378    1\n",
       "1376    1\n",
       "Name: Year-Of-Publication, Length: 111, dtype: int64"
      ]
     },
     "execution_count": 30,
     "metadata": {},
     "output_type": "execute_result"
    }
   ],
   "source": [
    "#Number of Books published  yearly.\n",
    "Yearly_Publication= Book[Book['Year-Of-Publication']!=0]['Year-Of-Publication'].value_counts().sort_index(ascending=False)\n",
    "Yearly_Publication"
   ]
  },
  {
   "cell_type": "code",
   "execution_count": 31,
   "id": "213c59e4",
   "metadata": {
    "scrolled": false
   },
   "outputs": [
    {
     "data": {
      "image/png": "[encoded data removed]",
      "text/plain": [
       "<Figure size 1200x600 with 1 Axes>"
      ]
     },
     "metadata": {},
     "output_type": "display_data"
    }
   ],
   "source": [
    "#Plotting\n",
    "plt.figure(figsize=(12, 6))\n",
    "Yearly_Publication.plot(kind='bar', color='skyblue')\n",
    "# Adding labels and title\n",
    "plt.title('Yearly Publication Counts', fontsize=16)\n",
    "plt.xlabel('Year', fontsize=14)\n",
    "plt.ylabel('Number of Publications', fontsize=14)\n",
    "plt.tight_layout()\n",
    "plt.show()"
   ]
  },
  {
   "cell_type": "markdown",
   "id": "fd7788ca",
   "metadata": {},
   "source": [
    "The publication of books got vital when it starts emerging from 1950.We can see that the number of publications are increasing over years.It might happen people starts to understand the importance of books and gradually got productivity habits in their life.\n",
    "The highest peak we can observe is between 1997-2002."
   ]
  },
  {
   "cell_type": "markdown",
   "id": "1c7fcfaf",
   "metadata": {},
   "source": [
    "As we have many entries without year data, we can replace it with the mode."
   ]
  },
  {
   "cell_type": "code",
   "execution_count": 32,
   "id": "903d9411",
   "metadata": {},
   "outputs": [],
   "source": [
    "from collections import Counter"
   ]
  },
  {
   "cell_type": "code",
   "execution_count": 33,
   "id": "d6a31ac0",
   "metadata": {},
   "outputs": [
    {
     "data": {
      "text/plain": [
       "[2002]"
      ]
     },
     "execution_count": 33,
     "metadata": {},
     "output_type": "execute_result"
    }
   ],
   "source": [
    "count = Counter(Book['Year-Of-Publication'])\n",
    "[k for k, v in count.items() if v == max(count.values())]"
   ]
  },
  {
   "cell_type": "code",
   "execution_count": 34,
   "id": "7f6400a1",
   "metadata": {},
   "outputs": [],
   "source": [
    "Book.loc[Book['Year-Of-Publication'] == 0, 'Year-Of-Publication'] = 2002"
   ]
  },
  {
   "cell_type": "code",
   "execution_count": 35,
   "id": "f8ef2bfa",
   "metadata": {},
   "outputs": [
    {
     "data": {
      "text/plain": [
       "2024    1\n",
       "2023    1\n",
       "2021    1\n",
       "2020    3\n",
       "2012    1\n",
       "       ..\n",
       "1900    3\n",
       "1897    1\n",
       "1806    1\n",
       "1378    1\n",
       "1376    1\n",
       "Name: Year-Of-Publication, Length: 111, dtype: int64"
      ]
     },
     "execution_count": 35,
     "metadata": {},
     "output_type": "execute_result"
    }
   ],
   "source": [
    "Book['Year-Of-Publication'].value_counts().sort_index(ascending=False)"
   ]
  },
  {
   "cell_type": "code",
   "execution_count": 36,
   "id": "a1bd75c0",
   "metadata": {},
   "outputs": [
    {
     "data": {
      "text/plain": [
       "Agatha Christie          632\n",
       "William Shakespeare      567\n",
       "Stephen King             524\n",
       "Ann M. Martin            423\n",
       "Carolyn Keene            373\n",
       "Francine Pascal          372\n",
       "Isaac Asimov             330\n",
       "Nora Roberts             315\n",
       "Barbara Cartland         307\n",
       "Charles Dickens          302\n",
       "Not Applicable (Na )     286\n",
       "R. L. Stine              282\n",
       "Mark Twain               231\n",
       "Jane Austen              223\n",
       "Terry Pratchett          220\n",
       "Mary Higgins Clark       218\n",
       "Piers Anthony            217\n",
       "Marion Zimmer Bradley    216\n",
       "Janet Dailey             214\n",
       "Franklin W. Dixon        204\n",
       "Name: Book-Author, dtype: int64"
      ]
     },
     "execution_count": 36,
     "metadata": {},
     "output_type": "execute_result"
    }
   ],
   "source": [
    "Author=Book['Book-Author'].value_counts()\n",
    "Author.head(20)"
   ]
  },
  {
   "cell_type": "markdown",
   "id": "e0bf275c",
   "metadata": {},
   "source": [
    "There are a lot of books with no authors(Not Applicable)."
   ]
  },
  {
   "cell_type": "code",
   "execution_count": 37,
   "id": "6c5266cb",
   "metadata": {},
   "outputs": [
    {
     "data": {
      "text/plain": [
       "Book-Author\n",
       "Agatha Christie        632\n",
       "William Shakespeare    567\n",
       "Stephen King           524\n",
       "Ann M. Martin          423\n",
       "Carolyn Keene          373\n",
       "Francine Pascal        372\n",
       "Isaac Asimov           330\n",
       "Nora Roberts           315\n",
       "Barbara Cartland       307\n",
       "Charles Dickens        302\n",
       "Name: Book-Title, dtype: int64"
      ]
     },
     "execution_count": 37,
     "metadata": {},
     "output_type": "execute_result"
    }
   ],
   "source": [
    "#Top Authors with number of books\n",
    "Author=Book[Book['Book-Author']!= 'Not Applicable (Na )']\n",
    "Author=Author.groupby('Book-Author').count()['Book-Title'].sort_values(ascending=False).head(50)\n",
    "Author.head(10)"
   ]
  },
  {
   "cell_type": "code",
   "execution_count": 38,
   "id": "fddb0b59",
   "metadata": {},
   "outputs": [
    {
     "data": {
      "image/png": "[encoded data removed]",
      "text/plain": [
       "<Figure size 1200x1200 with 1 Axes>"
      ]
     },
     "metadata": {},
     "output_type": "display_data"
    }
   ],
   "source": [
    "#Plotting\n",
    "cool=sns.color_palette(\"cool\", n_colors=len(Author.values))\n",
    "plt.figure(figsize=(12, 12))\n",
    "sns_plot=sns.barplot(y=Author.index,\n",
    "                       x=Author.values, palette=cool, orient='h')\n",
    "\n",
    "for i, value in enumerate(Author.values):\n",
    "    sns_plot.text(value, i, int(value), ha=\"left\",\n",
    "                  va=\"center\", color='black', fontsize=8)\n",
    "\n",
    "plt.ylabel(\"Author Names\")\n",
    "plt.xlabel(\"Number of Books Written\")\n",
    "plt.title(\"Top 50 authors with highest number of books written\")\n",
    "plt.show()"
   ]
  },
  {
   "cell_type": "markdown",
   "id": "5969f914",
   "metadata": {},
   "source": [
    "Agatha Christie is leading at top with 632 counts, followed by William Shakespeare.\n",
    "It can happen in some possible cases that Agatha Christie is not a best Author, though Agatha Christie has most number of books as compared to others.\n",
    "William Shakespeare is one of the popular Author in the world. Still he doesn't have highest number of books.\n",
    "Among all other Authors, it might happen that few of the Author might have some of the best seller books who have millions of copies been sold in world."
   ]
  },
  {
   "cell_type": "code",
   "execution_count": 39,
   "id": "c7b4e426",
   "metadata": {},
   "outputs": [
    {
     "data": {
      "text/plain": [
       "Harlequin                  7535\n",
       "Silhouette                 4220\n",
       "Pocket                     3905\n",
       "Ballantine Books           3783\n",
       "Bantam Books               3646\n",
       "                           ... \n",
       "Hannover House                1\n",
       "Amber Quill Press, LLC.       1\n",
       "Lunchbox Press                1\n",
       "Ugly Town                     1\n",
       "Connaught                     1\n",
       "Name: Publisher, Length: 16806, dtype: int64"
      ]
     },
     "execution_count": 39,
     "metadata": {},
     "output_type": "execute_result"
    }
   ],
   "source": [
    "Publisher=Book['Publisher'].value_counts()\n",
    "Publisher"
   ]
  },
  {
   "cell_type": "code",
   "execution_count": 40,
   "id": "7e2de662",
   "metadata": {},
   "outputs": [
    {
     "data": {
      "text/plain": [
       "Harlequin                             7535\n",
       "Silhouette                            4220\n",
       "Pocket                                3905\n",
       "Ballantine Books                      3783\n",
       "Bantam Books                          3646\n",
       "Scholastic                            3160\n",
       "Simon &amp; Schuster                  2971\n",
       "Penguin Books                         2844\n",
       "Berkley Publishing Group              2771\n",
       "Warner Books                          2727\n",
       "Penguin USA                           2717\n",
       "Harpercollins                         2525\n",
       "Fawcett Books                         2258\n",
       "Signet Book                           2070\n",
       "Random House Inc                      2045\n",
       "St Martins Pr                         1953\n",
       "St. Martin's Press                    1783\n",
       "Tor Books                             1704\n",
       "HarperCollins Publishers              1700\n",
       "Zebra Books                           1694\n",
       "Bantam                                1660\n",
       "Avon                                  1566\n",
       "Jove Books                            1553\n",
       "Vintage Books USA                     1538\n",
       "Oxford University Press               1502\n",
       "Dell Publishing Company               1473\n",
       "Ace Books                             1466\n",
       "Harper Mass Market Paperbacks (Mm)    1450\n",
       "Bantam Dell Pub Group                 1322\n",
       "Perennial                             1257\n",
       "Goldmann                              1127\n",
       "Dover Publications                    1107\n",
       "Leisure Books                         1099\n",
       "Puffin Books                          1081\n",
       "Del Rey Books                         1080\n",
       "Golden Books                          1026\n",
       "Scribner                              1004\n",
       "Trafalgar Square                       939\n",
       "Aladdin                                932\n",
       "HarperTrophy                           907\n",
       "Heyne                                  898\n",
       "Putnam Pub Group                       869\n",
       "Penguin Books Ltd                      863\n",
       "Gallimard                              850\n",
       "HarperCollins                          845\n",
       "Kensington Publishing Corporation      822\n",
       "Pub Group West                         807\n",
       "Avon Books                             787\n",
       "Pinnacle Books                         758\n",
       "Random House Children's Books          755\n",
       "Berkley Pub Group                      750\n",
       "Name: Publisher, dtype: int64"
      ]
     },
     "execution_count": 40,
     "metadata": {},
     "output_type": "execute_result"
    }
   ],
   "source": [
    "#Top publishers with number of book published\n",
    "Publisher=Publisher.sort_values(ascending=False)[:51]\n",
    "Publisher"
   ]
  },
  {
   "cell_type": "code",
   "execution_count": 41,
   "id": "ed3f71aa",
   "metadata": {},
   "outputs": [
    {
     "data": {
      "image/png": "[encoded data removed]",
      "text/plain": [
       "<Figure size 1200x1200 with 1 Axes>"
      ]
     },
     "metadata": {},
     "output_type": "display_data"
    }
   ],
   "source": [
    "#Plotting\n",
    "cool=sns.color_palette(\"cool\", n_colors=len(Publisher.values))\n",
    "plt.figure(figsize=(12, 12))\n",
    "sns_plot = sns.barplot(y=Publisher.index,\n",
    "            x=Publisher.values, palette=cool,orient='h')\n",
    "\n",
    "for i, value in enumerate(Publisher.values):\n",
    "    sns_plot.text(value, i, int(value), ha=\"left\",\n",
    "                  va=\"center\", color='black', fontsize=8)\n",
    "                  \n",
    "\n",
    "plt.ylabel(\"Publisher Names\")\n",
    "plt.xlabel(\"Number of Books Published\")\n",
    "plt.title(\"Top 50 Publishers with highest number of books published\")\n",
    "plt.show()"
   ]
  },
  {
   "cell_type": "markdown",
   "id": "28ec733c",
   "metadata": {},
   "source": [
    "Harlequin has most number of books published, followed by Silhouette.\n",
    "Some of the top Author's had published their books from Harlequin.\n",
    "We can observe Harlequin publiser's marking better performance than any other publishers.\n",
    "Penguin Books, Warner Books, Penguin USA, Berkely Publishing Group and many more are among popular publisher's remarking competition with Harlequin.\n",
    "Though Penguin Books Publisher has less number of books published but it might happen that only top Author's are approaching towards Penguin Books Publisher."
   ]
  },
  {
   "cell_type": "markdown",
   "id": "1d7504e0",
   "metadata": {},
   "source": [
    "#### User Dataset"
   ]
  },
  {
   "cell_type": "code",
   "execution_count": 42,
   "id": "53128d35",
   "metadata": {},
   "outputs": [
    {
     "data": {
      "text/html": [
       "<div>\n",
       "<style scoped>\n",
       "    .dataframe tbody tr th:only-of-type {\n",
       "        vertical-align: middle;\n",
       "    }\n",
       "\n",
       "    .dataframe tbody tr th {\n",
       "        vertical-align: top;\n",
       "    }\n",
       "\n",
       "    .dataframe thead th {\n",
       "        text-align: right;\n",
       "    }\n",
       "</style>\n",
       "<table border=\"1\" class=\"dataframe\">\n",
       "  <thead>\n",
       "    <tr style=\"text-align: right;\">\n",
       "      <th></th>\n",
       "      <th>User-ID</th>\n",
       "      <th>Location</th>\n",
       "      <th>Age</th>\n",
       "    </tr>\n",
       "  </thead>\n",
       "  <tbody>\n",
       "    <tr>\n",
       "      <th>0</th>\n",
       "      <td>1</td>\n",
       "      <td>nyc, new york, usa</td>\n",
       "      <td>NaN</td>\n",
       "    </tr>\n",
       "    <tr>\n",
       "      <th>1</th>\n",
       "      <td>2</td>\n",
       "      <td>stockton, california, usa</td>\n",
       "      <td>18.0</td>\n",
       "    </tr>\n",
       "    <tr>\n",
       "      <th>2</th>\n",
       "      <td>3</td>\n",
       "      <td>moscow, yukon territory, russia</td>\n",
       "      <td>NaN</td>\n",
       "    </tr>\n",
       "    <tr>\n",
       "      <th>3</th>\n",
       "      <td>4</td>\n",
       "      <td>porto, v.n.gaia, portugal</td>\n",
       "      <td>17.0</td>\n",
       "    </tr>\n",
       "    <tr>\n",
       "      <th>4</th>\n",
       "      <td>5</td>\n",
       "      <td>farnborough, hants, united kingdom</td>\n",
       "      <td>NaN</td>\n",
       "    </tr>\n",
       "  </tbody>\n",
       "</table>\n",
       "</div>"
      ],
      "text/plain": [
       "   User-ID                            Location   Age\n",
       "0        1                  nyc, new york, usa   NaN\n",
       "1        2           stockton, california, usa  18.0\n",
       "2        3     moscow, yukon territory, russia   NaN\n",
       "3        4           porto, v.n.gaia, portugal  17.0\n",
       "4        5  farnborough, hants, united kingdom   NaN"
      ]
     },
     "execution_count": 42,
     "metadata": {},
     "output_type": "execute_result"
    }
   ],
   "source": [
    "User=pd.read_csv('Users.csv')\n",
    "User.head()"
   ]
  },
  {
   "cell_type": "code",
   "execution_count": 43,
   "id": "d126a2a2",
   "metadata": {},
   "outputs": [
    {
     "data": {
      "text/plain": [
       "(278858, 3)"
      ]
     },
     "execution_count": 43,
     "metadata": {},
     "output_type": "execute_result"
    }
   ],
   "source": [
    "User.shape"
   ]
  },
  {
   "cell_type": "markdown",
   "id": "864ff341",
   "metadata": {},
   "source": [
    "There are 278858 rows and 3 columns"
   ]
  },
  {
   "cell_type": "code",
   "execution_count": 44,
   "id": "fe197347",
   "metadata": {},
   "outputs": [
    {
     "name": "stdout",
     "output_type": "stream",
     "text": [
      "<class 'pandas.core.frame.DataFrame'>\n",
      "RangeIndex: 278858 entries, 0 to 278857\n",
      "Data columns (total 3 columns):\n",
      " #   Column    Non-Null Count   Dtype  \n",
      "---  ------    --------------   -----  \n",
      " 0   User-ID   278858 non-null  int64  \n",
      " 1   Location  278858 non-null  object \n",
      " 2   Age       168096 non-null  float64\n",
      "dtypes: float64(1), int64(1), object(1)\n",
      "memory usage: 6.4+ MB\n"
     ]
    }
   ],
   "source": [
    "User.info()"
   ]
  },
  {
   "cell_type": "code",
   "execution_count": 45,
   "id": "8e1e3718",
   "metadata": {},
   "outputs": [
    {
     "name": "stdout",
     "output_type": "stream",
     "text": [
      "Unique values of 'User-ID':\n",
      "[     1      2      3 ... 278856 278857 278858]\n",
      "\n",
      "Unique values of 'Location':\n",
      "['nyc, new york, usa' 'stockton, california, usa'\n",
      " 'moscow, yukon territory, russia' ... 'sergnano, lombardia, italy'\n",
      " 'stranraer, n/a, united kingdom' 'tacoma, washington, united kingdom']\n",
      "\n",
      "Unique values of 'Age':\n",
      "[ nan  18.  17.  61.  26.  14.  25.  19.  46.  55.  32.  24.  20.  34.\n",
      "  23.  51.  31.  21.  44.  30.  57.  43.  37.  41.  54.  42.  50.  39.\n",
      "  53.  47.  36.  28.  35.  13.  58.  49.  38.  45.  62.  63.  27.  33.\n",
      "  29.  66.  40.  15.  60.   0.  79.  22.  16.  65.  59.  48.  72.  56.\n",
      "  67.   1.  80.  52.  69.  71.  73.  78.   9.  64. 103. 104.  12.  74.\n",
      "  75. 231.   3.  76.  83.  68. 119.  11.  77.   2.  70.  93.   8.   7.\n",
      "   4.  81. 114. 230. 239.  10.   5. 148. 151.   6. 101. 201.  96.  84.\n",
      "  82.  90. 123. 244. 133.  91. 128.  94.  85. 141. 110.  97. 219.  86.\n",
      " 124.  92. 175. 172. 209. 212. 237.  87. 162. 100. 156. 136.  95.  89.\n",
      " 106.  99. 108. 210.  88. 199. 147. 168. 132. 159. 186. 152. 102. 116.\n",
      " 200. 115. 226. 137. 207. 229. 138. 109. 105. 228. 183. 204.  98. 223.\n",
      " 113. 208. 107. 157. 111. 146. 118. 220. 143. 140. 189. 127.]\n",
      "\n"
     ]
    }
   ],
   "source": [
    "#Finding unique values in each column\n",
    "for column in User.columns:\n",
    "    # Get unique values of the column\n",
    "    unique_values=User[column].unique()\n",
    "    \n",
    "    # Print the column name and its unique values\n",
    "    print(f\"Unique values of '{column}':\")\n",
    "    print(unique_values)\n",
    "    print()"
   ]
  },
  {
   "cell_type": "markdown",
   "id": "e3e42bb9",
   "metadata": {},
   "source": [
    "In the 'Age'column we can see many missing values and also outliers,ie,age greater than 100.So we need to handle this."
   ]
  },
  {
   "cell_type": "code",
   "execution_count": 46,
   "id": "06a34a02",
   "metadata": {},
   "outputs": [
    {
     "data": {
      "text/plain": [
       "57339"
      ]
     },
     "execution_count": 46,
     "metadata": {},
     "output_type": "execute_result"
    }
   ],
   "source": [
    "User.Location.nunique()"
   ]
  },
  {
   "cell_type": "code",
   "execution_count": 47,
   "id": "517bca40",
   "metadata": {},
   "outputs": [],
   "source": [
    "for i in User:\n",
    "    User['Country']=User.Location.str.extract(r'\\,+\\s?(\\w*\\s?\\w*)\\\"*$') "
   ]
  },
  {
   "cell_type": "code",
   "execution_count": 48,
   "id": "3bd16303",
   "metadata": {},
   "outputs": [],
   "source": [
    "#drop location column\n",
    "User.drop('Location',axis=1,inplace=True)"
   ]
  },
  {
   "cell_type": "code",
   "execution_count": 49,
   "id": "96ae58c0",
   "metadata": {},
   "outputs": [],
   "source": [
    "#User.info()"
   ]
  },
  {
   "cell_type": "code",
   "execution_count": 50,
   "id": "a417808c",
   "metadata": {},
   "outputs": [
    {
     "data": {
      "text/plain": [
       "{'',\n",
       " '01776',\n",
       " '02458',\n",
       " '19104',\n",
       " '23232',\n",
       " '30064',\n",
       " '85021',\n",
       " '87510',\n",
       " '_ brasil',\n",
       " 'a',\n",
       " 'aaa',\n",
       " 'adsgfdr',\n",
       " 'afghanistan',\n",
       " 'ahrensburg',\n",
       " 'alachua',\n",
       " 'albania',\n",
       " 'alderney',\n",
       " 'algeria',\n",
       " 'algérie',\n",
       " 'allen',\n",
       " 'ama lurra',\n",
       " 'america',\n",
       " 'american samoa',\n",
       " 'andorra',\n",
       " 'angola',\n",
       " 'antarctica',\n",
       " 'aotearoa',\n",
       " 'argentina',\n",
       " 'armenia',\n",
       " 'aroostook',\n",
       " 'aruba',\n",
       " 'asturies',\n",
       " 'auckland',\n",
       " 'austbritania',\n",
       " 'australia',\n",
       " 'australii',\n",
       " 'austria',\n",
       " 'autralia',\n",
       " 'az',\n",
       " 'azerbaijan',\n",
       " 'bademn würtemberg',\n",
       " 'bahamas',\n",
       " 'bahrain',\n",
       " 'baltimore',\n",
       " 'bangladesh',\n",
       " 'barbados',\n",
       " 'basilicata',\n",
       " 'basque country',\n",
       " 'bavaria',\n",
       " 'baxter',\n",
       " 'bbbzzzzz',\n",
       " 'belarus',\n",
       " 'belgi',\n",
       " 'belgique',\n",
       " 'belgium',\n",
       " 'belize',\n",
       " 'bell',\n",
       " 'benin',\n",
       " 'berguedà',\n",
       " 'bermuda',\n",
       " 'bernalillo',\n",
       " 'bfe',\n",
       " 'bhutan',\n",
       " 'bih',\n",
       " 'bkk',\n",
       " 'bladen',\n",
       " 'bolivia',\n",
       " 'bosnia',\n",
       " 'botswana',\n",
       " 'brasil',\n",
       " 'brazil',\n",
       " 'brunei',\n",
       " 'brunei darussalam',\n",
       " 'bucks',\n",
       " 'bulgaria',\n",
       " 'buncombe',\n",
       " 'burkina faso',\n",
       " 'burkinafasu',\n",
       " 'burlington',\n",
       " 'burma',\n",
       " 'butler',\n",
       " 'c',\n",
       " 'cadd0',\n",
       " 'calabria',\n",
       " 'california',\n",
       " 'cambodia',\n",
       " 'camden',\n",
       " 'cameroon',\n",
       " 'can',\n",
       " 'canada',\n",
       " 'canada eh',\n",
       " 'cananda',\n",
       " 'canda',\n",
       " 'cape may',\n",
       " 'cape town',\n",
       " 'cape verde',\n",
       " 'caribbean sea',\n",
       " 'carter',\n",
       " 'cass',\n",
       " 'catalonia',\n",
       " 'catalunya',\n",
       " 'catalunya spain',\n",
       " 'cayman islands',\n",
       " 'chad',\n",
       " 'channel islands',\n",
       " 'cherokee',\n",
       " 'chian',\n",
       " 'chile',\n",
       " 'china',\n",
       " 'china öð¹ú',\n",
       " 'chinaöð¹ú',\n",
       " 'clackamas',\n",
       " 'clinton',\n",
       " 'cn',\n",
       " 'cnina',\n",
       " 'collin',\n",
       " 'colombia',\n",
       " 'comoros',\n",
       " 'congo',\n",
       " 'cook',\n",
       " 'copenhagen',\n",
       " 'costa rica',\n",
       " 'country',\n",
       " 'courtenay',\n",
       " 'croatia',\n",
       " 'csa',\n",
       " 'cuba',\n",
       " 'cyprus',\n",
       " 'czech republic',\n",
       " 'côte d',\n",
       " 'dauphin',\n",
       " 'davidson',\n",
       " 'de',\n",
       " 'dekalb',\n",
       " 'denmark',\n",
       " 'der',\n",
       " 'deutsches reich',\n",
       " 'deutschland',\n",
       " 'dfg',\n",
       " 'distrito federal',\n",
       " 'diy',\n",
       " 'djibouti',\n",
       " 'dominica',\n",
       " 'dominican republic',\n",
       " 'doodedoo',\n",
       " 'dublin',\n",
       " 'east africa',\n",
       " 'ecuador',\n",
       " 'effingham',\n",
       " 'egypt',\n",
       " 'el salvador',\n",
       " 'england',\n",
       " 'england uk',\n",
       " 'english',\n",
       " 'equatorial geuinea',\n",
       " 'eritrea',\n",
       " 'españa',\n",
       " 'essex',\n",
       " 'estonia',\n",
       " 'ethiopia',\n",
       " 'europa',\n",
       " 'europe',\n",
       " 'euskadi',\n",
       " 'euskal herria',\n",
       " 'evil empire',\n",
       " 'fairyland',\n",
       " 'faroe islands',\n",
       " 'ferrara',\n",
       " 'fifi',\n",
       " 'fiji',\n",
       " 'finland',\n",
       " 'fontana',\n",
       " 'fort bend',\n",
       " 'fortaleza',\n",
       " 'framingham',\n",
       " 'france',\n",
       " 'fred',\n",
       " 'frome',\n",
       " 'fulton',\n",
       " 'gabon',\n",
       " 'galiza',\n",
       " 'galiza neghra',\n",
       " 'gb',\n",
       " 'geermany',\n",
       " 'georgia',\n",
       " 'germany',\n",
       " 'germay',\n",
       " 'ghana',\n",
       " 'goteborg',\n",
       " 'granville',\n",
       " 'greece',\n",
       " 'grenada',\n",
       " 'guam',\n",
       " 'guatemala',\n",
       " 'guernsey',\n",
       " 'guinea',\n",
       " 'guyana',\n",
       " 'haiti',\n",
       " 'hamilton',\n",
       " 'hampden',\n",
       " 'harvatija',\n",
       " 'heaven',\n",
       " 'hennipen',\n",
       " 'henry',\n",
       " 'hernando',\n",
       " 'hidalgo',\n",
       " 'hillsborough',\n",
       " 'holland',\n",
       " 'holy see',\n",
       " 'honduras',\n",
       " 'hong kong',\n",
       " 'hongkong',\n",
       " 'hornyonic',\n",
       " 'houston',\n",
       " 'hungary',\n",
       " 'iceland',\n",
       " 'id',\n",
       " 'il canada',\n",
       " 'in',\n",
       " 'india',\n",
       " 'indiai',\n",
       " 'indonesia',\n",
       " 'input error',\n",
       " 'iran',\n",
       " 'iraq',\n",
       " 'ireland',\n",
       " 'israel',\n",
       " 'isreal',\n",
       " 'italia',\n",
       " 'italien',\n",
       " 'italy',\n",
       " 'itlay',\n",
       " 'jackson',\n",
       " 'jamaica',\n",
       " 'japan',\n",
       " 'jersey',\n",
       " 'johnson',\n",
       " 'jordan',\n",
       " 'k1c7b1',\n",
       " 'kazakhstan',\n",
       " 'kenya',\n",
       " 'kern',\n",
       " 'kiribati',\n",
       " 'korea',\n",
       " 'kosovo',\n",
       " 'ksa',\n",
       " 'kuwait',\n",
       " 'kyrgyzstan',\n",
       " 'kz',\n",
       " 'l',\n",
       " 'la argentina',\n",
       " 'la belgique',\n",
       " 'la france',\n",
       " 'la suisse',\n",
       " 'la svizzera',\n",
       " 'lake',\n",
       " 'lane',\n",
       " 'laos',\n",
       " 'latvia',\n",
       " 'lazio',\n",
       " 'le canada',\n",
       " 'le madagascar',\n",
       " 'lebanon',\n",
       " 'lecce',\n",
       " 'lee',\n",
       " 'lesotho',\n",
       " 'liaoning',\n",
       " 'liberia',\n",
       " 'libya',\n",
       " 'lithuania',\n",
       " 'liushi',\n",
       " 'livingston',\n",
       " 'lj',\n",
       " 'lkjlj',\n",
       " 'lleida',\n",
       " 'lombardia',\n",
       " 'london',\n",
       " 'lornsenland',\n",
       " 'luxembourg',\n",
       " 'macau',\n",
       " 'macedonia',\n",
       " 'madagascar',\n",
       " 'madrid',\n",
       " 'maine',\n",
       " 'malawi',\n",
       " 'malaysia',\n",
       " 'malaysian',\n",
       " 'maldives',\n",
       " 'mali',\n",
       " 'malta',\n",
       " 'maracopa',\n",
       " 'maricopa',\n",
       " 'maroc',\n",
       " 'marrion',\n",
       " 'marshall islands',\n",
       " 'mauritania',\n",
       " 'mauritius',\n",
       " 'mexico',\n",
       " 'micronesia',\n",
       " 'milano',\n",
       " 'minnehaha',\n",
       " 'missouri',\n",
       " 'moldova',\n",
       " 'monaco',\n",
       " 'mongolia',\n",
       " 'monroe',\n",
       " 'monterrey',\n",
       " 'mordor',\n",
       " 'morgan',\n",
       " 'morocco',\n",
       " 'mozambique',\n",
       " 'moçambique',\n",
       " 'my',\n",
       " 'myanmar',\n",
       " 'mérida',\n",
       " 'méxico',\n",
       " 'namibia',\n",
       " nan,\n",
       " 'nederlands',\n",
       " 'nepal',\n",
       " 'netherlands',\n",
       " 'netherlands antilles',\n",
       " 'neverland',\n",
       " 'new london',\n",
       " 'new zealand',\n",
       " 'newzealand',\n",
       " 'nh',\n",
       " 'nicaragua',\n",
       " 'niger',\n",
       " 'nigeria',\n",
       " 'nl',\n",
       " 'no more',\n",
       " 'none',\n",
       " 'north carolina',\n",
       " 'north korea',\n",
       " 'northern ireland',\n",
       " 'norway',\n",
       " 'nowhere',\n",
       " 'nrw',\n",
       " 'nyc',\n",
       " 'nyhamnsläge',\n",
       " 'nz',\n",
       " 'oakland',\n",
       " 'ohio',\n",
       " 'oman',\n",
       " 'onondaga nation',\n",
       " 'orange co',\n",
       " 'orense',\n",
       " 'osceola',\n",
       " 'ouranos',\n",
       " 'pa',\n",
       " 'pakistan',\n",
       " 'palau',\n",
       " 'palestine',\n",
       " 'palm beach',\n",
       " 'panama',\n",
       " 'paraguay',\n",
       " 'pasco',\n",
       " 'pender',\n",
       " 'peru',\n",
       " 'perãº',\n",
       " 'petrolwar nation',\n",
       " 'phila',\n",
       " 'philippine',\n",
       " 'philippines',\n",
       " 'philippinies',\n",
       " 'phillipines',\n",
       " 'phils',\n",
       " 'phippines',\n",
       " 'pinallas',\n",
       " 'pippo',\n",
       " 'pistlavakia',\n",
       " 'poland',\n",
       " 'polk',\n",
       " 'polska',\n",
       " 'portugal',\n",
       " 'pr',\n",
       " 'prc',\n",
       " 'prince william',\n",
       " 'pueblo',\n",
       " 'puerto rico',\n",
       " 'qatar',\n",
       " 'queensland',\n",
       " 'queenspark',\n",
       " 'quit',\n",
       " 'rapides',\n",
       " 'rice',\n",
       " 'richmond country',\n",
       " 'rmi',\n",
       " 'roma',\n",
       " 'romania',\n",
       " 'rosario',\n",
       " 'rosello',\n",
       " 'rsa',\n",
       " 'russia',\n",
       " 'russian federation',\n",
       " 'rutherford',\n",
       " 'rwanda',\n",
       " 'saint loius',\n",
       " 'saint lucia',\n",
       " 'saint luica',\n",
       " 'samoa',\n",
       " 'san bernardino',\n",
       " 'san franicsco',\n",
       " 'san marino',\n",
       " 'san mateo',\n",
       " 'santa barbara',\n",
       " 'sardegna',\n",
       " 'sardinia',\n",
       " 'saudi arabia',\n",
       " 'saudia arabia',\n",
       " 'scotland',\n",
       " 'senegal',\n",
       " 'serbia',\n",
       " 'shelby',\n",
       " 'sicilia',\n",
       " 'sierra leone',\n",
       " 'singapore',\n",
       " 'slo',\n",
       " 'slovak republik',\n",
       " 'slovakia',\n",
       " 'slovenia',\n",
       " 'smith',\n",
       " 'solano',\n",
       " 'solomon islands',\n",
       " 'somalia',\n",
       " 'somewherein space',\n",
       " 'south africa',\n",
       " 'south korea',\n",
       " 'space',\n",
       " 'spain',\n",
       " 'spotsylvania',\n",
       " 'sri lanka',\n",
       " 'srilanka',\n",
       " 'strongbadia',\n",
       " 'sudan',\n",
       " 'suisse',\n",
       " 'suriname',\n",
       " 'swaziland',\n",
       " 'swazilandia',\n",
       " 'sweden',\n",
       " 'switzerland',\n",
       " 'syria',\n",
       " 'taiwan',\n",
       " 'tajikistan',\n",
       " 'tanzania',\n",
       " 'tdzimi',\n",
       " 'texas',\n",
       " 'thailand',\n",
       " 'thailoand',\n",
       " 'the',\n",
       " 'the gambia',\n",
       " 'the netherlands',\n",
       " 'the philippines',\n",
       " 'thing',\n",
       " 'tobago',\n",
       " 'togo',\n",
       " 'tonga',\n",
       " 'toscana',\n",
       " 'travelling',\n",
       " 'trinidad',\n",
       " 'tunisia',\n",
       " 'turkei',\n",
       " 'turkey',\n",
       " 'turkmenistan',\n",
       " 'tyrtyrt',\n",
       " 'türkiye',\n",
       " 'u',\n",
       " 'u k',\n",
       " 'ua',\n",
       " 'uae',\n",
       " 'uganda',\n",
       " 'uk',\n",
       " 'ukrain',\n",
       " 'ukraine',\n",
       " 'unit',\n",
       " 'unite states',\n",
       " 'united kindgdom',\n",
       " 'united kindgonm',\n",
       " 'united kingdom',\n",
       " 'united sates',\n",
       " 'united staes',\n",
       " 'united state',\n",
       " 'united statea',\n",
       " 'united stated',\n",
       " 'united states',\n",
       " 'universe',\n",
       " 'unknown',\n",
       " 'urugua',\n",
       " 'uruguay',\n",
       " 'us',\n",
       " 'usa',\n",
       " 'ussurfing',\n",
       " 'ust',\n",
       " 'uusa',\n",
       " 'uyo',\n",
       " 'uzbekistan',\n",
       " 'valtesse',\n",
       " 'van wert',\n",
       " 'vanuatu',\n",
       " 'vatican city',\n",
       " 'venezuela',\n",
       " 'ventura',\n",
       " 'ventura county',\n",
       " 'vicenza',\n",
       " 'victoria',\n",
       " 'vietnam',\n",
       " 'vorce',\n",
       " 'wales',\n",
       " 'washtenaw',\n",
       " 'west yorkshire',\n",
       " 'whatcom',\n",
       " 'windham',\n",
       " 'wonderful usa',\n",
       " 'wood',\n",
       " 'worcester',\n",
       " 'x',\n",
       " 'xinyu',\n",
       " 'xxxxxx',\n",
       " 'yakima',\n",
       " 'yanhill',\n",
       " 'yemen',\n",
       " 'ysa',\n",
       " 'yugoslavia',\n",
       " 'yunling',\n",
       " 'z',\n",
       " 'zambia',\n",
       " 'zhengjiang',\n",
       " 'zimbabwe',\n",
       " 'öð¹ú'}"
      ]
     },
     "execution_count": 50,
     "metadata": {},
     "output_type": "execute_result"
    }
   ],
   "source": [
    "#Displaying the country names\n",
    "set(User['Country'])"
   ]
  },
  {
   "cell_type": "markdown",
   "id": "1954e133",
   "metadata": {},
   "source": [
    "Here some data are mis-spelled, let's correct it."
   ]
  },
  {
   "cell_type": "code",
   "execution_count": 51,
   "id": "9d13341c",
   "metadata": {},
   "outputs": [],
   "source": [
    "#correcting the mispelled country names\n",
    "User.loc[User['Country'].isin(['australii','autralia','western australia']), 'Country'] = 'australia'\n",
    "User.loc[User['Country'].isin(['unite states','01776','02458','19104','23232','30064','85021','87510','united sates','united staes','united state','united statea','united stated','america'\n",
    "                                      'united stated of america','united states','united states of america','us','us of a','us virgin islands',\n",
    "                                      'usa  canada','usa currently living in england','uusa','usaa','wonderful usa','california','orange co']), 'Country'] = 'usa'\n",
    "User.loc[User['Country'].isin(['united kindgdom', 'united kindgonm','united kingdom','u k']), 'Country'] = 'uk'  \n",
    "User.loc[User['Country'].isin(['the philippines', 'philippines', 'philippinies', 'phillipines', 'phils', 'phippines']), 'Country'] = 'philippines'                                      \n",
    "User.loc[User['Country'].isin(['','xxxxxx','universe','nowhere','x','y','a','öð¹ú','the','unknown',np.nan,'n/a','aaa','z','somewherein space']), 'Country'] = 'others'\n",
    "User.loc[User['Country'].isin([ 'italia','italien','itlay']), 'Country'] = 'italy'\n",
    "User.loc[User['Country'].isin([ ' china öð¹ú','chinaöð¹ú','chian']), 'Country'] = 'china'\n",
    "User['Country'].replace([ 'the gambia','the netherlands','geermany','srilanka','saudia arabia','brasil','_ brasil','indiai','malaysian','hongkong','russian federation'], \n",
    "                            ['gambia','netherlands','germany','sri lanka','saudi arabia','brazil','brazil','india','malaysia','hong kong','russia'],inplace=True)  "
   ]
  },
  {
   "cell_type": "code",
   "execution_count": 52,
   "id": "feb7a005",
   "metadata": {},
   "outputs": [],
   "source": [
    "#Converting the country names to uppercase\n",
    "User['Country']=User['Country'].str.upper()"
   ]
  },
  {
   "cell_type": "code",
   "execution_count": 53,
   "id": "84eae1a5",
   "metadata": {},
   "outputs": [
    {
     "data": {
      "text/plain": [
       "Text(0.5, 1.0, 'Count of users Country wise')"
      ]
     },
     "execution_count": 53,
     "metadata": {},
     "output_type": "execute_result"
    },
    {
     "data": {
      "image/png": "[encoded data removed]",
      "text/plain": [
       "<Figure size 1500x700 with 1 Axes>"
      ]
     },
     "metadata": {},
     "output_type": "display_data"
    }
   ],
   "source": [
    "plt.figure(figsize=(15,7))\n",
    "sns.countplot(y='Country',data=User,order=pd.value_counts(User['Country']).iloc[:10].index)\n",
    "plt.title('Count of users Country wise')"
   ]
  },
  {
   "cell_type": "markdown",
   "id": "2b6f66e7",
   "metadata": {},
   "source": [
    "From this graph we can observe that most of the users are from USA."
   ]
  },
  {
   "cell_type": "code",
   "execution_count": 54,
   "id": "4c00c58e",
   "metadata": {},
   "outputs": [
    {
     "data": {
      "text/plain": [
       "User-ID         0\n",
       "Age        110762\n",
       "Country         0\n",
       "dtype: int64"
      ]
     },
     "execution_count": 54,
     "metadata": {},
     "output_type": "execute_result"
    }
   ],
   "source": [
    "User.isnull().sum()"
   ]
  },
  {
   "cell_type": "markdown",
   "id": "6459c6b5",
   "metadata": {},
   "source": [
    "Many missing values are present in Age column."
   ]
  },
  {
   "cell_type": "code",
   "execution_count": 55,
   "id": "51436b09",
   "metadata": {},
   "outputs": [],
   "source": [
    "# retrieving Age data between 10 to 100\n",
    "User.loc[(User['Age']>100)|(User['Age']<10)]=np.nan"
   ]
  },
  {
   "cell_type": "code",
   "execution_count": 56,
   "id": "fd29bd4b",
   "metadata": {},
   "outputs": [],
   "source": [
    "#Filling null values with mean\n",
    "User['Age'].fillna((User['Age'].mean()),inplace=True)"
   ]
  },
  {
   "cell_type": "code",
   "execution_count": 57,
   "id": "d44b49e3",
   "metadata": {},
   "outputs": [
    {
     "data": {
      "text/plain": [
       "array([ 34.77712242,  18.        ,  17.        ,  61.        ,\n",
       "        26.        ,  14.        ,  25.        ,  19.        ,\n",
       "        46.        ,  55.        ,  32.        ,  24.        ,\n",
       "        20.        ,  34.        ,  23.        ,  51.        ,\n",
       "        31.        ,  21.        ,  44.        ,  30.        ,\n",
       "        57.        ,  43.        ,  37.        ,  41.        ,\n",
       "        54.        ,  42.        ,  50.        ,  39.        ,\n",
       "        53.        ,  47.        ,  36.        ,  28.        ,\n",
       "        35.        ,  13.        ,  58.        ,  49.        ,\n",
       "        38.        ,  45.        ,  62.        ,  63.        ,\n",
       "        27.        ,  33.        ,  29.        ,  66.        ,\n",
       "        40.        ,  15.        ,  60.        ,  79.        ,\n",
       "        22.        ,  16.        ,  65.        ,  59.        ,\n",
       "        48.        ,  72.        ,  56.        ,  67.        ,\n",
       "        80.        ,  52.        ,  69.        ,  71.        ,\n",
       "        73.        ,  78.        ,  64.        ,  12.        ,\n",
       "        74.        ,  75.        ,  76.        ,  83.        ,\n",
       "        68.        ,  11.        ,  77.        ,  70.        ,\n",
       "        93.        ,  81.        ,  10.        ,  96.        ,\n",
       "        84.        ,  82.        ,  90.        ,  91.        ,\n",
       "        94.        ,  85.        ,  97.        ,  86.        ,\n",
       "        92.        ,  87.        , 100.        ,  95.        ,\n",
       "        89.        ,  99.        ,  88.        ,  98.        ])"
      ]
     },
     "execution_count": 57,
     "metadata": {},
     "output_type": "execute_result"
    }
   ],
   "source": [
    "User['Age'].unique()"
   ]
  },
  {
   "cell_type": "code",
   "execution_count": 58,
   "id": "078db050",
   "metadata": {},
   "outputs": [
    {
     "data": {
      "text/plain": [
       "0"
      ]
     },
     "execution_count": 58,
     "metadata": {},
     "output_type": "execute_result"
    }
   ],
   "source": [
    "User['Age'].isna().sum()"
   ]
  },
  {
   "cell_type": "code",
   "execution_count": 59,
   "id": "c892d11b",
   "metadata": {},
   "outputs": [],
   "source": [
    "User['Age']=User['Age'].astype(int) "
   ]
  },
  {
   "cell_type": "code",
   "execution_count": 60,
   "id": "3df58a61",
   "metadata": {},
   "outputs": [
    {
     "data": {
      "image/png": "[encoded data removed]",
      "text/plain": [
       "<Figure size 1000x800 with 1 Axes>"
      ]
     },
     "metadata": {},
     "output_type": "display_data"
    }
   ],
   "source": [
    "plt.figure(figsize=(10,8))\n",
    "User.Age.hist(bins=[10*i for i in range(1, 10)], color = 'cyan')     \n",
    "plt.title('Age Distribution')\n",
    "plt.xlabel('Age')\n",
    "plt.ylabel('Count')\n",
    "plt.show()"
   ]
  },
  {
   "cell_type": "markdown",
   "id": "aca8bacd",
   "metadata": {},
   "source": [
    "+ It is obvious that most of the user books are from Age 30 to 40.\n",
    "+ The age group between 20-30 are immensely attracted to read books published by Author.\n",
    "+ We can observe same pitch for Age group between 10-20 and 50-60. There are can be lot of different reasons."
   ]
  },
  {
   "cell_type": "code",
   "execution_count": 61,
   "id": "d6b77023",
   "metadata": {},
   "outputs": [
    {
     "data": {
      "text/plain": [
       "1434"
      ]
     },
     "execution_count": 61,
     "metadata": {},
     "output_type": "execute_result"
    }
   ],
   "source": [
    "User.duplicated().sum()"
   ]
  },
  {
   "cell_type": "code",
   "execution_count": 62,
   "id": "c3462aba",
   "metadata": {},
   "outputs": [],
   "source": [
    "## Drop duplicate rows\n",
    "User.drop_duplicates(keep='last',inplace=True)\n",
    "User.reset_index(drop=True,inplace=True)"
   ]
  },
  {
   "cell_type": "code",
   "execution_count": 63,
   "id": "835a82d7",
   "metadata": {},
   "outputs": [
    {
     "data": {
      "text/html": [
       "<div>\n",
       "<style scoped>\n",
       "    .dataframe tbody tr th:only-of-type {\n",
       "        vertical-align: middle;\n",
       "    }\n",
       "\n",
       "    .dataframe tbody tr th {\n",
       "        vertical-align: top;\n",
       "    }\n",
       "\n",
       "    .dataframe thead th {\n",
       "        text-align: right;\n",
       "    }\n",
       "</style>\n",
       "<table border=\"1\" class=\"dataframe\">\n",
       "  <thead>\n",
       "    <tr style=\"text-align: right;\">\n",
       "      <th></th>\n",
       "      <th>User-ID</th>\n",
       "      <th>Age</th>\n",
       "      <th>Country</th>\n",
       "    </tr>\n",
       "  </thead>\n",
       "  <tbody>\n",
       "    <tr>\n",
       "      <th>0</th>\n",
       "      <td>1.0</td>\n",
       "      <td>34</td>\n",
       "      <td>USA</td>\n",
       "    </tr>\n",
       "    <tr>\n",
       "      <th>1</th>\n",
       "      <td>2.0</td>\n",
       "      <td>18</td>\n",
       "      <td>USA</td>\n",
       "    </tr>\n",
       "    <tr>\n",
       "      <th>2</th>\n",
       "      <td>3.0</td>\n",
       "      <td>34</td>\n",
       "      <td>RUSSIA</td>\n",
       "    </tr>\n",
       "    <tr>\n",
       "      <th>3</th>\n",
       "      <td>4.0</td>\n",
       "      <td>17</td>\n",
       "      <td>PORTUGAL</td>\n",
       "    </tr>\n",
       "  </tbody>\n",
       "</table>\n",
       "</div>"
      ],
      "text/plain": [
       "   User-ID  Age   Country\n",
       "0      1.0   34       USA\n",
       "1      2.0   18       USA\n",
       "2      3.0   34    RUSSIA\n",
       "3      4.0   17  PORTUGAL"
      ]
     },
     "execution_count": 63,
     "metadata": {},
     "output_type": "execute_result"
    }
   ],
   "source": [
    "User.head(4)"
   ]
  },
  {
   "cell_type": "code",
   "execution_count": 64,
   "id": "ebd840d7",
   "metadata": {},
   "outputs": [
    {
     "data": {
      "text/plain": [
       "1"
      ]
     },
     "execution_count": 64,
     "metadata": {},
     "output_type": "execute_result"
    }
   ],
   "source": [
    "User['User-ID'].isna().sum()"
   ]
  },
  {
   "cell_type": "code",
   "execution_count": 65,
   "id": "25c0d9b4",
   "metadata": {},
   "outputs": [],
   "source": [
    "User=User.dropna(subset=['User-ID'])"
   ]
  },
  {
   "cell_type": "code",
   "execution_count": 66,
   "id": "34237f37",
   "metadata": {},
   "outputs": [],
   "source": [
    "User['User-ID']=User['User-ID'].astype(int)"
   ]
  },
  {
   "cell_type": "code",
   "execution_count": 67,
   "id": "b207b928",
   "metadata": {},
   "outputs": [
    {
     "name": "stdout",
     "output_type": "stream",
     "text": [
      "<class 'pandas.core.frame.DataFrame'>\n",
      "Int64Index: 277423 entries, 0 to 277423\n",
      "Data columns (total 3 columns):\n",
      " #   Column   Non-Null Count   Dtype \n",
      "---  ------   --------------   ----- \n",
      " 0   User-ID  277423 non-null  int32 \n",
      " 1   Age      277423 non-null  int32 \n",
      " 2   Country  277423 non-null  object\n",
      "dtypes: int32(2), object(1)\n",
      "memory usage: 6.3+ MB\n"
     ]
    }
   ],
   "source": [
    "User.info()"
   ]
  },
  {
   "cell_type": "code",
   "execution_count": 68,
   "id": "74c10a83",
   "metadata": {},
   "outputs": [
    {
     "data": {
      "text/plain": [
       "(277423, 3)"
      ]
     },
     "execution_count": 68,
     "metadata": {},
     "output_type": "execute_result"
    }
   ],
   "source": [
    "User.shape"
   ]
  },
  {
   "cell_type": "markdown",
   "id": "e21d9ee1",
   "metadata": {},
   "source": [
    "#### Rating Dataset"
   ]
  },
  {
   "cell_type": "code",
   "execution_count": 69,
   "id": "030edcba",
   "metadata": {},
   "outputs": [
    {
     "data": {
      "text/html": [
       "<div>\n",
       "<style scoped>\n",
       "    .dataframe tbody tr th:only-of-type {\n",
       "        vertical-align: middle;\n",
       "    }\n",
       "\n",
       "    .dataframe tbody tr th {\n",
       "        vertical-align: top;\n",
       "    }\n",
       "\n",
       "    .dataframe thead th {\n",
       "        text-align: right;\n",
       "    }\n",
       "</style>\n",
       "<table border=\"1\" class=\"dataframe\">\n",
       "  <thead>\n",
       "    <tr style=\"text-align: right;\">\n",
       "      <th></th>\n",
       "      <th>User-ID</th>\n",
       "      <th>ISBN</th>\n",
       "      <th>Book-Rating</th>\n",
       "    </tr>\n",
       "  </thead>\n",
       "  <tbody>\n",
       "    <tr>\n",
       "      <th>0</th>\n",
       "      <td>276725</td>\n",
       "      <td>034545104X</td>\n",
       "      <td>0</td>\n",
       "    </tr>\n",
       "    <tr>\n",
       "      <th>1</th>\n",
       "      <td>276726</td>\n",
       "      <td>0155061224</td>\n",
       "      <td>5</td>\n",
       "    </tr>\n",
       "    <tr>\n",
       "      <th>2</th>\n",
       "      <td>276727</td>\n",
       "      <td>0446520802</td>\n",
       "      <td>0</td>\n",
       "    </tr>\n",
       "    <tr>\n",
       "      <th>3</th>\n",
       "      <td>276729</td>\n",
       "      <td>052165615X</td>\n",
       "      <td>3</td>\n",
       "    </tr>\n",
       "    <tr>\n",
       "      <th>4</th>\n",
       "      <td>276729</td>\n",
       "      <td>0521795028</td>\n",
       "      <td>6</td>\n",
       "    </tr>\n",
       "  </tbody>\n",
       "</table>\n",
       "</div>"
      ],
      "text/plain": [
       "   User-ID        ISBN  Book-Rating\n",
       "0   276725  034545104X            0\n",
       "1   276726  0155061224            5\n",
       "2   276727  0446520802            0\n",
       "3   276729  052165615X            3\n",
       "4   276729  0521795028            6"
      ]
     },
     "execution_count": 69,
     "metadata": {},
     "output_type": "execute_result"
    }
   ],
   "source": [
    "Rating=pd.read_csv('Ratings.csv')\n",
    "Rating.head()"
   ]
  },
  {
   "cell_type": "code",
   "execution_count": 70,
   "id": "6404bbb7",
   "metadata": {},
   "outputs": [
    {
     "data": {
      "text/plain": [
       "(1149780, 3)"
      ]
     },
     "execution_count": 70,
     "metadata": {},
     "output_type": "execute_result"
    }
   ],
   "source": [
    "Rating.shape"
   ]
  },
  {
   "cell_type": "code",
   "execution_count": 71,
   "id": "6b39fe3d",
   "metadata": {},
   "outputs": [
    {
     "name": "stdout",
     "output_type": "stream",
     "text": [
      "<class 'pandas.core.frame.DataFrame'>\n",
      "RangeIndex: 1149780 entries, 0 to 1149779\n",
      "Data columns (total 3 columns):\n",
      " #   Column       Non-Null Count    Dtype \n",
      "---  ------       --------------    ----- \n",
      " 0   User-ID      1149780 non-null  int64 \n",
      " 1   ISBN         1149780 non-null  object\n",
      " 2   Book-Rating  1149780 non-null  int64 \n",
      "dtypes: int64(2), object(1)\n",
      "memory usage: 26.3+ MB\n"
     ]
    }
   ],
   "source": [
    "Rating.info()"
   ]
  },
  {
   "cell_type": "code",
   "execution_count": 72,
   "id": "ca4b066f",
   "metadata": {},
   "outputs": [
    {
     "data": {
      "text/plain": [
       "User-ID        0\n",
       "ISBN           0\n",
       "Book-Rating    0\n",
       "dtype: int64"
      ]
     },
     "execution_count": 72,
     "metadata": {},
     "output_type": "execute_result"
    }
   ],
   "source": [
    "Rating.isnull().sum()"
   ]
  },
  {
   "cell_type": "markdown",
   "id": "524199f9",
   "metadata": {},
   "source": [
    "No null values are present in Rating dataset."
   ]
  },
  {
   "cell_type": "code",
   "execution_count": 73,
   "id": "709c4bf6",
   "metadata": {},
   "outputs": [
    {
     "data": {
      "text/html": [
       "<div>\n",
       "<style scoped>\n",
       "    .dataframe tbody tr th:only-of-type {\n",
       "        vertical-align: middle;\n",
       "    }\n",
       "\n",
       "    .dataframe tbody tr th {\n",
       "        vertical-align: top;\n",
       "    }\n",
       "\n",
       "    .dataframe thead th {\n",
       "        text-align: right;\n",
       "    }\n",
       "</style>\n",
       "<table border=\"1\" class=\"dataframe\">\n",
       "  <thead>\n",
       "    <tr style=\"text-align: right;\">\n",
       "      <th></th>\n",
       "      <th>User-ID</th>\n",
       "      <th>ISBN</th>\n",
       "      <th>Book-Rating</th>\n",
       "    </tr>\n",
       "  </thead>\n",
       "  <tbody>\n",
       "    <tr>\n",
       "      <th>0</th>\n",
       "      <td>276725</td>\n",
       "      <td>034545104X</td>\n",
       "      <td>0</td>\n",
       "    </tr>\n",
       "    <tr>\n",
       "      <th>1</th>\n",
       "      <td>276726</td>\n",
       "      <td>0155061224</td>\n",
       "      <td>5</td>\n",
       "    </tr>\n",
       "    <tr>\n",
       "      <th>2</th>\n",
       "      <td>276727</td>\n",
       "      <td>0446520802</td>\n",
       "      <td>0</td>\n",
       "    </tr>\n",
       "    <tr>\n",
       "      <th>3</th>\n",
       "      <td>276729</td>\n",
       "      <td>052165615X</td>\n",
       "      <td>3</td>\n",
       "    </tr>\n",
       "    <tr>\n",
       "      <th>4</th>\n",
       "      <td>276729</td>\n",
       "      <td>0521795028</td>\n",
       "      <td>6</td>\n",
       "    </tr>\n",
       "  </tbody>\n",
       "</table>\n",
       "</div>"
      ],
      "text/plain": [
       "   User-ID        ISBN  Book-Rating\n",
       "0   276725  034545104X            0\n",
       "1   276726  0155061224            5\n",
       "2   276727  0446520802            0\n",
       "3   276729  052165615X            3\n",
       "4   276729  0521795028            6"
      ]
     },
     "execution_count": 73,
     "metadata": {},
     "output_type": "execute_result"
    }
   ],
   "source": [
    "# finding unique ISBNs from Rating and Book dataset\n",
    "unique_ISBN=Rating[Rating.ISBN.isin(Book.ISBN)]\n",
    "unique_ISBN.head()"
   ]
  },
  {
   "cell_type": "code",
   "execution_count": 74,
   "id": "820b37a6",
   "metadata": {},
   "outputs": [
    {
     "data": {
      "text/plain": [
       "(1031136, 3)"
      ]
     },
     "execution_count": 74,
     "metadata": {},
     "output_type": "execute_result"
    }
   ],
   "source": [
    "unique_ISBN.shape"
   ]
  },
  {
   "cell_type": "code",
   "execution_count": 75,
   "id": "8e585d6a",
   "metadata": {},
   "outputs": [
    {
     "data": {
      "text/plain": [
       "array([ 0,  5,  3,  6,  7,  9,  8, 10,  1,  4,  2], dtype=int64)"
      ]
     },
     "execution_count": 75,
     "metadata": {},
     "output_type": "execute_result"
    }
   ],
   "source": [
    "#Finding unique values in 'Book-Rating' column\n",
    "unique_ISBN['Book-Rating'].unique()"
   ]
  },
  {
   "cell_type": "code",
   "execution_count": 76,
   "id": "72bfad65",
   "metadata": {},
   "outputs": [
    {
     "data": {
      "text/plain": [
       "<AxesSubplot:xlabel='Book-Rating', ylabel='count'>"
      ]
     },
     "execution_count": 76,
     "metadata": {},
     "output_type": "execute_result"
    },
    {
     "data": {
      "image/png": "[encoded data removed]",
      "text/plain": [
       "<Figure size 800x600 with 1 Axes>"
      ]
     },
     "metadata": {},
     "output_type": "display_data"
    }
   ],
   "source": [
    "plt.figure(figsize=(8,6))\n",
    "sns.countplot(x=\"Book-Rating\",palette = 'Paired',data=unique_ISBN)"
   ]
  },
  {
   "cell_type": "markdown",
   "id": "07ae70d3",
   "metadata": {},
   "source": [
    "Ratings (Book-Rating) are either explicit, expressed on a scale from 1-10 (higher values denoting higher appreciation), or implicit, expressed by 0.\n",
    "+ This plot shows that users have rated 0 the most, which means they haven't rated books at all."
   ]
  },
  {
   "cell_type": "code",
   "execution_count": 77,
   "id": "60569d55",
   "metadata": {},
   "outputs": [
    {
     "data": {
      "text/plain": [
       "Text(0.5, 1.0, 'Explicit Ratings')"
      ]
     },
     "execution_count": 77,
     "metadata": {},
     "output_type": "execute_result"
    },
    {
     "data": {
      "image/png": "[encoded data removed]",
      "text/plain": [
       "<Figure size 800x600 with 1 Axes>"
      ]
     },
     "metadata": {},
     "output_type": "display_data"
    }
   ],
   "source": [
    "#Explicit Ratings(1-10)\n",
    "plt.figure(figsize=(8,6))\n",
    "data=unique_ISBN[unique_ISBN['Book-Rating']!= 0]\n",
    "sns.countplot(x=\"Book-Rating\",palette = 'Paired',data=data)\n",
    "plt.title(\"Explicit Ratings\")"
   ]
  },
  {
   "cell_type": "markdown",
   "id": "4e4ca26c",
   "metadata": {},
   "source": [
    "+ Mostly the users have rated 8 ratings out of 10 as per books.This may happen when the feedback is positive but not extremely positive as 10 ratings (i.e best books ever).\n",
    "+ Rating 1-4 can be negative impact for books been published.\n",
    "+ For 5 ratings the users might not sure about book ratings whether it's positive or negative impact."
   ]
  },
  {
   "cell_type": "code",
   "execution_count": 78,
   "id": "36835513",
   "metadata": {},
   "outputs": [],
   "source": [
    "#Separating Explicit & Implicit ratings\n",
    "Explicit_Rating=data\n",
    "Implicit_Rating=unique_ISBN[unique_ISBN['Book-Rating'] == 0]"
   ]
  },
  {
   "cell_type": "code",
   "execution_count": 79,
   "id": "e9399aff",
   "metadata": {},
   "outputs": [
    {
     "data": {
      "text/plain": [
       "(383842, 3)"
      ]
     },
     "execution_count": 79,
     "metadata": {},
     "output_type": "execute_result"
    }
   ],
   "source": [
    "Explicit_Rating.shape"
   ]
  },
  {
   "cell_type": "code",
   "execution_count": 80,
   "id": "ef69dd1e",
   "metadata": {},
   "outputs": [
    {
     "data": {
      "text/plain": [
       "(647294, 3)"
      ]
     },
     "execution_count": 80,
     "metadata": {},
     "output_type": "execute_result"
    }
   ],
   "source": [
    "Implicit_Rating.shape"
   ]
  },
  {
   "cell_type": "code",
   "execution_count": 81,
   "id": "5609fc70",
   "metadata": {},
   "outputs": [
    {
     "data": {
      "text/html": [
       "<div>\n",
       "<style scoped>\n",
       "    .dataframe tbody tr th:only-of-type {\n",
       "        vertical-align: middle;\n",
       "    }\n",
       "\n",
       "    .dataframe tbody tr th {\n",
       "        vertical-align: top;\n",
       "    }\n",
       "\n",
       "    .dataframe thead th {\n",
       "        text-align: right;\n",
       "    }\n",
       "</style>\n",
       "<table border=\"1\" class=\"dataframe\">\n",
       "  <thead>\n",
       "    <tr style=\"text-align: right;\">\n",
       "      <th></th>\n",
       "      <th>ISBN</th>\n",
       "      <th>Book-Rating</th>\n",
       "    </tr>\n",
       "  </thead>\n",
       "  <tbody>\n",
       "    <tr>\n",
       "      <th>21945</th>\n",
       "      <td>0316666343</td>\n",
       "      <td>707</td>\n",
       "    </tr>\n",
       "    <tr>\n",
       "      <th>117745</th>\n",
       "      <td>0971880107</td>\n",
       "      <td>581</td>\n",
       "    </tr>\n",
       "    <tr>\n",
       "      <th>38819</th>\n",
       "      <td>0385504209</td>\n",
       "      <td>487</td>\n",
       "    </tr>\n",
       "    <tr>\n",
       "      <th>18058</th>\n",
       "      <td>0312195516</td>\n",
       "      <td>383</td>\n",
       "    </tr>\n",
       "    <tr>\n",
       "      <th>4131</th>\n",
       "      <td>0060928336</td>\n",
       "      <td>320</td>\n",
       "    </tr>\n",
       "    <tr>\n",
       "      <th>68898</th>\n",
       "      <td>059035342X</td>\n",
       "      <td>313</td>\n",
       "    </tr>\n",
       "    <tr>\n",
       "      <th>12325</th>\n",
       "      <td>0142001740</td>\n",
       "      <td>307</td>\n",
       "    </tr>\n",
       "    <tr>\n",
       "      <th>51799</th>\n",
       "      <td>0446672211</td>\n",
       "      <td>295</td>\n",
       "    </tr>\n",
       "    <tr>\n",
       "      <th>47986</th>\n",
       "      <td>044023722X</td>\n",
       "      <td>281</td>\n",
       "    </tr>\n",
       "    <tr>\n",
       "      <th>57625</th>\n",
       "      <td>0452282152</td>\n",
       "      <td>278</td>\n",
       "    </tr>\n",
       "  </tbody>\n",
       "</table>\n",
       "</div>"
      ],
      "text/plain": [
       "              ISBN  Book-Rating\n",
       "21945   0316666343          707\n",
       "117745  0971880107          581\n",
       "38819   0385504209          487\n",
       "18058   0312195516          383\n",
       "4131    0060928336          320\n",
       "68898   059035342X          313\n",
       "12325   0142001740          307\n",
       "51799   0446672211          295\n",
       "47986   044023722X          281\n",
       "57625   0452282152          278"
      ]
     },
     "execution_count": 81,
     "metadata": {},
     "output_type": "execute_result"
    }
   ],
   "source": [
    "# most popular explicitely rated books\n",
    "Explicit_Rating.groupby('ISBN')['Book-Rating'].count().reset_index().sort_values(by='Book-Rating', ascending=False)[:10]"
   ]
  },
  {
   "cell_type": "code",
   "execution_count": 82,
   "id": "ac755a97",
   "metadata": {},
   "outputs": [
    {
     "data": {
      "text/html": [
       "<div>\n",
       "<style scoped>\n",
       "    .dataframe tbody tr th:only-of-type {\n",
       "        vertical-align: middle;\n",
       "    }\n",
       "\n",
       "    .dataframe tbody tr th {\n",
       "        vertical-align: top;\n",
       "    }\n",
       "\n",
       "    .dataframe thead th {\n",
       "        text-align: right;\n",
       "    }\n",
       "</style>\n",
       "<table border=\"1\" class=\"dataframe\">\n",
       "  <thead>\n",
       "    <tr style=\"text-align: right;\">\n",
       "      <th></th>\n",
       "      <th>ISBN</th>\n",
       "      <th>Book-Title</th>\n",
       "      <th>Book-Author</th>\n",
       "      <th>Year-Of-Publication</th>\n",
       "      <th>Publisher</th>\n",
       "    </tr>\n",
       "  </thead>\n",
       "  <tbody>\n",
       "    <tr>\n",
       "      <th>26</th>\n",
       "      <td>0971880107</td>\n",
       "      <td>Wild Animus</td>\n",
       "      <td>Rich Shapero</td>\n",
       "      <td>2004</td>\n",
       "      <td>Too Far</td>\n",
       "    </tr>\n",
       "    <tr>\n",
       "      <th>408</th>\n",
       "      <td>0316666343</td>\n",
       "      <td>The Lovely Bones: A Novel</td>\n",
       "      <td>Alice Sebold</td>\n",
       "      <td>2002</td>\n",
       "      <td>Little, Brown</td>\n",
       "    </tr>\n",
       "    <tr>\n",
       "      <th>522</th>\n",
       "      <td>0312195516</td>\n",
       "      <td>The Red Tent (Bestselling Backlist)</td>\n",
       "      <td>Anita Diamant</td>\n",
       "      <td>1998</td>\n",
       "      <td>Picador USA</td>\n",
       "    </tr>\n",
       "    <tr>\n",
       "      <th>748</th>\n",
       "      <td>0385504209</td>\n",
       "      <td>The Da Vinci Code</td>\n",
       "      <td>Dan Brown</td>\n",
       "      <td>2003</td>\n",
       "      <td>Doubleday</td>\n",
       "    </tr>\n",
       "    <tr>\n",
       "      <th>1105</th>\n",
       "      <td>0060928336</td>\n",
       "      <td>Divine Secrets of the Ya-Ya Sisterhood: A Novel</td>\n",
       "      <td>Rebecca Wells</td>\n",
       "      <td>1997</td>\n",
       "      <td>Perennial</td>\n",
       "    </tr>\n",
       "  </tbody>\n",
       "</table>\n",
       "</div>"
      ],
      "text/plain": [
       "            ISBN                                       Book-Title  \\\n",
       "26    0971880107                                      Wild Animus   \n",
       "408   0316666343                        The Lovely Bones: A Novel   \n",
       "522   0312195516              The Red Tent (Bestselling Backlist)   \n",
       "748   0385504209                                The Da Vinci Code   \n",
       "1105  0060928336  Divine Secrets of the Ya-Ya Sisterhood: A Novel   \n",
       "\n",
       "        Book-Author  Year-Of-Publication      Publisher  \n",
       "26     Rich Shapero                 2004        Too Far  \n",
       "408    Alice Sebold                 2002  Little, Brown  \n",
       "522   Anita Diamant                 1998    Picador USA  \n",
       "748       Dan Brown                 2003      Doubleday  \n",
       "1105  Rebecca Wells                 1997      Perennial  "
      ]
     },
     "execution_count": 82,
     "metadata": {},
     "output_type": "execute_result"
    }
   ],
   "source": [
    "# getting the book names corresponding to these ISBNs\n",
    "ISBN_Number=['0316666343', '0971880107', '0385504209', '0312195516', '0060928336']\n",
    "Book[Book['ISBN'].isin(ISBN_Number)]"
   ]
  },
  {
   "cell_type": "markdown",
   "id": "4a53aba1",
   "metadata": {},
   "source": [
    "The most explicitly rated book is \"The Lovely Bones:A Novel\"."
   ]
  },
  {
   "cell_type": "markdown",
   "id": "0316de75",
   "metadata": {},
   "source": [
    "#### Merging Datasets"
   ]
  },
  {
   "cell_type": "code",
   "execution_count": 83,
   "id": "11328eb9",
   "metadata": {},
   "outputs": [],
   "source": [
    "Merged_data=pd.merge(User,Explicit_Rating,on='User-ID')\n",
    "Final_Dataset=pd.merge(Merged_data,Book,on='ISBN')"
   ]
  },
  {
   "cell_type": "code",
   "execution_count": 84,
   "id": "63eb93cb",
   "metadata": {},
   "outputs": [],
   "source": [
    "# Save the DataFrame to a CSV file\n",
    "Final_Dataset.to_csv('final_dataset.csv', index=False)"
   ]
  },
  {
   "cell_type": "code",
   "execution_count": 85,
   "id": "47521edd",
   "metadata": {},
   "outputs": [
    {
     "data": {
      "text/html": [
       "<div>\n",
       "<style scoped>\n",
       "    .dataframe tbody tr th:only-of-type {\n",
       "        vertical-align: middle;\n",
       "    }\n",
       "\n",
       "    .dataframe tbody tr th {\n",
       "        vertical-align: top;\n",
       "    }\n",
       "\n",
       "    .dataframe thead th {\n",
       "        text-align: right;\n",
       "    }\n",
       "</style>\n",
       "<table border=\"1\" class=\"dataframe\">\n",
       "  <thead>\n",
       "    <tr style=\"text-align: right;\">\n",
       "      <th></th>\n",
       "      <th>User-ID</th>\n",
       "      <th>Age</th>\n",
       "      <th>Country</th>\n",
       "      <th>ISBN</th>\n",
       "      <th>Book-Rating</th>\n",
       "      <th>Book-Title</th>\n",
       "      <th>Book-Author</th>\n",
       "      <th>Year-Of-Publication</th>\n",
       "      <th>Publisher</th>\n",
       "    </tr>\n",
       "  </thead>\n",
       "  <tbody>\n",
       "    <tr>\n",
       "      <th>0</th>\n",
       "      <td>8</td>\n",
       "      <td>34</td>\n",
       "      <td>CANADA</td>\n",
       "      <td>0002005018</td>\n",
       "      <td>5</td>\n",
       "      <td>Clara Callan</td>\n",
       "      <td>Richard Bruce Wright</td>\n",
       "      <td>2001</td>\n",
       "      <td>HarperFlamingo Canada</td>\n",
       "    </tr>\n",
       "    <tr>\n",
       "      <th>1</th>\n",
       "      <td>11676</td>\n",
       "      <td>34</td>\n",
       "      <td>OTHERS</td>\n",
       "      <td>0002005018</td>\n",
       "      <td>8</td>\n",
       "      <td>Clara Callan</td>\n",
       "      <td>Richard Bruce Wright</td>\n",
       "      <td>2001</td>\n",
       "      <td>HarperFlamingo Canada</td>\n",
       "    </tr>\n",
       "    <tr>\n",
       "      <th>2</th>\n",
       "      <td>67544</td>\n",
       "      <td>30</td>\n",
       "      <td>CANADA</td>\n",
       "      <td>0002005018</td>\n",
       "      <td>8</td>\n",
       "      <td>Clara Callan</td>\n",
       "      <td>Richard Bruce Wright</td>\n",
       "      <td>2001</td>\n",
       "      <td>HarperFlamingo Canada</td>\n",
       "    </tr>\n",
       "    <tr>\n",
       "      <th>3</th>\n",
       "      <td>116866</td>\n",
       "      <td>34</td>\n",
       "      <td>OTHERS</td>\n",
       "      <td>0002005018</td>\n",
       "      <td>9</td>\n",
       "      <td>Clara Callan</td>\n",
       "      <td>Richard Bruce Wright</td>\n",
       "      <td>2001</td>\n",
       "      <td>HarperFlamingo Canada</td>\n",
       "    </tr>\n",
       "    <tr>\n",
       "      <th>4</th>\n",
       "      <td>123629</td>\n",
       "      <td>34</td>\n",
       "      <td>CANADA</td>\n",
       "      <td>0002005018</td>\n",
       "      <td>9</td>\n",
       "      <td>Clara Callan</td>\n",
       "      <td>Richard Bruce Wright</td>\n",
       "      <td>2001</td>\n",
       "      <td>HarperFlamingo Canada</td>\n",
       "    </tr>\n",
       "  </tbody>\n",
       "</table>\n",
       "</div>"
      ],
      "text/plain": [
       "   User-ID  Age Country        ISBN  Book-Rating    Book-Title  \\\n",
       "0        8   34  CANADA  0002005018            5  Clara Callan   \n",
       "1    11676   34  OTHERS  0002005018            8  Clara Callan   \n",
       "2    67544   30  CANADA  0002005018            8  Clara Callan   \n",
       "3   116866   34  OTHERS  0002005018            9  Clara Callan   \n",
       "4   123629   34  CANADA  0002005018            9  Clara Callan   \n",
       "\n",
       "            Book-Author  Year-Of-Publication              Publisher  \n",
       "0  Richard Bruce Wright                 2001  HarperFlamingo Canada  \n",
       "1  Richard Bruce Wright                 2001  HarperFlamingo Canada  \n",
       "2  Richard Bruce Wright                 2001  HarperFlamingo Canada  \n",
       "3  Richard Bruce Wright                 2001  HarperFlamingo Canada  \n",
       "4  Richard Bruce Wright                 2001  HarperFlamingo Canada  "
      ]
     },
     "execution_count": 85,
     "metadata": {},
     "output_type": "execute_result"
    }
   ],
   "source": [
    "Final_Dataset.head()"
   ]
  },
  {
   "cell_type": "code",
   "execution_count": 86,
   "id": "b6a1c3c6",
   "metadata": {},
   "outputs": [
    {
     "data": {
      "text/plain": [
       "(381461, 9)"
      ]
     },
     "execution_count": 86,
     "metadata": {},
     "output_type": "execute_result"
    }
   ],
   "source": [
    "Final_Dataset.shape"
   ]
  },
  {
   "cell_type": "code",
   "execution_count": 87,
   "id": "0eaf7825",
   "metadata": {},
   "outputs": [
    {
     "name": "stdout",
     "output_type": "stream",
     "text": [
      "<class 'pandas.core.frame.DataFrame'>\n",
      "Int64Index: 381461 entries, 0 to 381460\n",
      "Data columns (total 9 columns):\n",
      " #   Column               Non-Null Count   Dtype \n",
      "---  ------               --------------   ----- \n",
      " 0   User-ID              381461 non-null  int32 \n",
      " 1   Age                  381461 non-null  int32 \n",
      " 2   Country              381461 non-null  object\n",
      " 3   ISBN                 381461 non-null  object\n",
      " 4   Book-Rating          381461 non-null  int64 \n",
      " 5   Book-Title           381461 non-null  object\n",
      " 6   Book-Author          381461 non-null  object\n",
      " 7   Year-Of-Publication  381461 non-null  int64 \n",
      " 8   Publisher            381461 non-null  object\n",
      "dtypes: int32(2), int64(2), object(5)\n",
      "memory usage: 26.2+ MB\n"
     ]
    }
   ],
   "source": [
    "Final_Dataset.info()"
   ]
  },
  {
   "cell_type": "code",
   "execution_count": 88,
   "id": "bf2336b7",
   "metadata": {},
   "outputs": [
    {
     "data": {
      "text/plain": [
       "User-ID                0\n",
       "Age                    0\n",
       "Country                0\n",
       "ISBN                   0\n",
       "Book-Rating            0\n",
       "Book-Title             0\n",
       "Book-Author            0\n",
       "Year-Of-Publication    0\n",
       "Publisher              0\n",
       "dtype: int64"
      ]
     },
     "execution_count": 88,
     "metadata": {},
     "output_type": "execute_result"
    }
   ],
   "source": [
    "Final_Dataset.isnull().sum()"
   ]
  },
  {
   "cell_type": "code",
   "execution_count": 89,
   "id": "57db864f",
   "metadata": {},
   "outputs": [
    {
     "name": "stdout",
     "output_type": "stream",
     "text": [
      "Unique values of 'User-ID':\n",
      "[     8  11676  67544 ... 278710 278713 278721]\n",
      "\n",
      "Unique values of 'Age':\n",
      "[ 34  30  60  27  38  23  29  72  54  36  44  39  25  81  28  43  53  37\n",
      "  58  67  42  47  31  24  32  21  45  64  33  62  48  18  19  41  61  22\n",
      "  50  26  17  51  57  35  52  14  20  16  40  46  15  49  65  59  73  56\n",
      "  12  68  70  69  66  55  90  79  13  63  76  75  80  71  10  82  74  78\n",
      " 100  77  85  11  84  83  99  97  93  96  86  94  89  92  98]\n",
      "\n",
      "Unique values of 'Country':\n",
      "['CANADA' 'OTHERS' 'USA' 'FRANCE' 'UK' 'NEW ZEALAND' 'NETHERLANDS'\n",
      " 'GERMANY' 'SPAIN' 'PORTUGAL' 'IRAN' 'MALAYSIA' 'AUSTRALIA' 'SINGAPORE'\n",
      " 'AUSTRIA' 'PHILIPPINES' 'BELGIUM' 'ITALY' 'SWITZERLAND' 'SLOVENIA'\n",
      " 'TURKEY' 'FINLAND' 'CHILE' 'MEXICO' 'KUWAIT' 'ANTARCTICA' 'K1C7B1'\n",
      " 'HONG KONG' 'ROMANIA' 'EGYPT' 'CHINA' 'LUXEMBOURG' 'NORWAY' 'HONDURAS'\n",
      " 'ZIMBABWE' 'QATAR' 'ANDORRA' 'TAIWAN' 'INDIA' 'POLAND' 'ICELAND'\n",
      " 'IRELAND' 'ARUBA' 'GREECE' 'JAPAN' 'BRAZIL' 'VAN WERT' 'BERMUDA'\n",
      " 'BAHAMAS' 'SAUDI ARABIA' 'ALBANIA' 'MOZAMBIQUE' 'PAKISTAN'\n",
      " 'DOMINICAN REPUBLIC' 'SWEDEN' 'DENMARK' 'VENEZUELA' 'COSTA RICA'\n",
      " 'BULGARIA' 'ISRAEL' 'CAYMAN ISLANDS' 'TDZIMI' 'CZECH REPUBLIC' 'QUIT'\n",
      " 'BARBADOS' 'KENYA' 'SOUTH KOREA' 'BELIZE' 'CYPRUS' 'PERU' 'LAOS' 'UA'\n",
      " 'CARIBBEAN SEA' 'SAINT LUCIA' 'LATVIA' 'SOUTH AFRICA' 'INDONESIA' 'NEPAL'\n",
      " 'MACEDONIA' 'MAURITIUS' 'NIGERIA' 'YUGOSLAVIA' 'UKRAINE' 'ENGLAND'\n",
      " 'EUSKAL HERRIA' 'DEUTSCHLAND' 'GUATEMALA' 'RUSSIA' 'MALTA' 'PUERTO RICO'\n",
      " 'FRAMINGHAM' 'GUERNSEY' 'JAMAICA' 'BAHRAIN' 'ECUADOR' 'ARGENTINA'\n",
      " 'GUINEA' 'THAILAND' 'CHANNEL ISLANDS' 'TURKMENISTAN' 'ANGOLA' 'SHELBY'\n",
      " 'ALDERNEY' 'TOBAGO' 'CATALONIA' 'KOSOVO' 'ZAMBIA' 'ALGERIA' 'RUTHERFORD'\n",
      " 'URUGUAY' 'CSA' 'URUGUA' 'MORGAN' 'KAZAKHSTAN' 'PARAGUAY' 'KERN'\n",
      " 'SLOVAKIA' 'SPACE' 'YSA' 'OMAN' 'ESPAÑA' 'HUNGARY' 'WALES' 'AROOSTOOK'\n",
      " 'AMERICA' 'CROATIA' 'WORCESTER' 'MADAGASCAR' 'BOLIVIA' 'PALAU' 'COLOMBIA'\n",
      " 'MONACO' 'BENIN' 'ESTONIA' 'JERSEY' 'TONGA' 'NIGER' 'AFGHANISTAN'\n",
      " 'TUNISIA' 'CUBA' 'GRENADA' 'VIETNAM' 'UGANDA' 'GHANA' 'TAJIKISTAN'\n",
      " 'CATALUNYA' 'LLEIDA' 'ORENSE' 'RICHMOND COUNTRY' 'TANZANIA' 'PANAMA'\n",
      " 'FERRARA' 'SRI LANKA' 'MOLDOVA' 'BRUNEI' 'SCOTLAND' 'PETROLWAR NATION'\n",
      " 'MOROCCO' 'CAMDEN' 'LITHUANIA' 'PENDER' 'CAMEROON' 'POLK' 'MONGOLIA'\n",
      " 'CATALUNYA SPAIN' 'LKJLJ' 'GALIZA' 'C' 'CHEROKEE' 'LA BELGIQUE'\n",
      " 'MARICOPA' 'LA FRANCE' 'CAPE VERDE' 'SAINT LOIUS' 'CANANDA' 'LEBANON'\n",
      " 'BANGLADESH' 'FORT BEND' 'UZBEKISTAN' 'LA SUISSE' 'ALACHUA' 'GABON'\n",
      " 'BERGUEDÀ' 'FIJI' 'GUAM' 'MARACOPA' 'EL SALVADOR' 'CAMBODIA']\n",
      "\n",
      "Unique values of 'ISBN':\n",
      "['0002005018' '074322678X' '0887841740' ... '0884159221' '0912333022'\n",
      " '1569661057']\n",
      "\n",
      "Unique values of 'Book-Rating':\n",
      "[ 5  8  9  7  6 10  2  1  4  3]\n",
      "\n",
      "Unique values of 'Book-Title':\n",
      "['Clara Callan' \"Where You'll Find Me: And Other Stories\"\n",
      " 'The Middle Stories' ...\n",
      " 'Why stop?: A guide to Texas historical roadside markers'\n",
      " \"The Are You Being Served? Stories: 'Camping In' and Other Fiascoes\"\n",
      " 'Dallas Street Map Guide and Directory, 2000 Edition']\n",
      "\n",
      "Unique values of 'Book-Author':\n",
      "['Richard Bruce Wright' 'Ann Beattie' 'Sheila Heti' ... 'Claude Dooley'\n",
      " 'Jeremy Lloyd' 'Mapsco']\n",
      "\n",
      "Unique values of 'Year-Of-Publication':\n",
      "[2001 2002 2004 1999 1998 1994 2003 2000 1997 1987 1989 1992 1988 1993\n",
      " 1982 1985 1986 1995 1980 1991 1990 1981 1996 1984 1968 1961 1983 1958\n",
      " 1965 1977 1978 1941 1974 1971 1972 1970 1976 1975 1954 1979 1920 1973\n",
      " 1967 1956 1959 1969 1960 1948 1964 1955 1953 1957 1952 1962 1937 1940\n",
      " 1966 1945 1947 1963 1936 1930 1925 1923 1927 2005 1946 1939 1950 1938\n",
      " 1951 1911 1904 1949 1932 1929 1943 1942 2010 1928 2006 2023 1926 1900\n",
      " 2021 1931 1378 1908 1901 1924 1935 2020 1376 1906 1806 1933 1902 1944\n",
      " 2011 1934]\n",
      "\n",
      "Unique values of 'Publisher':\n",
      "['HarperFlamingo Canada' 'Scribner' 'House of Anansi Press' ...\n",
      " 'Sono Nis Press' 'Lone Star Books' 'American Map Corporation']\n",
      "\n"
     ]
    }
   ],
   "source": [
    "#Finding unique values in each column\n",
    "for column in Final_Dataset.columns:\n",
    "    # Get unique values of the column\n",
    "    unique_values=Final_Dataset[column].unique()\n",
    "    \n",
    "    # Print the column name and its unique values\n",
    "    print(f\"Unique values of '{column}':\")\n",
    "    print(unique_values)\n",
    "    print()"
   ]
  },
  {
   "cell_type": "markdown",
   "id": "261db1d7",
   "metadata": {},
   "source": [
    "#### 1)Popularity Based Recommendation"
   ]
  },
  {
   "cell_type": "markdown",
   "id": "4a56d187",
   "metadata": {},
   "source": [
    "We can create a user's input to enter a book name and the number of books we want to receive recommendations for."
   ]
  },
  {
   "cell_type": "code",
   "execution_count": 90,
   "id": "c5114214",
   "metadata": {},
   "outputs": [
    {
     "name": "stdout",
     "output_type": "stream",
     "text": [
      "Enter a book name: The Da Vinci Code\n",
      "Enter number of books to recommend: 5\n"
     ]
    }
   ],
   "source": [
    "bookName = input(\"Enter a book name: \")\n",
    "number = int(input(\"Enter number of books to recommend: \"))"
   ]
  },
  {
   "cell_type": "markdown",
   "id": "1ced615d",
   "metadata": {},
   "source": [
    "**Popular Books based on the number of Ratings**"
   ]
  },
  {
   "cell_type": "markdown",
   "id": "1485de7e",
   "metadata": {},
   "source": [
    "We can defines a function which aims to recommend popular books based on the number of ratings they have received."
   ]
  },
  {
   "cell_type": "code",
   "execution_count": 91,
   "id": "f811ebda",
   "metadata": {},
   "outputs": [],
   "source": [
    "def popularity_based(Final_Dataset, n):\n",
    "    if n >= 1 and n <= len(Final_Dataset):\n",
    "        data = pd.DataFrame(Final_Dataset.groupby('ISBN')['Book-Rating'].count()).sort_values('Book-Rating', ascending=False).head(n)\n",
    "        result = pd.merge(data, Book, on='ISBN')\n",
    "        return result\n",
    "    return \"Invalid number of books entered!!\""
   ]
  },
  {
   "cell_type": "markdown",
   "id": "8ca7465d",
   "metadata": {},
   "source": [
    "+ This function takes two arguments: Final_Dataset and n\n",
    "+ It first checks if the value of n is within a valid range (1 <= n <= len(Final_Dataset)).\n",
    "+ Then it groups the Final_Dataset by the ISBN (International Standard Book Number) and counts the number of ratings for each book.\n",
    "+ It sorts the resulting DataFrame in descending order based on the count of ratings and selects the top n books.\n",
    "+ Finally, it merges this data with Book DataFrame based on the ISBN.\n",
    "+ If the input value of n is not within the valid range, it returns a message saying \"Invalid number of books entered!!\"."
   ]
  },
  {
   "cell_type": "code",
   "execution_count": 92,
   "id": "af6b503f",
   "metadata": {},
   "outputs": [
    {
     "name": "stdout",
     "output_type": "stream",
     "text": [
      "Top 5 Popular books are: \n"
     ]
    },
    {
     "data": {
      "text/html": [
       "<div>\n",
       "<style scoped>\n",
       "    .dataframe tbody tr th:only-of-type {\n",
       "        vertical-align: middle;\n",
       "    }\n",
       "\n",
       "    .dataframe tbody tr th {\n",
       "        vertical-align: top;\n",
       "    }\n",
       "\n",
       "    .dataframe thead th {\n",
       "        text-align: right;\n",
       "    }\n",
       "</style>\n",
       "<table border=\"1\" class=\"dataframe\">\n",
       "  <thead>\n",
       "    <tr style=\"text-align: right;\">\n",
       "      <th></th>\n",
       "      <th>ISBN</th>\n",
       "      <th>Book-Rating</th>\n",
       "      <th>Book-Title</th>\n",
       "      <th>Book-Author</th>\n",
       "      <th>Year-Of-Publication</th>\n",
       "      <th>Publisher</th>\n",
       "    </tr>\n",
       "  </thead>\n",
       "  <tbody>\n",
       "    <tr>\n",
       "      <th>0</th>\n",
       "      <td>0316666343</td>\n",
       "      <td>702</td>\n",
       "      <td>The Lovely Bones: A Novel</td>\n",
       "      <td>Alice Sebold</td>\n",
       "      <td>2002</td>\n",
       "      <td>Little, Brown</td>\n",
       "    </tr>\n",
       "    <tr>\n",
       "      <th>1</th>\n",
       "      <td>0971880107</td>\n",
       "      <td>579</td>\n",
       "      <td>Wild Animus</td>\n",
       "      <td>Rich Shapero</td>\n",
       "      <td>2004</td>\n",
       "      <td>Too Far</td>\n",
       "    </tr>\n",
       "    <tr>\n",
       "      <th>2</th>\n",
       "      <td>0385504209</td>\n",
       "      <td>485</td>\n",
       "      <td>The Da Vinci Code</td>\n",
       "      <td>Dan Brown</td>\n",
       "      <td>2003</td>\n",
       "      <td>Doubleday</td>\n",
       "    </tr>\n",
       "    <tr>\n",
       "      <th>3</th>\n",
       "      <td>0312195516</td>\n",
       "      <td>382</td>\n",
       "      <td>The Red Tent (Bestselling Backlist)</td>\n",
       "      <td>Anita Diamant</td>\n",
       "      <td>1998</td>\n",
       "      <td>Picador USA</td>\n",
       "    </tr>\n",
       "    <tr>\n",
       "      <th>4</th>\n",
       "      <td>0060928336</td>\n",
       "      <td>318</td>\n",
       "      <td>Divine Secrets of the Ya-Ya Sisterhood: A Novel</td>\n",
       "      <td>Rebecca Wells</td>\n",
       "      <td>1997</td>\n",
       "      <td>Perennial</td>\n",
       "    </tr>\n",
       "  </tbody>\n",
       "</table>\n",
       "</div>"
      ],
      "text/plain": [
       "         ISBN  Book-Rating                                       Book-Title  \\\n",
       "0  0316666343          702                        The Lovely Bones: A Novel   \n",
       "1  0971880107          579                                      Wild Animus   \n",
       "2  0385504209          485                                The Da Vinci Code   \n",
       "3  0312195516          382              The Red Tent (Bestselling Backlist)   \n",
       "4  0060928336          318  Divine Secrets of the Ya-Ya Sisterhood: A Novel   \n",
       "\n",
       "     Book-Author  Year-Of-Publication      Publisher  \n",
       "0   Alice Sebold                 2002  Little, Brown  \n",
       "1   Rich Shapero                 2004        Too Far  \n",
       "2      Dan Brown                 2003      Doubleday  \n",
       "3  Anita Diamant                 1998    Picador USA  \n",
       "4  Rebecca Wells                 1997      Perennial  "
      ]
     },
     "execution_count": 92,
     "metadata": {},
     "output_type": "execute_result"
    }
   ],
   "source": [
    "print(\"Top\", number, \"Popular books are: \")\n",
    "popularity_based(Final_Dataset, number)"
   ]
  },
  {
   "cell_type": "markdown",
   "id": "77ebe404",
   "metadata": {},
   "source": [
    "+ This shows the top 5 popular books along with their ISBN, number of ratings, title, author, year of publication, and publisher and these books are sorted based on the count of ratings in descending order.\n",
    "+ \"The Lovely Bones:A Novel\" writtten by Alice Seboid published in the year 2002 is the first recommended popular book according to the ratings."
   ]
  },
  {
   "cell_type": "markdown",
   "id": "5e49b5f2",
   "metadata": {},
   "source": [
    "**Popular books within the specified country based on the number of ratings**"
   ]
  },
  {
   "cell_type": "markdown",
   "id": "fb800ecd",
   "metadata": {},
   "source": [
    "Let's defines a function to recommend popular books within a specified country based on the number of ratings. "
   ]
  },
  {
   "cell_type": "code",
   "execution_count": 93,
   "id": "347d9a15",
   "metadata": {},
   "outputs": [],
   "source": [
    "def country_popular(Final_Dataset, country):\n",
    "    if country in list(Final_Dataset['Country'].unique()):\n",
    "        return popularity_based(Final_Dataset[Final_Dataset['Country'] == country],5)\n",
    "    return \"Invalid Entry\""
   ]
  },
  {
   "cell_type": "markdown",
   "id": "3efea053",
   "metadata": {},
   "source": [
    "+ This function takes two arguments: Final_Dataset and country.\n",
    "+ It first checks if the specified country exists in the unique values of the 'Country' column in the Final_Dataset.\n",
    "+ If yes, it filters the Final_Dataset to contain only the rows corresponding to the specified country and then calls the popularity_based function to recommend the top 5 popular books within that country.\n",
    "+ If no, it returns \"Invalid Entry\"."
   ]
  },
  {
   "cell_type": "code",
   "execution_count": 94,
   "id": "1fed8996",
   "metadata": {},
   "outputs": [
    {
     "data": {
      "text/html": [
       "<div>\n",
       "<style scoped>\n",
       "    .dataframe tbody tr th:only-of-type {\n",
       "        vertical-align: middle;\n",
       "    }\n",
       "\n",
       "    .dataframe tbody tr th {\n",
       "        vertical-align: top;\n",
       "    }\n",
       "\n",
       "    .dataframe thead th {\n",
       "        text-align: right;\n",
       "    }\n",
       "</style>\n",
       "<table border=\"1\" class=\"dataframe\">\n",
       "  <thead>\n",
       "    <tr style=\"text-align: right;\">\n",
       "      <th></th>\n",
       "      <th>ISBN</th>\n",
       "      <th>Book-Rating</th>\n",
       "      <th>Book-Title</th>\n",
       "      <th>Book-Author</th>\n",
       "      <th>Year-Of-Publication</th>\n",
       "      <th>Publisher</th>\n",
       "    </tr>\n",
       "  </thead>\n",
       "  <tbody>\n",
       "    <tr>\n",
       "      <th>0</th>\n",
       "      <td>0971880107</td>\n",
       "      <td>3</td>\n",
       "      <td>Wild Animus</td>\n",
       "      <td>Rich Shapero</td>\n",
       "      <td>2004</td>\n",
       "      <td>Too Far</td>\n",
       "    </tr>\n",
       "    <tr>\n",
       "      <th>1</th>\n",
       "      <td>0671047612</td>\n",
       "      <td>2</td>\n",
       "      <td>Skin And Bones</td>\n",
       "      <td>Franklin W. Dixon</td>\n",
       "      <td>2000</td>\n",
       "      <td>Aladdin</td>\n",
       "    </tr>\n",
       "    <tr>\n",
       "      <th>2</th>\n",
       "      <td>0486284735</td>\n",
       "      <td>2</td>\n",
       "      <td>Pride and Prejudice (Dover Thrift Editions)</td>\n",
       "      <td>Jane Austen</td>\n",
       "      <td>1995</td>\n",
       "      <td>Dover Publications</td>\n",
       "    </tr>\n",
       "    <tr>\n",
       "      <th>3</th>\n",
       "      <td>8171670407</td>\n",
       "      <td>2</td>\n",
       "      <td>Inscrutable Americans</td>\n",
       "      <td>Mathur Anurag</td>\n",
       "      <td>1996</td>\n",
       "      <td>South Asia Books</td>\n",
       "    </tr>\n",
       "    <tr>\n",
       "      <th>4</th>\n",
       "      <td>0671504282</td>\n",
       "      <td>1</td>\n",
       "      <td>LAW OF THE JUNGLE (HARDY BOYS CASE FILE 105) :...</td>\n",
       "      <td>Franklin W. Dixon</td>\n",
       "      <td>1995</td>\n",
       "      <td>Simon Pulse</td>\n",
       "    </tr>\n",
       "  </tbody>\n",
       "</table>\n",
       "</div>"
      ],
      "text/plain": [
       "         ISBN  Book-Rating                                         Book-Title  \\\n",
       "0  0971880107            3                                        Wild Animus   \n",
       "1  0671047612            2                                     Skin And Bones   \n",
       "2  0486284735            2        Pride and Prejudice (Dover Thrift Editions)   \n",
       "3  8171670407            2                              Inscrutable Americans   \n",
       "4  0671504282            1  LAW OF THE JUNGLE (HARDY BOYS CASE FILE 105) :...   \n",
       "\n",
       "         Book-Author  Year-Of-Publication           Publisher  \n",
       "0       Rich Shapero                 2004             Too Far  \n",
       "1  Franklin W. Dixon                 2000             Aladdin  \n",
       "2        Jane Austen                 1995  Dover Publications  \n",
       "3      Mathur Anurag                 1996    South Asia Books  \n",
       "4  Franklin W. Dixon                 1995         Simon Pulse  "
      ]
     },
     "execution_count": 94,
     "metadata": {},
     "output_type": "execute_result"
    }
   ],
   "source": [
    "country_popular(Final_Dataset,'INDIA')"
   ]
  },
  {
   "cell_type": "markdown",
   "id": "78fa0afe",
   "metadata": {},
   "source": [
    "+ This gives the top 5 popular books within the specified country. The books are sorted based on the count of ratings in descending order.\n",
    "+ Here we enter the country name as 'INDIA',so it displays the top rated book as \"Wild Animus\" written by Rich Shapero published in the year 2004."
   ]
  },
  {
   "cell_type": "markdown",
   "id": "f661b354",
   "metadata": {},
   "source": [
    "**Books by the same author and books by the same publisher as the given book**"
   ]
  },
  {
   "cell_type": "markdown",
   "id": "ad43880a",
   "metadata": {},
   "source": [
    "Let's defines a function to recommend books by the same author and books by the same publisher as the given book."
   ]
  },
  {
   "cell_type": "code",
   "execution_count": 95,
   "id": "f9db40d0",
   "metadata": {},
   "outputs": [],
   "source": [
    "def printBook(k, n):\n",
    "    z = k['Book-Title'].unique()\n",
    "    for x in range(len(z)):\n",
    "        print(z[x])\n",
    "        if x >= n-1:\n",
    "            break"
   ]
  },
  {
   "cell_type": "markdown",
   "id": "f482fabb",
   "metadata": {},
   "source": [
    "This function  takes a DataFrame k and an integer n as input. It extracts unique book titles from the DataFrame and prints them. It prints up to n unique book titles."
   ]
  },
  {
   "cell_type": "code",
   "execution_count": 96,
   "id": "56cf34bd",
   "metadata": {},
   "outputs": [],
   "source": [
    "def get_books(dataframe, name, n):\n",
    "    print(\"\\nBooks by same Author:\\n\")\n",
    "    au = dataframe['Book-Author'].unique()\n",
    "\n",
    "    data =Final_Dataset[Final_Dataset['Book-Title'] != name]\n",
    "\n",
    "    if au[0] in list(data['Book-Author'].unique()):\n",
    "        k2 = data[data['Book-Author'] == au[0]]\n",
    "    k2 = k2.sort_values(by=['Book-Rating'])\n",
    "    printBook(k2, n)\n",
    "\n",
    "    print(\"\\n\\nBooks by same Publisher:\\n\")\n",
    "    au = dataframe['Publisher'].unique()\n",
    "\n",
    "    if au[0] in list(data['Publisher'].unique()):\n",
    "        k2 = pd.DataFrame(data[data['Publisher'] == au[0]])\n",
    "    k2=k2.sort_values(by=['Book-Rating']) \n",
    "    printBook(k2, n)"
   ]
  },
  {
   "cell_type": "markdown",
   "id": "028d9613",
   "metadata": {},
   "source": [
    "+ This function  takes three arguments: dataframe, name, and n. \n",
    "+ It first prints the header for books by the same author, then it extracts unique authors from the dataframe. \n",
    "+ It filters the dataset to exclude the given book and then checks if the author of the given book has other books in the dataset. \n",
    "+ If yes, it retrieves those books and sorts them by rating, then prints them using the printBook function.\n",
    "\n",
    "\n",
    "+ Similarly, it prints the header for books by the same publisher.\n",
    "+ Extracts unique publishers from the dataframe.\n",
    "+ Filters the dataset to exclude the given book, and then checks if the publisher of the given book has other books in the dataset. \n",
    "+ If so, it retrieves those books, sorts them by rating, and prints them using the printBook function."
   ]
  },
  {
   "cell_type": "code",
   "execution_count": 97,
   "id": "64bdf3fb",
   "metadata": {},
   "outputs": [
    {
     "name": "stdout",
     "output_type": "stream",
     "text": [
      "\n",
      "Books by same Author:\n",
      "\n",
      "Digital Fortress : A Thriller\n",
      "Angels &amp; Demons\n",
      "Deception Point\n",
      "Illuminati.\n",
      "El Codigo Da Vinci / The Da Vinci Code\n",
      "\n",
      "\n",
      "Books by same Publisher:\n",
      "\n",
      "The Curious Incident of the Dog in the Night-Time : A Novel\n",
      "Bleachers\n",
      "A Painted House\n",
      "Tuesdays with Morrie: An Old Man, a Young Man, and Life's Greatest Lesson\n",
      "Under the Banner of Heaven : A Story of Violent Faith\n"
     ]
    }
   ],
   "source": [
    "if bookName in list(Final_Dataset['Book-Title'].unique()):\n",
    "    d =Final_Dataset[Final_Dataset['Book-Title'] == bookName]\n",
    "    get_books(d, bookName, number)\n",
    "else:\n",
    "    print(\"Invalid Book Name!!\")"
   ]
  },
  {
   "cell_type": "markdown",
   "id": "62f50df9",
   "metadata": {},
   "source": [
    "As we have given \"The Da Vinci Code\" as the book, it gives the books written by Dan Brown."
   ]
  },
  {
   "cell_type": "markdown",
   "id": "1bf902ae",
   "metadata": {},
   "source": [
    "**Popular book for each year**"
   ]
  },
  {
   "cell_type": "markdown",
   "id": "f935aa7a",
   "metadata": {},
   "source": [
    "Let's define a function to find the most popular book for each year based on the number of ratings."
   ]
  },
  {
   "cell_type": "code",
   "execution_count": 98,
   "id": "2fa82a39",
   "metadata": {
    "scrolled": false
   },
   "outputs": [
    {
     "data": {
      "text/html": [
       "<div>\n",
       "<style scoped>\n",
       "    .dataframe tbody tr th:only-of-type {\n",
       "        vertical-align: middle;\n",
       "    }\n",
       "\n",
       "    .dataframe tbody tr th {\n",
       "        vertical-align: top;\n",
       "    }\n",
       "\n",
       "    .dataframe thead th {\n",
       "        text-align: right;\n",
       "    }\n",
       "</style>\n",
       "<table border=\"1\" class=\"dataframe\">\n",
       "  <thead>\n",
       "    <tr style=\"text-align: right;\">\n",
       "      <th></th>\n",
       "      <th>ISBN</th>\n",
       "      <th>Book-Title</th>\n",
       "      <th>Book-Author</th>\n",
       "      <th>Year-Of-Publication</th>\n",
       "      <th>Publisher</th>\n",
       "    </tr>\n",
       "  </thead>\n",
       "  <tbody>\n",
       "    <tr>\n",
       "      <th>73451</th>\n",
       "      <td>964442011X</td>\n",
       "      <td>Tasht-i khun</td>\n",
       "      <td>IsmaÂ°il Fasih</td>\n",
       "      <td>1376</td>\n",
       "      <td>Nashr-i Alburz</td>\n",
       "    </tr>\n",
       "    <tr>\n",
       "      <th>73453</th>\n",
       "      <td>9643112136</td>\n",
       "      <td>Dalan-i bihisht (Dastan-i Irani)</td>\n",
       "      <td>Nazi Safavi</td>\n",
       "      <td>1378</td>\n",
       "      <td>Intisharat-i Quqnus</td>\n",
       "    </tr>\n",
       "    <tr>\n",
       "      <th>129793</th>\n",
       "      <td>0781228956</td>\n",
       "      <td>Complete Works 10 Volumes [2,6,7,8,9] (Notable...</td>\n",
       "      <td>Benjamin Franklin</td>\n",
       "      <td>1806</td>\n",
       "      <td>Reprint Services Corp</td>\n",
       "    </tr>\n",
       "    <tr>\n",
       "      <th>81024</th>\n",
       "      <td>1551103982</td>\n",
       "      <td>The Cycling Adventures of Coconut Head: A Nort...</td>\n",
       "      <td>Ted Schredd</td>\n",
       "      <td>1900</td>\n",
       "      <td>Graphic Arts Center Pub Co</td>\n",
       "    </tr>\n",
       "    <tr>\n",
       "      <th>121996</th>\n",
       "      <td>0671825356</td>\n",
       "      <td>W D HSE PLANTS</td>\n",
       "      <td>Jd Hersey</td>\n",
       "      <td>1901</td>\n",
       "      <td>Simon &amp;amp; Schuster</td>\n",
       "    </tr>\n",
       "    <tr>\n",
       "      <th>49497</th>\n",
       "      <td>0373226888</td>\n",
       "      <td>Tommy's Mom</td>\n",
       "      <td>Linda O. Johnston</td>\n",
       "      <td>1902</td>\n",
       "      <td>Harlequin</td>\n",
       "    </tr>\n",
       "    <tr>\n",
       "      <th>105843</th>\n",
       "      <td>038528120X</td>\n",
       "      <td>CATCH 22</td>\n",
       "      <td>JOSEPH HELLER</td>\n",
       "      <td>1904</td>\n",
       "      <td>Delta</td>\n",
       "    </tr>\n",
       "    <tr>\n",
       "      <th>102556</th>\n",
       "      <td>0404089119</td>\n",
       "      <td>Charlotte Bronte and Her Sisters</td>\n",
       "      <td>Clement K. Shorter</td>\n",
       "      <td>1906</td>\n",
       "      <td>Ams Pr</td>\n",
       "    </tr>\n",
       "    <tr>\n",
       "      <th>23180</th>\n",
       "      <td>0911662251</td>\n",
       "      <td>Kybalion: A Study of the Hermetic Philosophy o...</td>\n",
       "      <td>Three Initiates</td>\n",
       "      <td>1908</td>\n",
       "      <td>Yoga Publication Society</td>\n",
       "    </tr>\n",
       "    <tr>\n",
       "      <th>50718</th>\n",
       "      <td>0891908994</td>\n",
       "      <td>Bitter Winds of Love</td>\n",
       "      <td>Barbara Cartland</td>\n",
       "      <td>1911</td>\n",
       "      <td>Amereon Ltd</td>\n",
       "    </tr>\n",
       "    <tr>\n",
       "      <th>5096</th>\n",
       "      <td>0684717603</td>\n",
       "      <td>The GREAT GATSBY (Scribner Classic)</td>\n",
       "      <td>F. Scott Fritzgerald</td>\n",
       "      <td>1920</td>\n",
       "      <td>Scribner Paper Fiction</td>\n",
       "    </tr>\n",
       "    <tr>\n",
       "      <th>26223</th>\n",
       "      <td>0440745454</td>\n",
       "      <td>HOW TO EAT FRIED WORMS</td>\n",
       "      <td>THOMAS ROCKWELL</td>\n",
       "      <td>1923</td>\n",
       "      <td>Yearling</td>\n",
       "    </tr>\n",
       "    <tr>\n",
       "      <th>137404</th>\n",
       "      <td>0486600815</td>\n",
       "      <td>Principle of Relativity (Dover Books on Physics)</td>\n",
       "      <td>Albert Einstein</td>\n",
       "      <td>1924</td>\n",
       "      <td>Dover Publications</td>\n",
       "    </tr>\n",
       "    <tr>\n",
       "      <th>46969</th>\n",
       "      <td>0023381205</td>\n",
       "      <td>Great Gatsby, The</td>\n",
       "      <td>F. Scott Fitzgerald</td>\n",
       "      <td>1925</td>\n",
       "      <td>Prentice Hall</td>\n",
       "    </tr>\n",
       "    <tr>\n",
       "      <th>20197</th>\n",
       "      <td>0684718081</td>\n",
       "      <td>The Sun Also Rises</td>\n",
       "      <td>Ernest Hemingway</td>\n",
       "      <td>1926</td>\n",
       "      <td>Scribner Book Company</td>\n",
       "    </tr>\n",
       "    <tr>\n",
       "      <th>10206</th>\n",
       "      <td>0448089033</td>\n",
       "      <td>The Secret of the Old Mill (The Hardy Boys Mys...</td>\n",
       "      <td>Franklin W. Dixon</td>\n",
       "      <td>1927</td>\n",
       "      <td>Grosset &amp;amp; Dunlap</td>\n",
       "    </tr>\n",
       "    <tr>\n",
       "      <th>73313</th>\n",
       "      <td>9997520858</td>\n",
       "      <td>Beau Ideal</td>\n",
       "      <td>Percival C. Wren</td>\n",
       "      <td>1928</td>\n",
       "      <td>Stokes Pub Co</td>\n",
       "    </tr>\n",
       "    <tr>\n",
       "      <th>6633</th>\n",
       "      <td>0684717972</td>\n",
       "      <td>Farewell to Arms</td>\n",
       "      <td>Ernest Hemingway</td>\n",
       "      <td>1929</td>\n",
       "      <td>Charles Scribner's Sons</td>\n",
       "    </tr>\n",
       "    <tr>\n",
       "      <th>1612</th>\n",
       "      <td>0448095017</td>\n",
       "      <td>The Secret of the Old Clock (Nancy Drew Myster...</td>\n",
       "      <td>Carolyn Keene</td>\n",
       "      <td>1930</td>\n",
       "      <td>Grosset &amp;amp; Dunlap</td>\n",
       "    </tr>\n",
       "    <tr>\n",
       "      <th>129140</th>\n",
       "      <td>074752694X</td>\n",
       "      <td>Bloomsbury Good Reading Guide</td>\n",
       "      <td>Kenneth McLeish</td>\n",
       "      <td>1931</td>\n",
       "      <td>Trafalgar Square Publishing</td>\n",
       "    </tr>\n",
       "    <tr>\n",
       "      <th>11076</th>\n",
       "      <td>0448095076</td>\n",
       "      <td>The Clue in the Diary (Nancy Drew Mystery Stor...</td>\n",
       "      <td>Carolyn Keene</td>\n",
       "      <td>1932</td>\n",
       "      <td>Imagination Studio</td>\n",
       "    </tr>\n",
       "    <tr>\n",
       "      <th>50287</th>\n",
       "      <td>0804617279</td>\n",
       "      <td>Legends of Angria,</td>\n",
       "      <td>Charlotte Bronte</td>\n",
       "      <td>1933</td>\n",
       "      <td>Gateway/Associated Faculty Pr</td>\n",
       "    </tr>\n",
       "    <tr>\n",
       "      <th>79342</th>\n",
       "      <td>0961505109</td>\n",
       "      <td>Narrow Land: Folk Chronicles of Old Cape Cod (...</td>\n",
       "      <td>Elizabeth Reynard</td>\n",
       "      <td>1934</td>\n",
       "      <td>Parnassus Press</td>\n",
       "    </tr>\n",
       "    <tr>\n",
       "      <th>53190</th>\n",
       "      <td>0882436600</td>\n",
       "      <td>Through the Bible Book by Book: Genesis to Est...</td>\n",
       "      <td>Myer Pearlman</td>\n",
       "      <td>1935</td>\n",
       "      <td>Gospel Publishing House</td>\n",
       "    </tr>\n",
       "    <tr>\n",
       "      <th>14135</th>\n",
       "      <td>068483068X</td>\n",
       "      <td>Gone With the Wind</td>\n",
       "      <td>Margaret Mitchell</td>\n",
       "      <td>1936</td>\n",
       "      <td>Scribner</td>\n",
       "    </tr>\n",
       "    <tr>\n",
       "      <th>24622</th>\n",
       "      <td>0802812201</td>\n",
       "      <td>Descent into Hell</td>\n",
       "      <td>Charles Williams</td>\n",
       "      <td>1937</td>\n",
       "      <td>Wm. B. Eerdmans Publishing Company</td>\n",
       "    </tr>\n",
       "    <tr>\n",
       "      <th>9075</th>\n",
       "      <td>0395071224</td>\n",
       "      <td>The Hobbit</td>\n",
       "      <td>J. R. R. Tolkien</td>\n",
       "      <td>1938</td>\n",
       "      <td>Houghton Mifflin Company</td>\n",
       "    </tr>\n",
       "    <tr>\n",
       "      <th>73317</th>\n",
       "      <td>999750805X</td>\n",
       "      <td>The Happy Highwayman</td>\n",
       "      <td>Leslie Charteris</td>\n",
       "      <td>1939</td>\n",
       "      <td>Doubleday</td>\n",
       "    </tr>\n",
       "    <tr>\n",
       "      <th>32563</th>\n",
       "      <td>044808919X</td>\n",
       "      <td>Disappearing Floor (Hardy Boys Mystery Stories)</td>\n",
       "      <td>Franklin W. Dixon</td>\n",
       "      <td>1940</td>\n",
       "      <td>Grosset &amp;amp; Dunlap</td>\n",
       "    </tr>\n",
       "    <tr>\n",
       "      <th>28448</th>\n",
       "      <td>0486206173</td>\n",
       "      <td>Rubinstein's Chess Masterpieces</td>\n",
       "      <td>Akiba Rubinstein</td>\n",
       "      <td>1941</td>\n",
       "      <td>Dover Publications</td>\n",
       "    </tr>\n",
       "    <tr>\n",
       "      <th>9905</th>\n",
       "      <td>0060901012</td>\n",
       "      <td>Brave New World &amp;amp; Brave New World Revisited</td>\n",
       "      <td>Aldous Huxley</td>\n",
       "      <td>1942</td>\n",
       "      <td>Perennial</td>\n",
       "    </tr>\n",
       "    <tr>\n",
       "      <th>24980</th>\n",
       "      <td>0152465030</td>\n",
       "      <td>The Little Prince</td>\n",
       "      <td>Antoine De Saint-Exupery</td>\n",
       "      <td>1943</td>\n",
       "      <td>Harcourt</td>\n",
       "    </tr>\n",
       "    <tr>\n",
       "      <th>101388</th>\n",
       "      <td>0394906012</td>\n",
       "      <td>The Black Stallion</td>\n",
       "      <td>WALTER FARLEY</td>\n",
       "      <td>1944</td>\n",
       "      <td>Random House Books for Young Readers</td>\n",
       "    </tr>\n",
       "    <tr>\n",
       "      <th>12641</th>\n",
       "      <td>0060263954</td>\n",
       "      <td>Stuart Little 60th Anniversary Edition</td>\n",
       "      <td>E. B. White</td>\n",
       "      <td>1945</td>\n",
       "      <td>HarperCollins</td>\n",
       "    </tr>\n",
       "    <tr>\n",
       "      <th>8582</th>\n",
       "      <td>0448060043</td>\n",
       "      <td>Alice in Wonderland and Through the Looking Gl...</td>\n",
       "      <td>Charles Lutwidge Dodgson</td>\n",
       "      <td>1946</td>\n",
       "      <td>Grosset &amp;amp; Dunlap</td>\n",
       "    </tr>\n",
       "    <tr>\n",
       "      <th>17819</th>\n",
       "      <td>0448095246</td>\n",
       "      <td>The Clue in the Old Album (Nancy Drew Mystery ...</td>\n",
       "      <td>Carolyn Keene</td>\n",
       "      <td>1947</td>\n",
       "      <td>Grosset &amp;amp; Dunlap</td>\n",
       "    </tr>\n",
       "    <tr>\n",
       "      <th>23248</th>\n",
       "      <td>0717802418</td>\n",
       "      <td>Manifesto of the Communist Party</td>\n",
       "      <td>Karl Marx</td>\n",
       "      <td>1948</td>\n",
       "      <td>International Publishers</td>\n",
       "    </tr>\n",
       "    <tr>\n",
       "      <th>17817</th>\n",
       "      <td>0448095262</td>\n",
       "      <td>Clue of the Leaning Chimney (Nancy Drew (Hardc...</td>\n",
       "      <td>Carolyn Keene</td>\n",
       "      <td>1949</td>\n",
       "      <td>Grosset &amp;amp; Dunlap</td>\n",
       "    </tr>\n",
       "    <tr>\n",
       "      <th>9425</th>\n",
       "      <td>0553213601</td>\n",
       "      <td>Cyrano De Bergerac (Bantam Classics)</td>\n",
       "      <td>EDMOND ROSTAND</td>\n",
       "      <td>1950</td>\n",
       "      <td>Bantam</td>\n",
       "    </tr>\n",
       "    <tr>\n",
       "      <th>5071</th>\n",
       "      <td>081120068X</td>\n",
       "      <td>Siddhartha</td>\n",
       "      <td>Hermann Hesse</td>\n",
       "      <td>1951</td>\n",
       "      <td>New Directions Publishing Corporation</td>\n",
       "    </tr>\n",
       "    <tr>\n",
       "      <th>3910</th>\n",
       "      <td>0060263857</td>\n",
       "      <td>Charlotte's Web</td>\n",
       "      <td>E. B. White</td>\n",
       "      <td>1952</td>\n",
       "      <td>Harpercollins Juvenile Books</td>\n",
       "    </tr>\n",
       "    <tr>\n",
       "      <th>1139</th>\n",
       "      <td>0064400026</td>\n",
       "      <td>Little House on the Prairie</td>\n",
       "      <td>Laura Ingalls Wilder</td>\n",
       "      <td>1953</td>\n",
       "      <td>HarperTrophy</td>\n",
       "    </tr>\n",
       "    <tr>\n",
       "      <th>2085</th>\n",
       "      <td>0395083567</td>\n",
       "      <td>My Antonia</td>\n",
       "      <td>Willa Sibert Cather</td>\n",
       "      <td>1954</td>\n",
       "      <td>Houghton Mifflin</td>\n",
       "    </tr>\n",
       "    <tr>\n",
       "      <th>4961</th>\n",
       "      <td>0156838389</td>\n",
       "      <td>Sophocles, The Oedipus Cycle: Oedipus Rex, Oed...</td>\n",
       "      <td>Dudley Fitts</td>\n",
       "      <td>1955</td>\n",
       "      <td>Harvest Books</td>\n",
       "    </tr>\n",
       "    <tr>\n",
       "      <th>3753</th>\n",
       "      <td>0872860175</td>\n",
       "      <td>Howl and Other Poems (Pocket Poets)</td>\n",
       "      <td>Allen Ginsberg</td>\n",
       "      <td>1956</td>\n",
       "      <td>City Lights Publishers</td>\n",
       "    </tr>\n",
       "    <tr>\n",
       "      <th>1143</th>\n",
       "      <td>039480001X</td>\n",
       "      <td>The Cat in the Hat</td>\n",
       "      <td>Dr. Seuss</td>\n",
       "      <td>1957</td>\n",
       "      <td>Random House Books for Young Readers</td>\n",
       "    </tr>\n",
       "    <tr>\n",
       "      <th>4103</th>\n",
       "      <td>0394800028</td>\n",
       "      <td>The Cat in the Hat Comes Back (I Can Read It A...</td>\n",
       "      <td>Dr. Seuss</td>\n",
       "      <td>1958</td>\n",
       "      <td>Random House Books for Young Readers</td>\n",
       "    </tr>\n",
       "    <tr>\n",
       "      <th>119</th>\n",
       "      <td>0399501487</td>\n",
       "      <td>Lord of the Flies</td>\n",
       "      <td>William Gerald Golding</td>\n",
       "      <td>1959</td>\n",
       "      <td>Perigee Trade</td>\n",
       "    </tr>\n",
       "    <tr>\n",
       "      <th>1719</th>\n",
       "      <td>0394800168</td>\n",
       "      <td>Green Eggs and Ham (I Can Read It All by Mysel...</td>\n",
       "      <td>Dr. Seuss</td>\n",
       "      <td>1960</td>\n",
       "      <td>Random House Books for Young Readers</td>\n",
       "    </tr>\n",
       "    <tr>\n",
       "      <th>4149</th>\n",
       "      <td>0394800206</td>\n",
       "      <td>Go, Dog, Go (I Can Read It All by Myself Begin...</td>\n",
       "      <td>Philip D. Eastman</td>\n",
       "      <td>1961</td>\n",
       "      <td>Random House Children's Books</td>\n",
       "    </tr>\n",
       "    <tr>\n",
       "      <th>7889</th>\n",
       "      <td>0140441212</td>\n",
       "      <td>Bhagavad Gita (Penguin Classics)</td>\n",
       "      <td>Juan Mascaro</td>\n",
       "      <td>1962</td>\n",
       "      <td>Penguin Books</td>\n",
       "    </tr>\n",
       "    <tr>\n",
       "      <th>2507</th>\n",
       "      <td>039480029X</td>\n",
       "      <td>Hop on Pop (I Can Read It All by Myself Beginn...</td>\n",
       "      <td>Dr. Seuss</td>\n",
       "      <td>1963</td>\n",
       "      <td>Random House Books for Young Readers</td>\n",
       "    </tr>\n",
       "    <tr>\n",
       "      <th>2034</th>\n",
       "      <td>0060256656</td>\n",
       "      <td>The Giving Tree</td>\n",
       "      <td>Shel Silverstein</td>\n",
       "      <td>1964</td>\n",
       "      <td>HarperCollins Publishers</td>\n",
       "    </tr>\n",
       "    <tr>\n",
       "      <th>773</th>\n",
       "      <td>0553210092</td>\n",
       "      <td>The Scarlet Letter</td>\n",
       "      <td>NATHANIEL HAWTHORNE</td>\n",
       "      <td>1965</td>\n",
       "      <td>Bantam</td>\n",
       "    </tr>\n",
       "    <tr>\n",
       "      <th>2462</th>\n",
       "      <td>055314300X</td>\n",
       "      <td>Bourne Identity</td>\n",
       "      <td>Robert Ludlum</td>\n",
       "      <td>1966</td>\n",
       "      <td>Bantam Doubleday Dell</td>\n",
       "    </tr>\n",
       "    <tr>\n",
       "      <th>5811</th>\n",
       "      <td>0140430229</td>\n",
       "      <td>Gulliver's Travels (Penguin Classics)</td>\n",
       "      <td>Jonathan Swift</td>\n",
       "      <td>1967</td>\n",
       "      <td>Penguin Books</td>\n",
       "    </tr>\n",
       "    <tr>\n",
       "      <th>491</th>\n",
       "      <td>0156528207</td>\n",
       "      <td>The Little Prince</td>\n",
       "      <td>Antoine de Saint-ExupÃ©ry</td>\n",
       "      <td>1968</td>\n",
       "      <td>Harcourt</td>\n",
       "    </tr>\n",
       "    <tr>\n",
       "      <th>4382</th>\n",
       "      <td>0440435749</td>\n",
       "      <td>The High King (Chronicles of Prydain (Paperback))</td>\n",
       "      <td>LLOYD ALEXANDER</td>\n",
       "      <td>1969</td>\n",
       "      <td>Yearling</td>\n",
       "    </tr>\n",
       "    <tr>\n",
       "      <th>1165</th>\n",
       "      <td>0020442203</td>\n",
       "      <td>Lion, the Witch and the Wardrobe</td>\n",
       "      <td>C.S. Lewis</td>\n",
       "      <td>1970</td>\n",
       "      <td>MacMillan Publishing Company.</td>\n",
       "    </tr>\n",
       "    <tr>\n",
       "      <th>716</th>\n",
       "      <td>0440439884</td>\n",
       "      <td>Island of the Blue Dolphins</td>\n",
       "      <td>SCOTT O'DELL</td>\n",
       "      <td>1971</td>\n",
       "      <td>Random House Children's Books</td>\n",
       "    </tr>\n",
       "    <tr>\n",
       "      <th>1113</th>\n",
       "      <td>0553213695</td>\n",
       "      <td>The Metamorphosis (Bantam Classics)</td>\n",
       "      <td>FRANZ KAFKA</td>\n",
       "      <td>1972</td>\n",
       "      <td>Bantam</td>\n",
       "    </tr>\n",
       "    <tr>\n",
       "      <th>1920</th>\n",
       "      <td>0394404289</td>\n",
       "      <td>The Prophet</td>\n",
       "      <td>Kahlil Gibran</td>\n",
       "      <td>1973</td>\n",
       "      <td>Alfred A. Knopf</td>\n",
       "    </tr>\n",
       "    <tr>\n",
       "      <th>305</th>\n",
       "      <td>0064400557</td>\n",
       "      <td>Charlotte's Web (Trophy Newbery)</td>\n",
       "      <td>E. B. White</td>\n",
       "      <td>1974</td>\n",
       "      <td>HarperTrophy</td>\n",
       "    </tr>\n",
       "    <tr>\n",
       "      <th>1754</th>\n",
       "      <td>038000321X</td>\n",
       "      <td>Alive : The Story of the Andes Survivors (Avon...</td>\n",
       "      <td>Piers Paul Read</td>\n",
       "      <td>1975</td>\n",
       "      <td>Avon</td>\n",
       "    </tr>\n",
       "    <tr>\n",
       "      <th>138</th>\n",
       "      <td>0380002930</td>\n",
       "      <td>Watership Down</td>\n",
       "      <td>Richard Adams</td>\n",
       "      <td>1976</td>\n",
       "      <td>Avon</td>\n",
       "    </tr>\n",
       "    <tr>\n",
       "      <th>2482</th>\n",
       "      <td>0553258524</td>\n",
       "      <td>Dragonsong (Harper Hall Trilogy)</td>\n",
       "      <td>Anne McCaffrey</td>\n",
       "      <td>1977</td>\n",
       "      <td>Bantam</td>\n",
       "    </tr>\n",
       "    <tr>\n",
       "      <th>262</th>\n",
       "      <td>0380018179</td>\n",
       "      <td>The Thorn Birds</td>\n",
       "      <td>Colleen McCullough</td>\n",
       "      <td>1978</td>\n",
       "      <td>Avon</td>\n",
       "    </tr>\n",
       "    <tr>\n",
       "      <th>1734</th>\n",
       "      <td>0440901588</td>\n",
       "      <td>A Swiftly Tilting Planet</td>\n",
       "      <td>Madeleine L'Engle</td>\n",
       "      <td>1979</td>\n",
       "      <td>Laure Leaf</td>\n",
       "    </tr>\n",
       "    <tr>\n",
       "      <th>535</th>\n",
       "      <td>0671250671</td>\n",
       "      <td>ROAD LESS TRAVELED : A New Psychology of Love,...</td>\n",
       "      <td>M. Scott Peck</td>\n",
       "      <td>1980</td>\n",
       "      <td>Touchstone</td>\n",
       "    </tr>\n",
       "    <tr>\n",
       "      <th>525</th>\n",
       "      <td>0553208845</td>\n",
       "      <td>Siddhartha</td>\n",
       "      <td>Hermann Hesse</td>\n",
       "      <td>1981</td>\n",
       "      <td>Bantam Classics</td>\n",
       "    </tr>\n",
       "    <tr>\n",
       "      <th>172</th>\n",
       "      <td>0553272535</td>\n",
       "      <td>Night</td>\n",
       "      <td>Elie Wiesel</td>\n",
       "      <td>1982</td>\n",
       "      <td>Bantam Books</td>\n",
       "    </tr>\n",
       "    <tr>\n",
       "      <th>132</th>\n",
       "      <td>0140067477</td>\n",
       "      <td>The Tao of Pooh</td>\n",
       "      <td>Benjamin Hoff</td>\n",
       "      <td>1983</td>\n",
       "      <td>Penguin Books</td>\n",
       "    </tr>\n",
       "    <tr>\n",
       "      <th>195</th>\n",
       "      <td>0553250426</td>\n",
       "      <td>The Clan of the Cave Bear (Earth's Children (P...</td>\n",
       "      <td>Jean M. Auel</td>\n",
       "      <td>1984</td>\n",
       "      <td>Bantam Books</td>\n",
       "    </tr>\n",
       "    <tr>\n",
       "      <th>385</th>\n",
       "      <td>0671617028</td>\n",
       "      <td>The Color Purple</td>\n",
       "      <td>Alice Walker</td>\n",
       "      <td>1985</td>\n",
       "      <td>Pocket Books</td>\n",
       "    </tr>\n",
       "    <tr>\n",
       "      <th>48</th>\n",
       "      <td>0345339681</td>\n",
       "      <td>The Hobbit : The Enchanting Prelude to The Lor...</td>\n",
       "      <td>J.R.R. TOLKIEN</td>\n",
       "      <td>1986</td>\n",
       "      <td>Del Rey</td>\n",
       "    </tr>\n",
       "    <tr>\n",
       "      <th>46</th>\n",
       "      <td>0345342968</td>\n",
       "      <td>Fahrenheit 451</td>\n",
       "      <td>RAY BRADBURY</td>\n",
       "      <td>1987</td>\n",
       "      <td>Del Rey</td>\n",
       "    </tr>\n",
       "    <tr>\n",
       "      <th>23</th>\n",
       "      <td>0446310786</td>\n",
       "      <td>To Kill a Mockingbird</td>\n",
       "      <td>Harper Lee</td>\n",
       "      <td>1988</td>\n",
       "      <td>Little Brown &amp;amp; Company</td>\n",
       "    </tr>\n",
       "    <tr>\n",
       "      <th>105</th>\n",
       "      <td>0060915544</td>\n",
       "      <td>The Bean Trees</td>\n",
       "      <td>Barbara Kingsolver</td>\n",
       "      <td>1989</td>\n",
       "      <td>Perennial</td>\n",
       "    </tr>\n",
       "    <tr>\n",
       "      <th>37</th>\n",
       "      <td>0345361792</td>\n",
       "      <td>A Prayer for Owen Meany</td>\n",
       "      <td>John Irving</td>\n",
       "      <td>1990</td>\n",
       "      <td>Ballantine Books</td>\n",
       "    </tr>\n",
       "    <tr>\n",
       "      <th>13</th>\n",
       "      <td>0316769487</td>\n",
       "      <td>The Catcher in the Rye</td>\n",
       "      <td>J.D. Salinger</td>\n",
       "      <td>1991</td>\n",
       "      <td>Little, Brown</td>\n",
       "    </tr>\n",
       "    <tr>\n",
       "      <th>24</th>\n",
       "      <td>044021145X</td>\n",
       "      <td>The Firm</td>\n",
       "      <td>John Grisham</td>\n",
       "      <td>1992</td>\n",
       "      <td>Bantam Dell Publishing Group</td>\n",
       "    </tr>\n",
       "    <tr>\n",
       "      <th>16</th>\n",
       "      <td>0345337662</td>\n",
       "      <td>Interview with the Vampire</td>\n",
       "      <td>Anne Rice</td>\n",
       "      <td>1993</td>\n",
       "      <td>Ballantine Books</td>\n",
       "    </tr>\n",
       "    <tr>\n",
       "      <th>32</th>\n",
       "      <td>0804106304</td>\n",
       "      <td>The Joy Luck Club</td>\n",
       "      <td>Amy Tan</td>\n",
       "      <td>1994</td>\n",
       "      <td>Prentice Hall (K-12)</td>\n",
       "    </tr>\n",
       "    <tr>\n",
       "      <th>12</th>\n",
       "      <td>067976402X</td>\n",
       "      <td>Snow Falling on Cedars</td>\n",
       "      <td>David Guterson</td>\n",
       "      <td>1995</td>\n",
       "      <td>Vintage Books USA</td>\n",
       "    </tr>\n",
       "    <tr>\n",
       "      <th>25</th>\n",
       "      <td>0671003755</td>\n",
       "      <td>She's Come Undone (Oprah's Book Club (Paperback))</td>\n",
       "      <td>Wally Lamb</td>\n",
       "      <td>1996</td>\n",
       "      <td>Washington Square Press</td>\n",
       "    </tr>\n",
       "    <tr>\n",
       "      <th>4</th>\n",
       "      <td>0060928336</td>\n",
       "      <td>Divine Secrets of the Ya-Ya Sisterhood: A Novel</td>\n",
       "      <td>Rebecca Wells</td>\n",
       "      <td>1997</td>\n",
       "      <td>Perennial</td>\n",
       "    </tr>\n",
       "    <tr>\n",
       "      <th>3</th>\n",
       "      <td>0312195516</td>\n",
       "      <td>The Red Tent (Bestselling Backlist)</td>\n",
       "      <td>Anita Diamant</td>\n",
       "      <td>1998</td>\n",
       "      <td>Picador USA</td>\n",
       "    </tr>\n",
       "    <tr>\n",
       "      <th>5</th>\n",
       "      <td>059035342X</td>\n",
       "      <td>Harry Potter and the Sorcerer's Stone (Harry P...</td>\n",
       "      <td>J. K. Rowling</td>\n",
       "      <td>1999</td>\n",
       "      <td>Arthur A. Levine Books</td>\n",
       "    </tr>\n",
       "    <tr>\n",
       "      <th>17</th>\n",
       "      <td>0375727345</td>\n",
       "      <td>House of Sand and Fog</td>\n",
       "      <td>Andre Dubus III</td>\n",
       "      <td>2000</td>\n",
       "      <td>Vintage Books</td>\n",
       "    </tr>\n",
       "    <tr>\n",
       "      <th>8</th>\n",
       "      <td>044023722X</td>\n",
       "      <td>A Painted House</td>\n",
       "      <td>John Grisham</td>\n",
       "      <td>2001</td>\n",
       "      <td>Dell Publishing Company</td>\n",
       "    </tr>\n",
       "    <tr>\n",
       "      <th>0</th>\n",
       "      <td>0316666343</td>\n",
       "      <td>The Lovely Bones: A Novel</td>\n",
       "      <td>Alice Sebold</td>\n",
       "      <td>2002</td>\n",
       "      <td>Little, Brown</td>\n",
       "    </tr>\n",
       "    <tr>\n",
       "      <th>2</th>\n",
       "      <td>0385504209</td>\n",
       "      <td>The Da Vinci Code</td>\n",
       "      <td>Dan Brown</td>\n",
       "      <td>2003</td>\n",
       "      <td>Doubleday</td>\n",
       "    </tr>\n",
       "    <tr>\n",
       "      <th>1</th>\n",
       "      <td>0971880107</td>\n",
       "      <td>Wild Animus</td>\n",
       "      <td>Rich Shapero</td>\n",
       "      <td>2004</td>\n",
       "      <td>Too Far</td>\n",
       "    </tr>\n",
       "    <tr>\n",
       "      <th>2694</th>\n",
       "      <td>1881273156</td>\n",
       "      <td>The Five Love Languages: Five Love Languages</td>\n",
       "      <td>Gary Chapman</td>\n",
       "      <td>2005</td>\n",
       "      <td>Moody Publishers</td>\n",
       "    </tr>\n",
       "    <tr>\n",
       "      <th>69539</th>\n",
       "      <td>1903436346</td>\n",
       "      <td>The Winter's Tale - Arden Shakespeare : Third ...</td>\n",
       "      <td>John Pitcher</td>\n",
       "      <td>2006</td>\n",
       "      <td>Arden</td>\n",
       "    </tr>\n",
       "    <tr>\n",
       "      <th>133265</th>\n",
       "      <td>0743457226</td>\n",
       "      <td>Deep Waters</td>\n",
       "      <td>Jayne Ann Krentz</td>\n",
       "      <td>2010</td>\n",
       "      <td>Pocket</td>\n",
       "    </tr>\n",
       "    <tr>\n",
       "      <th>105718</th>\n",
       "      <td>0394172116</td>\n",
       "      <td>Monkey (An Evergreen Book, E-112)</td>\n",
       "      <td>Cheng-En Wu</td>\n",
       "      <td>2011</td>\n",
       "      <td>Grove Press</td>\n",
       "    </tr>\n",
       "    <tr>\n",
       "      <th>123720</th>\n",
       "      <td>068107468X</td>\n",
       "      <td>Edgar Allen Poe Collected Poems</td>\n",
       "      <td>Edgar Allan Poe</td>\n",
       "      <td>2020</td>\n",
       "      <td>Bausch &amp;amp; Lombard</td>\n",
       "    </tr>\n",
       "    <tr>\n",
       "      <th>36259</th>\n",
       "      <td>0590085417</td>\n",
       "      <td>Heidi</td>\n",
       "      <td>Johanna Spyri</td>\n",
       "      <td>2021</td>\n",
       "      <td>Scholastic</td>\n",
       "    </tr>\n",
       "    <tr>\n",
       "      <th>23550</th>\n",
       "      <td>3442436893</td>\n",
       "      <td>Das groÃ?Â?e BÃ?Â¶se- MÃ?Â¤dchen- Lesebuch.</td>\n",
       "      <td>Kathy Lette</td>\n",
       "      <td>2023</td>\n",
       "      <td>Goldmann</td>\n",
       "    </tr>\n",
       "  </tbody>\n",
       "</table>\n",
       "</div>"
      ],
      "text/plain": [
       "              ISBN                                         Book-Title  \\\n",
       "73451   964442011X                                       Tasht-i khun   \n",
       "73453   9643112136                   Dalan-i bihisht (Dastan-i Irani)   \n",
       "129793  0781228956  Complete Works 10 Volumes [2,6,7,8,9] (Notable...   \n",
       "81024   1551103982  The Cycling Adventures of Coconut Head: A Nort...   \n",
       "121996  0671825356                                     W D HSE PLANTS   \n",
       "49497   0373226888                                        Tommy's Mom   \n",
       "105843  038528120X                                           CATCH 22   \n",
       "102556  0404089119                   Charlotte Bronte and Her Sisters   \n",
       "23180   0911662251  Kybalion: A Study of the Hermetic Philosophy o...   \n",
       "50718   0891908994                               Bitter Winds of Love   \n",
       "5096    0684717603                The GREAT GATSBY (Scribner Classic)   \n",
       "26223   0440745454                             HOW TO EAT FRIED WORMS   \n",
       "137404  0486600815   Principle of Relativity (Dover Books on Physics)   \n",
       "46969   0023381205                                  Great Gatsby, The   \n",
       "20197   0684718081                                 The Sun Also Rises   \n",
       "10206   0448089033  The Secret of the Old Mill (The Hardy Boys Mys...   \n",
       "73313   9997520858                                         Beau Ideal   \n",
       "6633    0684717972                                   Farewell to Arms   \n",
       "1612    0448095017  The Secret of the Old Clock (Nancy Drew Myster...   \n",
       "129140  074752694X                      Bloomsbury Good Reading Guide   \n",
       "11076   0448095076  The Clue in the Diary (Nancy Drew Mystery Stor...   \n",
       "50287   0804617279                                 Legends of Angria,   \n",
       "79342   0961505109  Narrow Land: Folk Chronicles of Old Cape Cod (...   \n",
       "53190   0882436600  Through the Bible Book by Book: Genesis to Est...   \n",
       "14135   068483068X                                 Gone With the Wind   \n",
       "24622   0802812201                                  Descent into Hell   \n",
       "9075    0395071224                                         The Hobbit   \n",
       "73317   999750805X                               The Happy Highwayman   \n",
       "32563   044808919X    Disappearing Floor (Hardy Boys Mystery Stories)   \n",
       "28448   0486206173                    Rubinstein's Chess Masterpieces   \n",
       "9905    0060901012    Brave New World &amp; Brave New World Revisited   \n",
       "24980   0152465030                                  The Little Prince   \n",
       "101388  0394906012                                 The Black Stallion   \n",
       "12641   0060263954             Stuart Little 60th Anniversary Edition   \n",
       "8582    0448060043  Alice in Wonderland and Through the Looking Gl...   \n",
       "17819   0448095246  The Clue in the Old Album (Nancy Drew Mystery ...   \n",
       "23248   0717802418                   Manifesto of the Communist Party   \n",
       "17817   0448095262  Clue of the Leaning Chimney (Nancy Drew (Hardc...   \n",
       "9425    0553213601               Cyrano De Bergerac (Bantam Classics)   \n",
       "5071    081120068X                                         Siddhartha   \n",
       "3910    0060263857                                    Charlotte's Web   \n",
       "1139    0064400026                        Little House on the Prairie   \n",
       "2085    0395083567                                         My Antonia   \n",
       "4961    0156838389  Sophocles, The Oedipus Cycle: Oedipus Rex, Oed...   \n",
       "3753    0872860175                Howl and Other Poems (Pocket Poets)   \n",
       "1143    039480001X                                 The Cat in the Hat   \n",
       "4103    0394800028  The Cat in the Hat Comes Back (I Can Read It A...   \n",
       "119     0399501487                                  Lord of the Flies   \n",
       "1719    0394800168  Green Eggs and Ham (I Can Read It All by Mysel...   \n",
       "4149    0394800206  Go, Dog, Go (I Can Read It All by Myself Begin...   \n",
       "7889    0140441212                   Bhagavad Gita (Penguin Classics)   \n",
       "2507    039480029X  Hop on Pop (I Can Read It All by Myself Beginn...   \n",
       "2034    0060256656                                    The Giving Tree   \n",
       "773     0553210092                                 The Scarlet Letter   \n",
       "2462    055314300X                                    Bourne Identity   \n",
       "5811    0140430229              Gulliver's Travels (Penguin Classics)   \n",
       "491     0156528207                                  The Little Prince   \n",
       "4382    0440435749  The High King (Chronicles of Prydain (Paperback))   \n",
       "1165    0020442203                   Lion, the Witch and the Wardrobe   \n",
       "716     0440439884                        Island of the Blue Dolphins   \n",
       "1113    0553213695                The Metamorphosis (Bantam Classics)   \n",
       "1920    0394404289                                        The Prophet   \n",
       "305     0064400557                   Charlotte's Web (Trophy Newbery)   \n",
       "1754    038000321X  Alive : The Story of the Andes Survivors (Avon...   \n",
       "138     0380002930                                     Watership Down   \n",
       "2482    0553258524                   Dragonsong (Harper Hall Trilogy)   \n",
       "262     0380018179                                    The Thorn Birds   \n",
       "1734    0440901588                           A Swiftly Tilting Planet   \n",
       "535     0671250671  ROAD LESS TRAVELED : A New Psychology of Love,...   \n",
       "525     0553208845                                         Siddhartha   \n",
       "172     0553272535                                              Night   \n",
       "132     0140067477                                    The Tao of Pooh   \n",
       "195     0553250426  The Clan of the Cave Bear (Earth's Children (P...   \n",
       "385     0671617028                                   The Color Purple   \n",
       "48      0345339681  The Hobbit : The Enchanting Prelude to The Lor...   \n",
       "46      0345342968                                     Fahrenheit 451   \n",
       "23      0446310786                              To Kill a Mockingbird   \n",
       "105     0060915544                                     The Bean Trees   \n",
       "37      0345361792                            A Prayer for Owen Meany   \n",
       "13      0316769487                             The Catcher in the Rye   \n",
       "24      044021145X                                           The Firm   \n",
       "16      0345337662                         Interview with the Vampire   \n",
       "32      0804106304                                  The Joy Luck Club   \n",
       "12      067976402X                             Snow Falling on Cedars   \n",
       "25      0671003755  She's Come Undone (Oprah's Book Club (Paperback))   \n",
       "4       0060928336    Divine Secrets of the Ya-Ya Sisterhood: A Novel   \n",
       "3       0312195516                The Red Tent (Bestselling Backlist)   \n",
       "5       059035342X  Harry Potter and the Sorcerer's Stone (Harry P...   \n",
       "17      0375727345                              House of Sand and Fog   \n",
       "8       044023722X                                    A Painted House   \n",
       "0       0316666343                          The Lovely Bones: A Novel   \n",
       "2       0385504209                                  The Da Vinci Code   \n",
       "1       0971880107                                        Wild Animus   \n",
       "2694    1881273156       The Five Love Languages: Five Love Languages   \n",
       "69539   1903436346  The Winter's Tale - Arden Shakespeare : Third ...   \n",
       "133265  0743457226                                        Deep Waters   \n",
       "105718  0394172116                  Monkey (An Evergreen Book, E-112)   \n",
       "123720  068107468X                    Edgar Allen Poe Collected Poems   \n",
       "36259   0590085417                                              Heidi   \n",
       "23550   3442436893        Das groÃ?Â?e BÃ?Â¶se- MÃ?Â¤dchen- Lesebuch.   \n",
       "\n",
       "                      Book-Author  Year-Of-Publication  \\\n",
       "73451              IsmaÂ°il Fasih                 1376   \n",
       "73453                 Nazi Safavi                 1378   \n",
       "129793          Benjamin Franklin                 1806   \n",
       "81024                 Ted Schredd                 1900   \n",
       "121996                  Jd Hersey                 1901   \n",
       "49497           Linda O. Johnston                 1902   \n",
       "105843              JOSEPH HELLER                 1904   \n",
       "102556         Clement K. Shorter                 1906   \n",
       "23180             Three Initiates                 1908   \n",
       "50718            Barbara Cartland                 1911   \n",
       "5096         F. Scott Fritzgerald                 1920   \n",
       "26223             THOMAS ROCKWELL                 1923   \n",
       "137404            Albert Einstein                 1924   \n",
       "46969         F. Scott Fitzgerald                 1925   \n",
       "20197            Ernest Hemingway                 1926   \n",
       "10206           Franklin W. Dixon                 1927   \n",
       "73313            Percival C. Wren                 1928   \n",
       "6633             Ernest Hemingway                 1929   \n",
       "1612                Carolyn Keene                 1930   \n",
       "129140            Kenneth McLeish                 1931   \n",
       "11076               Carolyn Keene                 1932   \n",
       "50287            Charlotte Bronte                 1933   \n",
       "79342           Elizabeth Reynard                 1934   \n",
       "53190               Myer Pearlman                 1935   \n",
       "14135           Margaret Mitchell                 1936   \n",
       "24622            Charles Williams                 1937   \n",
       "9075             J. R. R. Tolkien                 1938   \n",
       "73317            Leslie Charteris                 1939   \n",
       "32563           Franklin W. Dixon                 1940   \n",
       "28448            Akiba Rubinstein                 1941   \n",
       "9905                Aldous Huxley                 1942   \n",
       "24980    Antoine De Saint-Exupery                 1943   \n",
       "101388              WALTER FARLEY                 1944   \n",
       "12641                 E. B. White                 1945   \n",
       "8582     Charles Lutwidge Dodgson                 1946   \n",
       "17819               Carolyn Keene                 1947   \n",
       "23248                   Karl Marx                 1948   \n",
       "17817               Carolyn Keene                 1949   \n",
       "9425               EDMOND ROSTAND                 1950   \n",
       "5071                Hermann Hesse                 1951   \n",
       "3910                  E. B. White                 1952   \n",
       "1139         Laura Ingalls Wilder                 1953   \n",
       "2085          Willa Sibert Cather                 1954   \n",
       "4961                 Dudley Fitts                 1955   \n",
       "3753               Allen Ginsberg                 1956   \n",
       "1143                    Dr. Seuss                 1957   \n",
       "4103                    Dr. Seuss                 1958   \n",
       "119        William Gerald Golding                 1959   \n",
       "1719                    Dr. Seuss                 1960   \n",
       "4149            Philip D. Eastman                 1961   \n",
       "7889                 Juan Mascaro                 1962   \n",
       "2507                    Dr. Seuss                 1963   \n",
       "2034             Shel Silverstein                 1964   \n",
       "773           NATHANIEL HAWTHORNE                 1965   \n",
       "2462                Robert Ludlum                 1966   \n",
       "5811               Jonathan Swift                 1967   \n",
       "491     Antoine de Saint-ExupÃ©ry                 1968   \n",
       "4382              LLOYD ALEXANDER                 1969   \n",
       "1165                   C.S. Lewis                 1970   \n",
       "716                  SCOTT O'DELL                 1971   \n",
       "1113                  FRANZ KAFKA                 1972   \n",
       "1920                Kahlil Gibran                 1973   \n",
       "305                   E. B. White                 1974   \n",
       "1754              Piers Paul Read                 1975   \n",
       "138                 Richard Adams                 1976   \n",
       "2482               Anne McCaffrey                 1977   \n",
       "262            Colleen McCullough                 1978   \n",
       "1734            Madeleine L'Engle                 1979   \n",
       "535                 M. Scott Peck                 1980   \n",
       "525                 Hermann Hesse                 1981   \n",
       "172                   Elie Wiesel                 1982   \n",
       "132                 Benjamin Hoff                 1983   \n",
       "195                  Jean M. Auel                 1984   \n",
       "385                  Alice Walker                 1985   \n",
       "48                 J.R.R. TOLKIEN                 1986   \n",
       "46                   RAY BRADBURY                 1987   \n",
       "23                     Harper Lee                 1988   \n",
       "105            Barbara Kingsolver                 1989   \n",
       "37                    John Irving                 1990   \n",
       "13                  J.D. Salinger                 1991   \n",
       "24                   John Grisham                 1992   \n",
       "16                      Anne Rice                 1993   \n",
       "32                        Amy Tan                 1994   \n",
       "12                 David Guterson                 1995   \n",
       "25                     Wally Lamb                 1996   \n",
       "4                   Rebecca Wells                 1997   \n",
       "3                   Anita Diamant                 1998   \n",
       "5                   J. K. Rowling                 1999   \n",
       "17                Andre Dubus III                 2000   \n",
       "8                    John Grisham                 2001   \n",
       "0                    Alice Sebold                 2002   \n",
       "2                       Dan Brown                 2003   \n",
       "1                    Rich Shapero                 2004   \n",
       "2694                 Gary Chapman                 2005   \n",
       "69539                John Pitcher                 2006   \n",
       "133265           Jayne Ann Krentz                 2010   \n",
       "105718                Cheng-En Wu                 2011   \n",
       "123720            Edgar Allan Poe                 2020   \n",
       "36259               Johanna Spyri                 2021   \n",
       "23550                 Kathy Lette                 2023   \n",
       "\n",
       "                                    Publisher  \n",
       "73451                          Nashr-i Alburz  \n",
       "73453                     Intisharat-i Quqnus  \n",
       "129793                  Reprint Services Corp  \n",
       "81024              Graphic Arts Center Pub Co  \n",
       "121996                   Simon &amp; Schuster  \n",
       "49497                               Harlequin  \n",
       "105843                                  Delta  \n",
       "102556                                 Ams Pr  \n",
       "23180                Yoga Publication Society  \n",
       "50718                             Amereon Ltd  \n",
       "5096                   Scribner Paper Fiction  \n",
       "26223                                Yearling  \n",
       "137404                     Dover Publications  \n",
       "46969                           Prentice Hall  \n",
       "20197                   Scribner Book Company  \n",
       "10206                    Grosset &amp; Dunlap  \n",
       "73313                           Stokes Pub Co  \n",
       "6633                  Charles Scribner's Sons  \n",
       "1612                     Grosset &amp; Dunlap  \n",
       "129140            Trafalgar Square Publishing  \n",
       "11076                      Imagination Studio  \n",
       "50287           Gateway/Associated Faculty Pr  \n",
       "79342                         Parnassus Press  \n",
       "53190                 Gospel Publishing House  \n",
       "14135                                Scribner  \n",
       "24622      Wm. B. Eerdmans Publishing Company  \n",
       "9075                 Houghton Mifflin Company  \n",
       "73317                               Doubleday  \n",
       "32563                    Grosset &amp; Dunlap  \n",
       "28448                      Dover Publications  \n",
       "9905                                Perennial  \n",
       "24980                                Harcourt  \n",
       "101388   Random House Books for Young Readers  \n",
       "12641                           HarperCollins  \n",
       "8582                     Grosset &amp; Dunlap  \n",
       "17819                    Grosset &amp; Dunlap  \n",
       "23248                International Publishers  \n",
       "17817                    Grosset &amp; Dunlap  \n",
       "9425                                   Bantam  \n",
       "5071    New Directions Publishing Corporation  \n",
       "3910             Harpercollins Juvenile Books  \n",
       "1139                             HarperTrophy  \n",
       "2085                         Houghton Mifflin  \n",
       "4961                            Harvest Books  \n",
       "3753                   City Lights Publishers  \n",
       "1143     Random House Books for Young Readers  \n",
       "4103     Random House Books for Young Readers  \n",
       "119                             Perigee Trade  \n",
       "1719     Random House Books for Young Readers  \n",
       "4149            Random House Children's Books  \n",
       "7889                            Penguin Books  \n",
       "2507     Random House Books for Young Readers  \n",
       "2034                 HarperCollins Publishers  \n",
       "773                                    Bantam  \n",
       "2462                    Bantam Doubleday Dell  \n",
       "5811                            Penguin Books  \n",
       "491                                  Harcourt  \n",
       "4382                                 Yearling  \n",
       "1165            MacMillan Publishing Company.  \n",
       "716             Random House Children's Books  \n",
       "1113                                   Bantam  \n",
       "1920                          Alfred A. Knopf  \n",
       "305                              HarperTrophy  \n",
       "1754                                     Avon  \n",
       "138                                      Avon  \n",
       "2482                                   Bantam  \n",
       "262                                      Avon  \n",
       "1734                               Laure Leaf  \n",
       "535                                Touchstone  \n",
       "525                           Bantam Classics  \n",
       "172                              Bantam Books  \n",
       "132                             Penguin Books  \n",
       "195                              Bantam Books  \n",
       "385                              Pocket Books  \n",
       "48                                    Del Rey  \n",
       "46                                    Del Rey  \n",
       "23                 Little Brown &amp; Company  \n",
       "105                                 Perennial  \n",
       "37                           Ballantine Books  \n",
       "13                              Little, Brown  \n",
       "24               Bantam Dell Publishing Group  \n",
       "16                           Ballantine Books  \n",
       "32                       Prentice Hall (K-12)  \n",
       "12                          Vintage Books USA  \n",
       "25                    Washington Square Press  \n",
       "4                                   Perennial  \n",
       "3                                 Picador USA  \n",
       "5                      Arthur A. Levine Books  \n",
       "17                              Vintage Books  \n",
       "8                     Dell Publishing Company  \n",
       "0                               Little, Brown  \n",
       "2                                   Doubleday  \n",
       "1                                     Too Far  \n",
       "2694                         Moody Publishers  \n",
       "69539                                   Arden  \n",
       "133265                                 Pocket  \n",
       "105718                            Grove Press  \n",
       "123720                   Bausch &amp; Lombard  \n",
       "36259                              Scholastic  \n",
       "23550                                Goldmann  "
      ]
     },
     "execution_count": 98,
     "metadata": {},
     "output_type": "execute_result"
    }
   ],
   "source": [
    "data = pd.DataFrame(Final_Dataset.groupby('ISBN')['Book-Rating'].count()).sort_values('Book-Rating', ascending=False)\n",
    "data = pd.merge(data, Book, on='ISBN')\n",
    "\n",
    "years = set()\n",
    "indices = []\n",
    "for ind, row in data.iterrows():\n",
    "    if row['Year-Of-Publication'] in years:\n",
    "        indices.append(ind)\n",
    "    else:\n",
    "        years.add(row['Year-Of-Publication'])\n",
    "\n",
    "data = data.drop(indices)\n",
    "data = data.drop('Book-Rating', axis = 1)\n",
    "data = data.sort_values('Year-Of-Publication')\n",
    "\n",
    "pd.set_option(\"display.max_rows\", None, \"display.max_columns\", None)\n",
    "data"
   ]
  },
  {
   "cell_type": "markdown",
   "id": "de8c8555",
   "metadata": {},
   "source": [
    "+ It groups the dataset by ISBN, counts the number of ratings for each book, then merges this information with the Book dataset. After that, it filters out the duplicate years, ensuring that only one book per year remains, and finally sorts the data based on the year of publication.\n",
    "\n",
    "+ This output demonstrates books from various years, with each book being the most popular for its respective year based on the number of ratings it has received."
   ]
  },
  {
   "cell_type": "markdown",
   "id": "f3d3e74c",
   "metadata": {},
   "source": [
    "#### 2)Average Weighted Ratings"
   ]
  },
  {
   "cell_type": "markdown",
   "id": "64179678",
   "metadata": {},
   "source": [
    "Let's calculates the average weighted ratings for each book."
   ]
  },
  {
   "cell_type": "code",
   "execution_count": 99,
   "id": "d8a2fa3a",
   "metadata": {},
   "outputs": [
    {
     "data": {
      "text/html": [
       "<div>\n",
       "<style scoped>\n",
       "    .dataframe tbody tr th:only-of-type {\n",
       "        vertical-align: middle;\n",
       "    }\n",
       "\n",
       "    .dataframe tbody tr th {\n",
       "        vertical-align: top;\n",
       "    }\n",
       "\n",
       "    .dataframe thead th {\n",
       "        text-align: right;\n",
       "    }\n",
       "</style>\n",
       "<table border=\"1\" class=\"dataframe\">\n",
       "  <thead>\n",
       "    <tr style=\"text-align: right;\">\n",
       "      <th></th>\n",
       "      <th>User-ID</th>\n",
       "      <th>Age</th>\n",
       "      <th>Country</th>\n",
       "      <th>ISBN</th>\n",
       "      <th>Book-Rating</th>\n",
       "      <th>Book-Title</th>\n",
       "      <th>Book-Author</th>\n",
       "      <th>Year-Of-Publication</th>\n",
       "      <th>Publisher</th>\n",
       "      <th>Average Rating</th>\n",
       "      <th>Total-Ratings</th>\n",
       "    </tr>\n",
       "  </thead>\n",
       "  <tbody>\n",
       "    <tr>\n",
       "      <th>0</th>\n",
       "      <td>8</td>\n",
       "      <td>34</td>\n",
       "      <td>CANADA</td>\n",
       "      <td>0002005018</td>\n",
       "      <td>5</td>\n",
       "      <td>Clara Callan</td>\n",
       "      <td>Richard Bruce Wright</td>\n",
       "      <td>2001</td>\n",
       "      <td>HarperFlamingo Canada</td>\n",
       "      <td>7.666667</td>\n",
       "      <td>9</td>\n",
       "    </tr>\n",
       "    <tr>\n",
       "      <th>1</th>\n",
       "      <td>11676</td>\n",
       "      <td>34</td>\n",
       "      <td>OTHERS</td>\n",
       "      <td>0002005018</td>\n",
       "      <td>8</td>\n",
       "      <td>Clara Callan</td>\n",
       "      <td>Richard Bruce Wright</td>\n",
       "      <td>2001</td>\n",
       "      <td>HarperFlamingo Canada</td>\n",
       "      <td>7.666667</td>\n",
       "      <td>9</td>\n",
       "    </tr>\n",
       "    <tr>\n",
       "      <th>2</th>\n",
       "      <td>67544</td>\n",
       "      <td>30</td>\n",
       "      <td>CANADA</td>\n",
       "      <td>0002005018</td>\n",
       "      <td>8</td>\n",
       "      <td>Clara Callan</td>\n",
       "      <td>Richard Bruce Wright</td>\n",
       "      <td>2001</td>\n",
       "      <td>HarperFlamingo Canada</td>\n",
       "      <td>7.666667</td>\n",
       "      <td>9</td>\n",
       "    </tr>\n",
       "    <tr>\n",
       "      <th>3</th>\n",
       "      <td>116866</td>\n",
       "      <td>34</td>\n",
       "      <td>OTHERS</td>\n",
       "      <td>0002005018</td>\n",
       "      <td>9</td>\n",
       "      <td>Clara Callan</td>\n",
       "      <td>Richard Bruce Wright</td>\n",
       "      <td>2001</td>\n",
       "      <td>HarperFlamingo Canada</td>\n",
       "      <td>7.666667</td>\n",
       "      <td>9</td>\n",
       "    </tr>\n",
       "    <tr>\n",
       "      <th>4</th>\n",
       "      <td>123629</td>\n",
       "      <td>34</td>\n",
       "      <td>CANADA</td>\n",
       "      <td>0002005018</td>\n",
       "      <td>9</td>\n",
       "      <td>Clara Callan</td>\n",
       "      <td>Richard Bruce Wright</td>\n",
       "      <td>2001</td>\n",
       "      <td>HarperFlamingo Canada</td>\n",
       "      <td>7.666667</td>\n",
       "      <td>9</td>\n",
       "    </tr>\n",
       "  </tbody>\n",
       "</table>\n",
       "</div>"
      ],
      "text/plain": [
       "   User-ID  Age Country        ISBN  Book-Rating    Book-Title  \\\n",
       "0        8   34  CANADA  0002005018            5  Clara Callan   \n",
       "1    11676   34  OTHERS  0002005018            8  Clara Callan   \n",
       "2    67544   30  CANADA  0002005018            8  Clara Callan   \n",
       "3   116866   34  OTHERS  0002005018            9  Clara Callan   \n",
       "4   123629   34  CANADA  0002005018            9  Clara Callan   \n",
       "\n",
       "            Book-Author  Year-Of-Publication              Publisher  \\\n",
       "0  Richard Bruce Wright                 2001  HarperFlamingo Canada   \n",
       "1  Richard Bruce Wright                 2001  HarperFlamingo Canada   \n",
       "2  Richard Bruce Wright                 2001  HarperFlamingo Canada   \n",
       "3  Richard Bruce Wright                 2001  HarperFlamingo Canada   \n",
       "4  Richard Bruce Wright                 2001  HarperFlamingo Canada   \n",
       "\n",
       "   Average Rating  Total-Ratings  \n",
       "0        7.666667              9  \n",
       "1        7.666667              9  \n",
       "2        7.666667              9  \n",
       "3        7.666667              9  \n",
       "4        7.666667              9  "
      ]
     },
     "execution_count": 99,
     "metadata": {},
     "output_type": "execute_result"
    }
   ],
   "source": [
    "#Create a copy \n",
    "avg_r_df = Final_Dataset.copy()\n",
    "#The average ratings\n",
    "avg_r_df['Average Rating']=Final_Dataset.groupby('ISBN')['Book-Rating'].transform('mean')\n",
    "#The total ratings given every book\n",
    "avg_r_df['Total-Ratings']=avg_r_df.groupby('ISBN')['Book-Rating'].transform('count')\n",
    "#Average-rating-dataframe\n",
    "avg_r_df.head()"
   ]
  },
  {
   "cell_type": "markdown",
   "id": "d4d59e8c",
   "metadata": {},
   "source": [
    "+ It shows the first few rows of the avg_r_df, which now contains additional columns 'Average Rating' and 'Total-Ratings' representing the calculated average ratings and total ratings for each book, respectively. Each row corresponds to a rating entry in the original dataset, with additional columns appended to it."
   ]
  },
  {
   "cell_type": "code",
   "execution_count": 100,
   "id": "704af8bf",
   "metadata": {},
   "outputs": [
    {
     "name": "stdout",
     "output_type": "stream",
     "text": [
      "C=7.627802055780025 , m=64.0\n",
      "The data shape of average ratings df before slicinng based on 90 percentile (381461, 11) after slicing (38347, 11)\n"
     ]
    }
   ],
   "source": [
    "#Mean vote across the whole\n",
    "mean_ratin = avg_r_df['Average Rating'].mean()\n",
    "\n",
    "#Minimum number of votes required to be in the chart\n",
    "#Choosing the top 90 percentile of the data\n",
    "m = avg_r_df['Total-Ratings'].quantile(0.90)\n",
    "print(f'C={mean_ratin} , m={m}')\n",
    "\n",
    "#Choosing total ratings in dataset greater than the 90th percentile\n",
    "avg_r_90_percent = avg_r_df.loc[avg_r_df['Total-Ratings'] >= m]\n",
    "#Printing the average-rating-dataframe 90th percentile\n",
    "print(f'The data shape of average ratings df before slicinng based on 90 percentile {avg_r_df.shape} after slicing {avg_r_90_percent.shape}')\n",
    "     "
   ]
  },
  {
   "cell_type": "markdown",
   "id": "8bf525b0",
   "metadata": {},
   "source": [
    "+ It calculates the mean vote across the entire dataset, selects the minimum number of votes required to be in the chart (choosing the top 90th percentile of the data), and then filters the dataset to include only entries with total ratings greater than or equal to this threshold.\n",
    "\n",
    "+ The mean rating (C) across the entire dataset is approximately 7.63.\n",
    "+ The minimum number of votes required to be in the chart (m) is 64.\n",
    "+ The shape of the dataframe before slicing based on the 90th percentile is (381461, 11), and after slicing, it's (38347, 11). This implies that after filtering, only a subset of entries with total ratings greater than or equal to 64 remains in the dataframe."
   ]
  },
  {
   "cell_type": "markdown",
   "id": "8da49ca7",
   "metadata": {},
   "source": [
    "Let's calculates the weighted average of books and recommends books based on their weighted average ratings."
   ]
  },
  {
   "cell_type": "code",
   "execution_count": 101,
   "id": "6c8fc04e",
   "metadata": {},
   "outputs": [],
   "source": [
    "#Calculate the weighted average of books \n",
    "def weightedRating(x, m=m, C=mean_ratin): \n",
    "    ''' returns weighted avarage of items, taken is x = dataframe,\n",
    "        m = top 90 percentile data, c = mean-rating of the dataset'''\n",
    "    #v - number of votes\n",
    "    v = x['Total-Ratings'] \n",
    "    #R - Average Rating     \n",
    "    R = x['Average Rating']   \n",
    "    return (v/(v+m) * R) + (m/(m+v) * C)"
   ]
  },
  {
   "cell_type": "code",
   "execution_count": 102,
   "id": "7c957b6f",
   "metadata": {},
   "outputs": [
    {
     "name": "stdout",
     "output_type": "stream",
     "text": [
      "Book recommendation based of on Weighted Average ratings :-\n",
      "\n"
     ]
    },
    {
     "name": "stderr",
     "output_type": "stream",
     "text": [
      "C:\\Users\\Linta Stephen\\AppData\\Local\\Temp\\ipykernel_11492\\1645872634.py:2: SettingWithCopyWarning: \n",
      "A value is trying to be set on a copy of a slice from a DataFrame.\n",
      "Try using .loc[row_indexer,col_indexer] = value instead\n",
      "\n",
      "See the caveats in the documentation: https://pandas.pydata.org/pandas-docs/stable/user_guide/indexing.html#returning-a-view-versus-a-copy\n",
      "  avg_r_90_percent['Score'] = avg_r_90_percent.apply(weightedRating, axis=1)\n"
     ]
    },
    {
     "data": {
      "text/html": [
       "<div>\n",
       "<style scoped>\n",
       "    .dataframe tbody tr th:only-of-type {\n",
       "        vertical-align: middle;\n",
       "    }\n",
       "\n",
       "    .dataframe tbody tr th {\n",
       "        vertical-align: top;\n",
       "    }\n",
       "\n",
       "    .dataframe thead th {\n",
       "        text-align: right;\n",
       "    }\n",
       "</style>\n",
       "<table border=\"1\" class=\"dataframe\">\n",
       "  <thead>\n",
       "    <tr style=\"text-align: right;\">\n",
       "      <th></th>\n",
       "      <th>Book-Title</th>\n",
       "      <th>Total-Ratings</th>\n",
       "      <th>Average Rating</th>\n",
       "      <th>Score</th>\n",
       "    </tr>\n",
       "  </thead>\n",
       "  <tbody>\n",
       "    <tr>\n",
       "      <th>0</th>\n",
       "      <td>Harry Potter and the Sorcerer's Stone (Harry P...</td>\n",
       "      <td>306</td>\n",
       "      <td>8.967320</td>\n",
       "      <td>8.735620</td>\n",
       "    </tr>\n",
       "    <tr>\n",
       "      <th>1</th>\n",
       "      <td>Harry Potter and the Goblet of Fire (Book 4)</td>\n",
       "      <td>135</td>\n",
       "      <td>9.259259</td>\n",
       "      <td>8.734570</td>\n",
       "    </tr>\n",
       "    <tr>\n",
       "      <th>2</th>\n",
       "      <td>Harry Potter and the Order of the Phoenix (Boo...</td>\n",
       "      <td>204</td>\n",
       "      <td>9.058824</td>\n",
       "      <td>8.717087</td>\n",
       "    </tr>\n",
       "    <tr>\n",
       "      <th>3</th>\n",
       "      <td>To Kill a Mockingbird</td>\n",
       "      <td>213</td>\n",
       "      <td>8.953052</td>\n",
       "      <td>8.646857</td>\n",
       "    </tr>\n",
       "    <tr>\n",
       "      <th>4</th>\n",
       "      <td>Harry Potter and the Prisoner of Azkaban (Book 3)</td>\n",
       "      <td>140</td>\n",
       "      <td>9.050000</td>\n",
       "      <td>8.603820</td>\n",
       "    </tr>\n",
       "  </tbody>\n",
       "</table>\n",
       "</div>"
      ],
      "text/plain": [
       "                                          Book-Title  Total-Ratings  \\\n",
       "0  Harry Potter and the Sorcerer's Stone (Harry P...            306   \n",
       "1       Harry Potter and the Goblet of Fire (Book 4)            135   \n",
       "2  Harry Potter and the Order of the Phoenix (Boo...            204   \n",
       "3                              To Kill a Mockingbird            213   \n",
       "4  Harry Potter and the Prisoner of Azkaban (Book 3)            140   \n",
       "\n",
       "   Average Rating     Score  \n",
       "0        8.967320  8.735620  \n",
       "1        9.259259  8.734570  \n",
       "2        9.058824  8.717087  \n",
       "3        8.953052  8.646857  \n",
       "4        9.050000  8.603820  "
      ]
     },
     "execution_count": 102,
     "metadata": {},
     "output_type": "execute_result"
    }
   ],
   "source": [
    "# calc score(weighted_average)\n",
    "avg_r_90_percent['Score'] = avg_r_90_percent.apply(weightedRating, axis=1)\n",
    "# sort based on the best ones(highest-weighted-avg)\n",
    "avgwr_df = avg_r_90_percent.drop_duplicates('ISBN').sort_index()\n",
    "#Sorting books based on score calculated above\n",
    "avgwr_df = avgwr_df.sort_values('Score', ascending=False)\n",
    "# choose the required nummber of books\n",
    "recomm_number =5\n",
    "print(\"Book recommendation based of on Weighted Average ratings :-\\n\")\n",
    "\n",
    "avgwr_df[['Book-Title', 'Total-Ratings', 'Average Rating', 'Score']].reset_index(drop=True).head(recomm_number)"
   ]
  },
  {
   "cell_type": "markdown",
   "id": "433b9f79",
   "metadata": {},
   "source": [
    "+ Displays the top 5 book recommendations based on weighted average ratings. Each recommendation includes the book title, total number of ratings, average rating, and the calculated score. These recommendations are sorted based on the highest scores, indicating books with the highest weighted average ratings. "
   ]
  },
  {
   "cell_type": "markdown",
   "id": "e1b2dbee",
   "metadata": {},
   "source": [
    "#### 3)Collaborative Filtering"
   ]
  },
  {
   "cell_type": "code",
   "execution_count": 103,
   "id": "a2869db6",
   "metadata": {},
   "outputs": [],
   "source": [
    "df = pd.DataFrame(Final_Dataset['Book-Title'].value_counts())\n",
    "df['Total-Ratings'] = df['Book-Title']\n",
    "df['Book-Title'] = df.index\n",
    "df.reset_index(level=0, inplace=True)\n",
    "df = df.drop('index',axis=1)\n",
    "\n",
    "df = Final_Dataset.merge(df, left_on = 'Book-Title', right_on = 'Book-Title', how = 'left')\n",
    "df = df.drop(['Year-Of-Publication','Publisher','Age','Country'], axis=1)\n",
    "\n",
    "popularity_threshold = 50\n",
    "popular_book = df[df['Total-Ratings'] >= popularity_threshold]\n",
    "popular_book = popular_book.reset_index(drop = True)"
   ]
  },
  {
   "cell_type": "markdown",
   "id": "c71b5407",
   "metadata": {},
   "source": [
    "+ This code prepares the dataset by adding information about the total number of ratings each book has received. This is essential for collaborative filtering, as it helps identify popular items.\n",
    "+ By setting a popularity threshold, the code focuses on popular books with a significant number of ratings. This threshold ensures that only books with a minimum level of popularity are considered for recommendations, which can improve the quality of the collaborative filtering process."
   ]
  },
  {
   "cell_type": "markdown",
   "id": "10e933a7",
   "metadata": {},
   "source": [
    "**User-Item Collaborative Filtering**"
   ]
  },
  {
   "cell_type": "code",
   "execution_count": 104,
   "id": "44244355",
   "metadata": {},
   "outputs": [],
   "source": [
    "testdf = pd.DataFrame()\n",
    "testdf['ISBN'] = popular_book['ISBN']\n",
    "testdf['Book-Rating'] = popular_book['Book-Rating']\n",
    "testdf['User-ID'] = popular_book['User-ID']\n",
    "testdf = testdf[['User-ID','Book-Rating']].groupby(testdf['ISBN'])"
   ]
  },
  {
   "cell_type": "markdown",
   "id": "102170d1",
   "metadata": {},
   "source": [
    "+ Creating a DataFrame for Testing:\n",
    "  + A new DataFrame testdf is created.\n",
    "  + It contains three columns: 'ISBN', 'Book-Rating', and 'User-ID', extracted from the popular_book DataFrame.\n",
    "  + The DataFrame is then rearranged so that the columns are in the order of 'User-ID' and 'Book-Rating'.\n",
    "+ Grouping by ISBN:\n",
    "  + The DataFrame is grouped by the 'ISBN' column."
   ]
  },
  {
   "cell_type": "code",
   "execution_count": 105,
   "id": "96f833a4",
   "metadata": {},
   "outputs": [],
   "source": [
    "from scipy.sparse import csr_matrix\n",
    "from sklearn.feature_extraction import DictVectorizer\n",
    "from sklearn.metrics.pairwise import cosine_similarity"
   ]
  },
  {
   "cell_type": "code",
   "execution_count": 106,
   "id": "f10701e8",
   "metadata": {},
   "outputs": [],
   "source": [
    "listOfDictonaries=[]\n",
    "indexMap = {}\n",
    "reverseIndexMap = {}\n",
    "ptr=0\n",
    "\n",
    "for groupKey in testdf.groups.keys():\n",
    "    tempDict={}\n",
    "    groupDF = testdf.get_group(groupKey)\n",
    "    for i in range(0,len(groupDF)):\n",
    "        tempDict[groupDF.iloc[i,0]] = groupDF.iloc[i,1]\n",
    "    indexMap[ptr]=groupKey\n",
    "    reverseIndexMap[groupKey] = ptr\n",
    "    ptr=ptr+1\n",
    "    listOfDictonaries.append(tempDict)\n",
    "\n",
    "dictVectorizer = DictVectorizer(sparse=True)\n",
    "vector = dictVectorizer.fit_transform(listOfDictonaries)\n",
    "pairwiseSimilarity = cosine_similarity(vector)"
   ]
  },
  {
   "cell_type": "markdown",
   "id": "b2c4940d",
   "metadata": {},
   "source": [
    "+ Creating Dictionaries and Index Maps:\n",
    "  + It iterates through each group in testdf  (grouped by 'ISBN') and creates dictionaries where keys are 'User-ID' and values are 'Book-Rating'.\n",
    "  + It creates two dictionaries: indexMap, which maps row indices to 'ISBN', and reverseIndexMap, which maps 'ISBN' to row indices.\n",
    "+ Vectorizing Dictionaries:\n",
    "  + It uses DictVectorizer to convert the list of dictionaries into a sparse matrix vector.\n",
    "+ Calculating Cosine Similarity:\n",
    "  + It calculates the cosine similarity between pairs of vectors using cosine_similarity."
   ]
  },
  {
   "cell_type": "code",
   "execution_count": 107,
   "id": "ae6d471e",
   "metadata": {},
   "outputs": [],
   "source": [
    "def printBookDetails(bookID):\n",
    "    print(Final_Dataset[Final_Dataset['ISBN']==bookID]['Book-Title'].values[0])\n",
    "    \"\"\"\n",
    "    print(\"Title:\", Final_Dataset[Final_Dataset['ISBN']==bookID]['Book-Title'].values[0])\n",
    "    print(\"Author:\",Final_Dataset[Final_Dataset['ISBN']==bookID]['Book-Author'].values[0])\n",
    "    #print(\"Printing Book-ID:\",bookID)\n",
    "    print(\"\\n\")\n",
    "    \"\"\"\n",
    "\n",
    "def getTopRecommandations(bookID):\n",
    "    collaborative = []\n",
    "    row = reverseIndexMap[bookID]\n",
    "    print(\"Input Book:\")\n",
    "    printBookDetails(bookID)\n",
    "    \n",
    "    print(\"\\nRECOMMENDATIONS:\\n\")\n",
    "    \n",
    "    mn = 0\n",
    "    similar = []\n",
    "    for i in np.argsort(pairwiseSimilarity[row])[:-2][::-1]:\n",
    "          if Final_Dataset[Final_Dataset['ISBN']==indexMap[i]]['Book-Title'].values[0] not in similar:\n",
    "                if mn>=number:\n",
    "                      break\n",
    "                mn+=1\n",
    "                similar.append(Final_Dataset[Final_Dataset['ISBN']==indexMap[i]]['Book-Title'].values[0])\n",
    "                printBookDetails(indexMap[i])\n",
    "                collaborative.append(Final_Dataset[Final_Dataset['ISBN']==indexMap[i]]['Book-Title'].values[0])\n",
    "    return collaborative"
   ]
  },
  {
   "cell_type": "markdown",
   "id": "1e033d94",
   "metadata": {},
   "source": [
    "+ Defining Functions for Printing Book Details and Getting Recommendations:\n",
    "  + printBookDetails(bookID): Prints details of a book given its ISBN.\n",
    "  + getTopRecommandations(bookID): Returns top recommendations for a given book based on collaborative filtering.\n",
    "+ Getting Recommendations for Input Book:\n",
    "  + It takes an input book, finds its corresponding row in the similarity matrix, and retrieves the top recommended books based on cosine similarity."
   ]
  },
  {
   "cell_type": "code",
   "execution_count": 108,
   "id": "cdc0d409",
   "metadata": {},
   "outputs": [
    {
     "name": "stdout",
     "output_type": "stream",
     "text": [
      "Input Book:\n",
      "The Da Vinci Code\n",
      "\n",
      "RECOMMENDATIONS:\n",
      "\n",
      "Middlesex: A Novel\n",
      "Angels &amp; Demons\n",
      "The Lovely Bones: A Novel\n",
      "Nights in Rodanthe\n",
      "Digital Fortress : A Thriller\n"
     ]
    }
   ],
   "source": [
    "k = list(Final_Dataset['Book-Title'])\n",
    "m = list(Final_Dataset['ISBN'])\n",
    "\n",
    "collaborative = getTopRecommandations(m[k.index(bookName)])"
   ]
  },
  {
   "cell_type": "markdown",
   "id": "cd705d82",
   "metadata": {},
   "source": [
    "**Correlation Based**"
   ]
  },
  {
   "cell_type": "code",
   "execution_count": 109,
   "id": "3cff1453",
   "metadata": {},
   "outputs": [],
   "source": [
    "popularity_threshold = 50\n",
    "\n",
    "user_count = Final_Dataset['User-ID'].value_counts()\n",
    "data = Final_Dataset[Final_Dataset['User-ID'].isin(user_count[user_count >= popularity_threshold].index)]\n",
    "rat_count = data['Book-Rating'].value_counts()\n",
    "data = data[data['Book-Rating'].isin(rat_count[rat_count >= popularity_threshold].index)]\n",
    "\n",
    "matrix = data.pivot_table(index='User-ID', columns='ISBN', values = 'Book-Rating').fillna(0)"
   ]
  },
  {
   "cell_type": "markdown",
   "id": "4e2ae968",
   "metadata": {},
   "source": [
    "+ Filtering Data:\n",
    "  + It sets a threshold popularity_threshold to filter out users and books with less than a certain number of ratings.\n",
    "  + It counts the number of ratings each user has provided and keeps only those users who have rated books at least popularity_threshold times.\n",
    "  + It similarly counts the number of ratings each book has received and keeps only those books that have been rated at least popularity_threshold times.\n",
    "+ Creating User-Item Matrix:\n",
    "  + It creates a user-item matrix, where rows represent users, columns represent books (identified by their ISBN), and values represent the ratings given by users to books. It fills missing values with 0."
   ]
  },
  {
   "cell_type": "code",
   "execution_count": 110,
   "id": "ae47ece7",
   "metadata": {},
   "outputs": [
    {
     "data": {
      "text/html": [
       "<div>\n",
       "<style scoped>\n",
       "    .dataframe tbody tr th:only-of-type {\n",
       "        vertical-align: middle;\n",
       "    }\n",
       "\n",
       "    .dataframe tbody tr th {\n",
       "        vertical-align: top;\n",
       "    }\n",
       "\n",
       "    .dataframe thead th {\n",
       "        text-align: right;\n",
       "    }\n",
       "</style>\n",
       "<table border=\"1\" class=\"dataframe\">\n",
       "  <thead>\n",
       "    <tr style=\"text-align: right;\">\n",
       "      <th></th>\n",
       "      <th>Book-Rating</th>\n",
       "      <th>ratingCount</th>\n",
       "    </tr>\n",
       "    <tr>\n",
       "      <th>ISBN</th>\n",
       "      <th></th>\n",
       "      <th></th>\n",
       "    </tr>\n",
       "  </thead>\n",
       "  <tbody>\n",
       "    <tr>\n",
       "      <th>0316666343</th>\n",
       "      <td>8.190883</td>\n",
       "      <td>702</td>\n",
       "    </tr>\n",
       "    <tr>\n",
       "      <th>0971880107</th>\n",
       "      <td>4.397237</td>\n",
       "      <td>579</td>\n",
       "    </tr>\n",
       "    <tr>\n",
       "      <th>0385504209</th>\n",
       "      <td>8.430928</td>\n",
       "      <td>485</td>\n",
       "    </tr>\n",
       "    <tr>\n",
       "      <th>0312195516</th>\n",
       "      <td>8.191099</td>\n",
       "      <td>382</td>\n",
       "    </tr>\n",
       "    <tr>\n",
       "      <th>0060928336</th>\n",
       "      <td>7.905660</td>\n",
       "      <td>318</td>\n",
       "    </tr>\n",
       "  </tbody>\n",
       "</table>\n",
       "</div>"
      ],
      "text/plain": [
       "            Book-Rating  ratingCount\n",
       "ISBN                                \n",
       "0316666343     8.190883          702\n",
       "0971880107     4.397237          579\n",
       "0385504209     8.430928          485\n",
       "0312195516     8.191099          382\n",
       "0060928336     7.905660          318"
      ]
     },
     "execution_count": 110,
     "metadata": {},
     "output_type": "execute_result"
    }
   ],
   "source": [
    "average_rating = pd.DataFrame(Final_Dataset.groupby('ISBN')['Book-Rating'].mean())\n",
    "average_rating['ratingCount'] = pd.DataFrame(Final_Dataset.groupby('ISBN')['Book-Rating'].count())\n",
    "average_rating.sort_values('ratingCount', ascending=False).head()"
   ]
  },
  {
   "cell_type": "markdown",
   "id": "f40dad3b",
   "metadata": {},
   "source": [
    "+ Calculating Average Ratings and Rating Counts for Books:\n",
    "  + It calculates the average rating and the count of ratings for each book.\n",
    "  + It sorts the books based on the rating count in descending order and displays the top 5 books along with their average ratings and rating counts."
   ]
  },
  {
   "cell_type": "code",
   "execution_count": 111,
   "id": "d317f735",
   "metadata": {},
   "outputs": [
    {
     "name": "stdout",
     "output_type": "stream",
     "text": [
      "\n",
      " Recommended Books: \n",
      "\n"
     ]
    },
    {
     "data": {
      "text/html": [
       "<div>\n",
       "<style scoped>\n",
       "    .dataframe tbody tr th:only-of-type {\n",
       "        vertical-align: middle;\n",
       "    }\n",
       "\n",
       "    .dataframe tbody tr th {\n",
       "        vertical-align: top;\n",
       "    }\n",
       "\n",
       "    .dataframe thead th {\n",
       "        text-align: right;\n",
       "    }\n",
       "</style>\n",
       "<table border=\"1\" class=\"dataframe\">\n",
       "  <thead>\n",
       "    <tr style=\"text-align: right;\">\n",
       "      <th></th>\n",
       "      <th>ISBN</th>\n",
       "      <th>Book-Title</th>\n",
       "      <th>Book-Author</th>\n",
       "      <th>Year-Of-Publication</th>\n",
       "      <th>Publisher</th>\n",
       "    </tr>\n",
       "  </thead>\n",
       "  <tbody>\n",
       "    <tr>\n",
       "      <th>0</th>\n",
       "      <td>0345452577</td>\n",
       "      <td>The Conspiracy Club</td>\n",
       "      <td>JONATHAN KELLERMAN</td>\n",
       "      <td>2003</td>\n",
       "      <td>Ballantine Books</td>\n",
       "    </tr>\n",
       "    <tr>\n",
       "      <th>1</th>\n",
       "      <td>0671027360</td>\n",
       "      <td>Angels &amp;amp; Demons</td>\n",
       "      <td>Dan Brown</td>\n",
       "      <td>2001</td>\n",
       "      <td>Pocket Star</td>\n",
       "    </tr>\n",
       "    <tr>\n",
       "      <th>2</th>\n",
       "      <td>0446531316</td>\n",
       "      <td>Street Dreams</td>\n",
       "      <td>Faye Kellerman</td>\n",
       "      <td>2003</td>\n",
       "      <td>Warner Books</td>\n",
       "    </tr>\n",
       "    <tr>\n",
       "      <th>3</th>\n",
       "      <td>042516828X</td>\n",
       "      <td>Sudden Mischief</td>\n",
       "      <td>Robert B. Parker</td>\n",
       "      <td>1999</td>\n",
       "      <td>Berkley Publishing Group</td>\n",
       "    </tr>\n",
       "    <tr>\n",
       "      <th>4</th>\n",
       "      <td>042518904X</td>\n",
       "      <td>Widow's Walk</td>\n",
       "      <td>Robert B. Parker</td>\n",
       "      <td>2003</td>\n",
       "      <td>Berkley Publishing Group</td>\n",
       "    </tr>\n",
       "  </tbody>\n",
       "</table>\n",
       "</div>"
      ],
      "text/plain": [
       "         ISBN           Book-Title         Book-Author  Year-Of-Publication  \\\n",
       "0  0345452577  The Conspiracy Club  JONATHAN KELLERMAN                 2003   \n",
       "1  0671027360  Angels &amp; Demons           Dan Brown                 2001   \n",
       "2  0446531316        Street Dreams      Faye Kellerman                 2003   \n",
       "3  042516828X      Sudden Mischief    Robert B. Parker                 1999   \n",
       "4  042518904X         Widow's Walk    Robert B. Parker                 2003   \n",
       "\n",
       "                  Publisher  \n",
       "0          Ballantine Books  \n",
       "1               Pocket Star  \n",
       "2              Warner Books  \n",
       "3  Berkley Publishing Group  \n",
       "4  Berkley Publishing Group  "
      ]
     },
     "execution_count": 111,
     "metadata": {},
     "output_type": "execute_result"
    }
   ],
   "source": [
    "isbn =Book.loc[Book['Book-Title'] == bookName].reset_index(drop = True).iloc[0]['ISBN']\n",
    "row = matrix[isbn]\n",
    "correlation = pd.DataFrame(matrix.corrwith(row), columns = ['Pearson Corr'])\n",
    "corr = correlation.join(average_rating['ratingCount'])\n",
    "\n",
    "res = corr.sort_values('Pearson Corr', ascending=False).head(number+1)[1:].index\n",
    "corr_books = pd.merge(pd.DataFrame(res, columns = ['ISBN']), Book, on='ISBN')\n",
    "print(\"\\n Recommended Books: \\n\")\n",
    "corr_books"
   ]
  },
  {
   "cell_type": "markdown",
   "id": "b530280f",
   "metadata": {},
   "source": [
    "+ Finding ISBN of the Given Book:\n",
    "  + It locates the ISBN of the given book title in the Book dataframe.\n",
    "+ Fetching Row from User-Item Matrix:\n",
    "  + It fetches the row corresponding to the ISBN of the given book from the user-item matrix matrix.\n",
    "+ Calculating Correlation:\n",
    "  + It calculates the Pearson correlation coefficient between the ratings of the given book and all other books in the user-item matrix.\n",
    "  + It creates a DataFrame correlation with the calculated correlation values and joins it with the average rating and rating count data.\n",
    "+ Sorting and Selecting Recommendations:\n",
    "  + It sorts the correlated books based on the Pearson correlation coefficient in descending order.\n",
    "  + It selects the top number + 1 correlated books (excluding the given book itself).\n",
    "  + It merges the selected ISBNs with the book details from the Book dataframe to get the recommended books.\n",
    "+ Printing Recommended Books:\n",
    "  + It prints the recommended books along with their ISBNs, titles, authors, publication years, and publishers."
   ]
  },
  {
   "cell_type": "markdown",
   "id": "4b3dd1ae",
   "metadata": {},
   "source": [
    "#### 4)Content Based"
   ]
  },
  {
   "cell_type": "code",
   "execution_count": 112,
   "id": "d022c5a5",
   "metadata": {},
   "outputs": [],
   "source": [
    "data = (Final_Dataset.groupby(by = ['Book-Title'])['Book-Rating'].count().reset_index().\n",
    "        rename(columns = {'Book-Rating': 'Total-Rating'})[['Book-Title', 'Total-Rating']])\n",
    "\n",
    "result = pd.merge(data, Final_Dataset, on='Book-Title', left_index = False)\n",
    "result = result[result['Total-Rating'] >= popularity_threshold]\n",
    "result = result.reset_index(drop = True)"
   ]
  },
  {
   "cell_type": "code",
   "execution_count": 113,
   "id": "5577fca0",
   "metadata": {},
   "outputs": [
    {
     "data": {
      "text/plain": [
       "(44115, 10)"
      ]
     },
     "execution_count": 113,
     "metadata": {},
     "output_type": "execute_result"
    }
   ],
   "source": [
    "#seting thershold as 80\n",
    "popularity_threshold = 80\n",
    "# sort the result based on thershgold value\n",
    "popular_book = result[result['Total-Rating'] >= popularity_threshold]\n",
    "popular_book = popular_book.reset_index(drop = True)\n",
    "#print the shape of popular books\n",
    "popular_book.shape"
   ]
  },
  {
   "cell_type": "code",
   "execution_count": 114,
   "id": "6ae3c822",
   "metadata": {},
   "outputs": [],
   "source": [
    "from sklearn.feature_extraction.text import TfidfVectorizer"
   ]
  },
  {
   "cell_type": "code",
   "execution_count": 115,
   "id": "6521dc95",
   "metadata": {},
   "outputs": [
    {
     "data": {
      "text/plain": [
       "(44115, 1098)"
      ]
     },
     "execution_count": 115,
     "metadata": {},
     "output_type": "execute_result"
    }
   ],
   "source": [
    "#using TF vectorizer function\n",
    "tf = TfidfVectorizer(ngram_range=(1, 2), min_df = 1, stop_words='english')\n",
    "#fit the Tf vectoriser model\n",
    "tfidf_matrix = tf.fit_transform(popular_book['Book-Title'])\n",
    "tfidf_matrix.shape"
   ]
  },
  {
   "cell_type": "code",
   "execution_count": 116,
   "id": "2f96d2bd",
   "metadata": {},
   "outputs": [
    {
     "data": {
      "text/plain": [
       "(44115, 44115)"
      ]
     },
     "execution_count": 116,
     "metadata": {},
     "output_type": "execute_result"
    }
   ],
   "source": [
    "# normalising the df\n",
    "normalized_df = tfidf_matrix.astype(np.float32)\n",
    "#checking for cosine similarity\n",
    "cosine_similarities = cosine_similarity(normalized_df, normalized_df)\n",
    "#checking the shape\n",
    "cosine_similarities.shape"
   ]
  },
  {
   "cell_type": "markdown",
   "id": "8862f4ea",
   "metadata": {},
   "source": [
    "+ Data Preprocessing:\n",
    "  + It groups the dataset by book titles and counts the total ratings for each book.\n",
    "  + It filters out books with total ratings below a specified popularity threshold.\n",
    "  + It constructs a TF-IDF matrix from the book titles using the TfidfVectorizer from scikit-learn.\n",
    "+ Calculating Similarity:\n",
    "  + It computes the cosine similarity between each pair of books based on their TF-IDF vectors.\n",
    "  + The resulting cosine similarity matrix has dimensions (44115, 44115), where each row and column represent a book in the dataset."
   ]
  },
  {
   "cell_type": "code",
   "execution_count": 117,
   "id": "a9485898",
   "metadata": {},
   "outputs": [
    {
     "name": "stdout",
     "output_type": "stream",
     "text": [
      "Recommended Books:\n",
      "\n",
      "House of Sand and Fog\n",
      "Icy Sparks\n",
      "I Know This Much Is True\n",
      "How to Be Good\n",
      "\\O\\\" Is for Outlaw\"\n"
     ]
    }
   ],
   "source": [
    "print(\"Recommended Books:\\n\")\n",
    "isbn = Book.loc[Book['Book-Title'] == bookName].reset_index(drop = True).iloc[0]['ISBN']\n",
    "content = []\n",
    "\n",
    "idx = popular_book.index[popular_book['ISBN'] == isbn].tolist()[0]\n",
    "similar_indices = cosine_similarities[idx].argsort()[::-1]\n",
    "similar_items = []\n",
    "for i in similar_indices:\n",
    "    if popular_book['Book-Title'][i] != bookName and popular_book['Book-Title'][i] not in similar_items and len(similar_items) < number:\n",
    "        similar_items.append(popular_book['Book-Title'][i])\n",
    "        content.append(popular_book['Book-Title'][i])\n",
    "\n",
    "for book in similar_items:\n",
    "    print(book)"
   ]
  },
  {
   "cell_type": "markdown",
   "id": "44a6fcae",
   "metadata": {},
   "source": [
    "+ Finding Similar Books:\n",
    "  + It locates the index of the given book in the popular_book dataframe.\n",
    "  + It identifies the indices of books similar to the given book based on the cosine similarity scores.\n",
    "  + It retrieves the titles of similar books while ensuring that duplicates and the given book itself are excluded.\n",
    "+ Printing Recommended Books:\n",
    "  + It prints the recommended books based on their similarity to the given book.\n",
    "\n",
    "\n",
    "The output displays the recommended books along with their titles. These recommendations are generated based on the similarity of book titles using TF-IDF vectors and cosine similarity."
   ]
  },
  {
   "cell_type": "markdown",
   "id": "45ecb020",
   "metadata": {},
   "source": [
    "#### 5)Hybrid Approach (Content+Collaborative) Using percentile"
   ]
  },
  {
   "cell_type": "code",
   "execution_count": 118,
   "id": "7adb4973",
   "metadata": {},
   "outputs": [],
   "source": [
    "import operator"
   ]
  },
  {
   "cell_type": "code",
   "execution_count": 119,
   "id": "a0c9ef4a",
   "metadata": {},
   "outputs": [
    {
     "name": "stdout",
     "output_type": "stream",
     "text": [
      "Input Book:\n",
      "\n",
      "The Da Vinci Code\n",
      "\n",
      "Recommended Books:\n",
      "\n",
      "Middlesex: A Novel\n",
      "House of Sand and Fog\n",
      "Angels &amp; Demons\n",
      "Icy Sparks\n",
      "The Lovely Bones: A Novel\n"
     ]
    }
   ],
   "source": [
    "#creating a list\n",
    "z = list()\n",
    "k = float(1/number)\n",
    "for x in range(number):\n",
    "      z.append(1-k*x)\n",
    "\n",
    "dictISBN = {}\n",
    "#checking for recomendation using collebrative filtering\n",
    "for x in collaborative:\n",
    "      dictISBN[x] = z[collaborative.index(x)]\n",
    "\n",
    "#using content based filtering to check the recomendations\n",
    "for x in content:\n",
    "    if x not in dictISBN:\n",
    "        dictISBN[x] = z[content.index(x)]\n",
    "    else:\n",
    "        dictISBN[x] += z[content.index(x)]\n",
    "# take common from both recomendation systems   \n",
    "# store in a dict     \n",
    "ISBN = dict(sorted(dictISBN.items(),key=operator.itemgetter(1),reverse=True))\n",
    "w=0\n",
    "print(\"Input Book:\\n\")\n",
    "#print the input book name\n",
    "print(bookName)\n",
    "#print the recomenmned books\n",
    "print(\"\\nRecommended Books:\\n\")\n",
    "for x in ISBN.keys():\n",
    "    if w>=number:\n",
    "        break\n",
    "    w+=1\n",
    "    print(x)"
   ]
  },
  {
   "cell_type": "markdown",
   "id": "95e304bb",
   "metadata": {},
   "source": [
    "+ Creating Weighted Scores:\n",
    "   - It initializes a list `z` containing weights for each recommendation, with higher weights assigned to top recommendations.\n",
    "   - The weights are calculated such that the first recommendation receives the highest weight, and subsequent recommendations receive progressively lower weights.\n",
    "\n",
    "+ Collaborative Filtering:\n",
    "   - For each book recommended by the collaborative filtering approach, it assigns a weighted score based on its position in the list of recommendations.\n",
    "   - The higher the position, the higher the weight assigned.\n",
    "\n",
    "+ Content-Based Filtering:\n",
    "   - For each book recommended by the content-based filtering approach, it assigns a weighted score similarly based on its position in the list of recommendations.\n",
    "\n",
    "+ Combining Recommendations:\n",
    "   - It combines the recommendations from both filtering approaches into a dictionary `dictISBN`, where the keys are book titles (ISBNs) and the values are the combined weighted scores.\n",
    "+ Sorting Recommendations:\n",
    "   + It sorts the recommendations based on their weighted scores in descending order.\n",
    "\n",
    "+ Printing Recommendations:\n",
    "   - It prints the input book name.\n",
    "   - It prints the recommended books along with their titles, limited to the specified number of recommendations.\n",
    "\n",
    "+ Output:\n",
    "   - The output displays the input book name followed by the recommended books, where the recommendations are a combination of collaborative and content-based filtering, sorted based on their weighted scores.\n",
    "\n",
    "\n",
    "This hybrid approach leverages both collaborative and content-based filtering to provide recommendations that are weighted based on their positions in the list of recommendations generated by each method. The result is a set of recommendations that combines the strengths of both approaches."
   ]
  },
  {
   "cell_type": "markdown",
   "id": "711ca4fd",
   "metadata": {},
   "source": [
    "1. **Single Approach Summary:**\n",
    "   - Collaborative Filtering: Recommends books based on the preferences and behaviors of similar users. It relies on user-item interactions to generate recommendations. For example, recommending books that users with similar reading habits have enjoyed.\n",
    "   - Content-Based Filtering: Recommends books based on the content features of items. It analyzes item attributes such as book titles, authors, and descriptions to identify similar items. For example, recommending books with similar themes or genres to those previously liked by the user.\n",
    "   - Correlation-Based: Recommends books based on the correlation between user ratings for different books. It identifies books that have a high correlation in user ratings, indicating similar user preferences.\n",
    "   - Hybrid Approach: Combines collaborative and content-based filtering to provide recommendations that leverage the strengths of both approaches. By weighting recommendations from both methods and combining them, it aims to provide more accurate and diverse recommendations.\n",
    "\n",
    "2. **Performance Evaluation:**\n",
    "   - Each approach has its advantages and limitations. Collaborative filtering may suffer from the cold start problem for new users or items with limited interaction data. Content-based filtering may struggle to capture user preferences that are not explicitly represented in item features. Correlation-based filtering relies heavily on user ratings and may not capture more subtle relationships between items.\n",
    "   - The hybrid approach attempts to mitigate these limitations by combining multiple recommendation strategies. By leveraging both collaborative and content-based methods, it can provide more robust and diverse recommendations.\n",
    "\n",
    "3. **Recommendation Quality:**\n",
    "   - The quality of recommendations can be evaluated based on factors such as relevance, diversity, and serendipity. Relevance refers to how well the recommended items match the user's interests. Diversity ensures that recommendations cover a wide range of genres or topics, catering to different user preferences. Serendipity refers to the ability to recommend unexpected but enjoyable items, enhancing the user's discovery experience.\n",
    "   - The hybrid approach aims to enhance recommendation quality by considering a broader range of factors and leveraging complementary recommendation strategies.\n",
    "\n",
    "4. **User Experience:**\n",
    "   - Ultimately, the success of a recommendation system depends on user satisfaction and engagement. Providing accurate, diverse, and personalized recommendations can enhance the user experience and increase user retention. It's essential to continually evaluate and refine recommendation algorithms based on user feedback and performance metrics.\n",
    "\n",
    "5. **Future Directions:**\n",
    "   - Further improvements can be made to recommendation algorithms by incorporating additional data sources, such as user demographics, browsing history, or social network information. Advanced machine learning techniques, such as deep learning or reinforcement learning, can also be explored to enhance recommendation accuracy and scalability.\n",
    "   - Experimentation with novel recommendation approaches, such as knowledge-based or context-aware methods, can help address specific user needs or preferences more effectively.\n",
    "   - Continuous monitoring and evaluation of recommendation system performance are crucial for identifying areas of improvement and adapting to evolving user preferences and behaviors.\n",
    "\n"
   ]
  },
  {
   "cell_type": "markdown",
   "id": "fb196d73",
   "metadata": {},
   "source": [
    "The recommendation system should aim to provide accurate, diverse, and personalized recommendations by leveraging multiple recommendation strategies and continuously refining algorithms based on user feedback and performance metrics. The hybrid approach offers a promising solution by combining collaborative and content-based filtering techniques to deliver more robust and effective recommendations."
   ]
  }
 ],
 "metadata": {
  "kernelspec": {
   "display_name": "Python 3 (ipykernel)",
   "language": "python",
   "name": "python3"
  },
  "language_info": {
   "codemirror_mode": {
    "name": "ipython",
    "version": 3
   },
   "file_extension": ".py",
   "mimetype": "text/x-python",
   "name": "python",
   "nbconvert_exporter": "python",
   "pygments_lexer": "ipython3",
   "version": "3.9.19"
  }
 },
 "nbformat": 4,
 "nbformat_minor": 5
}
